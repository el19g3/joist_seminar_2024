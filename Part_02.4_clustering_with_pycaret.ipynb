{
 "cells": [
  {
   "cell_type": "markdown",
   "metadata": {},
   "source": [
    "### Ομαδοποίηση με χρήση της βιβλιοθήκης pycaret\n",
    "\n",
    "* Η βιβλιοθήκη pycaret περιλαμβάνει και αλγορίθμους ομαδοποίησης (clustering).\n",
    "\n",
    "* Οι αλγόριθμοι ελέγχονται μέσω πληθώρας διαφορετικών μετρικών (π.χ: silhouette score, Calinsky-Harabasz index, κλπ)."
   ]
  },
  {
   "cell_type": "code",
   "execution_count": 1,
   "metadata": {},
   "outputs": [],
   "source": [
    "import pandas as pd\n",
    "from pycaret import clustering as clust"
   ]
  },
  {
   "cell_type": "code",
   "execution_count": 2,
   "metadata": {},
   "outputs": [
    {
     "data": {
      "text/html": [
       "<div>\n",
       "<style scoped>\n",
       "    .dataframe tbody tr th:only-of-type {\n",
       "        vertical-align: middle;\n",
       "    }\n",
       "\n",
       "    .dataframe tbody tr th {\n",
       "        vertical-align: top;\n",
       "    }\n",
       "\n",
       "    .dataframe thead th {\n",
       "        text-align: right;\n",
       "    }\n",
       "</style>\n",
       "<table border=\"1\" class=\"dataframe\">\n",
       "  <thead>\n",
       "    <tr style=\"text-align: right;\">\n",
       "      <th></th>\n",
       "      <th>age</th>\n",
       "      <th>sex</th>\n",
       "      <th>cp</th>\n",
       "      <th>trestbps</th>\n",
       "      <th>chol</th>\n",
       "      <th>fbs</th>\n",
       "      <th>restecg</th>\n",
       "      <th>thalach</th>\n",
       "      <th>exang</th>\n",
       "      <th>oldpeak</th>\n",
       "      <th>slope</th>\n",
       "      <th>ca</th>\n",
       "      <th>thal</th>\n",
       "      <th>tag</th>\n",
       "    </tr>\n",
       "  </thead>\n",
       "  <tbody>\n",
       "    <tr>\n",
       "      <th>0</th>\n",
       "      <td>63</td>\n",
       "      <td>1</td>\n",
       "      <td>1</td>\n",
       "      <td>145</td>\n",
       "      <td>233</td>\n",
       "      <td>1</td>\n",
       "      <td>2</td>\n",
       "      <td>150</td>\n",
       "      <td>0</td>\n",
       "      <td>2.3</td>\n",
       "      <td>3</td>\n",
       "      <td>0.0</td>\n",
       "      <td>6.0</td>\n",
       "      <td>0</td>\n",
       "    </tr>\n",
       "    <tr>\n",
       "      <th>1</th>\n",
       "      <td>67</td>\n",
       "      <td>1</td>\n",
       "      <td>4</td>\n",
       "      <td>160</td>\n",
       "      <td>286</td>\n",
       "      <td>0</td>\n",
       "      <td>2</td>\n",
       "      <td>108</td>\n",
       "      <td>1</td>\n",
       "      <td>1.5</td>\n",
       "      <td>2</td>\n",
       "      <td>3.0</td>\n",
       "      <td>3.0</td>\n",
       "      <td>1</td>\n",
       "    </tr>\n",
       "    <tr>\n",
       "      <th>2</th>\n",
       "      <td>67</td>\n",
       "      <td>1</td>\n",
       "      <td>4</td>\n",
       "      <td>120</td>\n",
       "      <td>229</td>\n",
       "      <td>0</td>\n",
       "      <td>2</td>\n",
       "      <td>129</td>\n",
       "      <td>1</td>\n",
       "      <td>2.6</td>\n",
       "      <td>2</td>\n",
       "      <td>2.0</td>\n",
       "      <td>7.0</td>\n",
       "      <td>1</td>\n",
       "    </tr>\n",
       "    <tr>\n",
       "      <th>3</th>\n",
       "      <td>37</td>\n",
       "      <td>1</td>\n",
       "      <td>3</td>\n",
       "      <td>130</td>\n",
       "      <td>250</td>\n",
       "      <td>0</td>\n",
       "      <td>0</td>\n",
       "      <td>187</td>\n",
       "      <td>0</td>\n",
       "      <td>3.5</td>\n",
       "      <td>3</td>\n",
       "      <td>0.0</td>\n",
       "      <td>3.0</td>\n",
       "      <td>0</td>\n",
       "    </tr>\n",
       "    <tr>\n",
       "      <th>4</th>\n",
       "      <td>41</td>\n",
       "      <td>0</td>\n",
       "      <td>2</td>\n",
       "      <td>130</td>\n",
       "      <td>204</td>\n",
       "      <td>0</td>\n",
       "      <td>2</td>\n",
       "      <td>172</td>\n",
       "      <td>0</td>\n",
       "      <td>1.4</td>\n",
       "      <td>1</td>\n",
       "      <td>0.0</td>\n",
       "      <td>3.0</td>\n",
       "      <td>0</td>\n",
       "    </tr>\n",
       "    <tr>\n",
       "      <th>...</th>\n",
       "      <td>...</td>\n",
       "      <td>...</td>\n",
       "      <td>...</td>\n",
       "      <td>...</td>\n",
       "      <td>...</td>\n",
       "      <td>...</td>\n",
       "      <td>...</td>\n",
       "      <td>...</td>\n",
       "      <td>...</td>\n",
       "      <td>...</td>\n",
       "      <td>...</td>\n",
       "      <td>...</td>\n",
       "      <td>...</td>\n",
       "      <td>...</td>\n",
       "    </tr>\n",
       "    <tr>\n",
       "      <th>292</th>\n",
       "      <td>57</td>\n",
       "      <td>0</td>\n",
       "      <td>4</td>\n",
       "      <td>140</td>\n",
       "      <td>241</td>\n",
       "      <td>0</td>\n",
       "      <td>0</td>\n",
       "      <td>123</td>\n",
       "      <td>1</td>\n",
       "      <td>0.2</td>\n",
       "      <td>2</td>\n",
       "      <td>0.0</td>\n",
       "      <td>7.0</td>\n",
       "      <td>1</td>\n",
       "    </tr>\n",
       "    <tr>\n",
       "      <th>293</th>\n",
       "      <td>45</td>\n",
       "      <td>1</td>\n",
       "      <td>1</td>\n",
       "      <td>110</td>\n",
       "      <td>264</td>\n",
       "      <td>0</td>\n",
       "      <td>0</td>\n",
       "      <td>132</td>\n",
       "      <td>0</td>\n",
       "      <td>1.2</td>\n",
       "      <td>2</td>\n",
       "      <td>0.0</td>\n",
       "      <td>7.0</td>\n",
       "      <td>1</td>\n",
       "    </tr>\n",
       "    <tr>\n",
       "      <th>294</th>\n",
       "      <td>68</td>\n",
       "      <td>1</td>\n",
       "      <td>4</td>\n",
       "      <td>144</td>\n",
       "      <td>193</td>\n",
       "      <td>1</td>\n",
       "      <td>0</td>\n",
       "      <td>141</td>\n",
       "      <td>0</td>\n",
       "      <td>3.4</td>\n",
       "      <td>2</td>\n",
       "      <td>2.0</td>\n",
       "      <td>7.0</td>\n",
       "      <td>1</td>\n",
       "    </tr>\n",
       "    <tr>\n",
       "      <th>295</th>\n",
       "      <td>57</td>\n",
       "      <td>1</td>\n",
       "      <td>4</td>\n",
       "      <td>130</td>\n",
       "      <td>131</td>\n",
       "      <td>0</td>\n",
       "      <td>0</td>\n",
       "      <td>115</td>\n",
       "      <td>1</td>\n",
       "      <td>1.2</td>\n",
       "      <td>2</td>\n",
       "      <td>1.0</td>\n",
       "      <td>7.0</td>\n",
       "      <td>1</td>\n",
       "    </tr>\n",
       "    <tr>\n",
       "      <th>296</th>\n",
       "      <td>57</td>\n",
       "      <td>0</td>\n",
       "      <td>2</td>\n",
       "      <td>130</td>\n",
       "      <td>236</td>\n",
       "      <td>0</td>\n",
       "      <td>2</td>\n",
       "      <td>174</td>\n",
       "      <td>0</td>\n",
       "      <td>0.0</td>\n",
       "      <td>2</td>\n",
       "      <td>1.0</td>\n",
       "      <td>3.0</td>\n",
       "      <td>1</td>\n",
       "    </tr>\n",
       "  </tbody>\n",
       "</table>\n",
       "<p>297 rows × 14 columns</p>\n",
       "</div>"
      ],
      "text/plain": [
       "     age  sex  cp  trestbps  chol  fbs  restecg  thalach  exang  oldpeak  \\\n",
       "0     63    1   1       145   233    1        2      150      0      2.3   \n",
       "1     67    1   4       160   286    0        2      108      1      1.5   \n",
       "2     67    1   4       120   229    0        2      129      1      2.6   \n",
       "3     37    1   3       130   250    0        0      187      0      3.5   \n",
       "4     41    0   2       130   204    0        2      172      0      1.4   \n",
       "..   ...  ...  ..       ...   ...  ...      ...      ...    ...      ...   \n",
       "292   57    0   4       140   241    0        0      123      1      0.2   \n",
       "293   45    1   1       110   264    0        0      132      0      1.2   \n",
       "294   68    1   4       144   193    1        0      141      0      3.4   \n",
       "295   57    1   4       130   131    0        0      115      1      1.2   \n",
       "296   57    0   2       130   236    0        2      174      0      0.0   \n",
       "\n",
       "     slope   ca  thal  tag  \n",
       "0        3  0.0   6.0    0  \n",
       "1        2  3.0   3.0    1  \n",
       "2        2  2.0   7.0    1  \n",
       "3        3  0.0   3.0    0  \n",
       "4        1  0.0   3.0    0  \n",
       "..     ...  ...   ...  ...  \n",
       "292      2  0.0   7.0    1  \n",
       "293      2  0.0   7.0    1  \n",
       "294      2  2.0   7.0    1  \n",
       "295      2  1.0   7.0    1  \n",
       "296      2  1.0   3.0    1  \n",
       "\n",
       "[297 rows x 14 columns]"
      ]
     },
     "execution_count": 2,
     "metadata": {},
     "output_type": "execute_result"
    }
   ],
   "source": [
    "df = pd.read_csv(\"./data/uci_heart_failure/uci_hf_df.csv\")\n",
    "# df = df.drop(['tag'], axis=1)\n",
    "df"
   ]
  },
  {
   "cell_type": "markdown",
   "metadata": {},
   "source": [
    "* \"Στήνουμε\" το πείραμα της βιβλιοθήκης pycaret.\n",
    "\n",
    "* Εφόσον πρόκειται για πείραμα μη-επιβλεπόμενης μάθησης (unsupervised learning: clustering), θα πρέπει να αγνοήσουμε την μεταβλητή εξόδου που χρησιμοποιούσαμε στο πείραμα δυαδικής ταξινόμησης (binary classification)."
   ]
  },
  {
   "cell_type": "code",
   "execution_count": 3,
   "metadata": {},
   "outputs": [
    {
     "data": {
      "text/html": [
       "<style type=\"text/css\">\n",
       "#T_cb74a_row5_col1 {\n",
       "  background-color: lightgreen;\n",
       "}\n",
       "</style>\n",
       "<table id=\"T_cb74a\">\n",
       "  <thead>\n",
       "    <tr>\n",
       "      <th class=\"blank level0\" >&nbsp;</th>\n",
       "      <th id=\"T_cb74a_level0_col0\" class=\"col_heading level0 col0\" >Description</th>\n",
       "      <th id=\"T_cb74a_level0_col1\" class=\"col_heading level0 col1\" >Value</th>\n",
       "    </tr>\n",
       "  </thead>\n",
       "  <tbody>\n",
       "    <tr>\n",
       "      <th id=\"T_cb74a_level0_row0\" class=\"row_heading level0 row0\" >0</th>\n",
       "      <td id=\"T_cb74a_row0_col0\" class=\"data row0 col0\" >Session id</td>\n",
       "      <td id=\"T_cb74a_row0_col1\" class=\"data row0 col1\" >123</td>\n",
       "    </tr>\n",
       "    <tr>\n",
       "      <th id=\"T_cb74a_level0_row1\" class=\"row_heading level0 row1\" >1</th>\n",
       "      <td id=\"T_cb74a_row1_col0\" class=\"data row1 col0\" >Original data shape</td>\n",
       "      <td id=\"T_cb74a_row1_col1\" class=\"data row1 col1\" >(297, 14)</td>\n",
       "    </tr>\n",
       "    <tr>\n",
       "      <th id=\"T_cb74a_level0_row2\" class=\"row_heading level0 row2\" >2</th>\n",
       "      <td id=\"T_cb74a_row2_col0\" class=\"data row2 col0\" >Transformed data shape</td>\n",
       "      <td id=\"T_cb74a_row2_col1\" class=\"data row2 col1\" >(297, 13)</td>\n",
       "    </tr>\n",
       "    <tr>\n",
       "      <th id=\"T_cb74a_level0_row3\" class=\"row_heading level0 row3\" >3</th>\n",
       "      <td id=\"T_cb74a_row3_col0\" class=\"data row3 col0\" >Ignore features</td>\n",
       "      <td id=\"T_cb74a_row3_col1\" class=\"data row3 col1\" >1</td>\n",
       "    </tr>\n",
       "    <tr>\n",
       "      <th id=\"T_cb74a_level0_row4\" class=\"row_heading level0 row4\" >4</th>\n",
       "      <td id=\"T_cb74a_row4_col0\" class=\"data row4 col0\" >Numeric features</td>\n",
       "      <td id=\"T_cb74a_row4_col1\" class=\"data row4 col1\" >13</td>\n",
       "    </tr>\n",
       "    <tr>\n",
       "      <th id=\"T_cb74a_level0_row5\" class=\"row_heading level0 row5\" >5</th>\n",
       "      <td id=\"T_cb74a_row5_col0\" class=\"data row5 col0\" >Preprocess</td>\n",
       "      <td id=\"T_cb74a_row5_col1\" class=\"data row5 col1\" >True</td>\n",
       "    </tr>\n",
       "    <tr>\n",
       "      <th id=\"T_cb74a_level0_row6\" class=\"row_heading level0 row6\" >6</th>\n",
       "      <td id=\"T_cb74a_row6_col0\" class=\"data row6 col0\" >Imputation type</td>\n",
       "      <td id=\"T_cb74a_row6_col1\" class=\"data row6 col1\" >simple</td>\n",
       "    </tr>\n",
       "    <tr>\n",
       "      <th id=\"T_cb74a_level0_row7\" class=\"row_heading level0 row7\" >7</th>\n",
       "      <td id=\"T_cb74a_row7_col0\" class=\"data row7 col0\" >Numeric imputation</td>\n",
       "      <td id=\"T_cb74a_row7_col1\" class=\"data row7 col1\" >mean</td>\n",
       "    </tr>\n",
       "    <tr>\n",
       "      <th id=\"T_cb74a_level0_row8\" class=\"row_heading level0 row8\" >8</th>\n",
       "      <td id=\"T_cb74a_row8_col0\" class=\"data row8 col0\" >Categorical imputation</td>\n",
       "      <td id=\"T_cb74a_row8_col1\" class=\"data row8 col1\" >mode</td>\n",
       "    </tr>\n",
       "    <tr>\n",
       "      <th id=\"T_cb74a_level0_row9\" class=\"row_heading level0 row9\" >9</th>\n",
       "      <td id=\"T_cb74a_row9_col0\" class=\"data row9 col0\" >CPU Jobs</td>\n",
       "      <td id=\"T_cb74a_row9_col1\" class=\"data row9 col1\" >-1</td>\n",
       "    </tr>\n",
       "    <tr>\n",
       "      <th id=\"T_cb74a_level0_row10\" class=\"row_heading level0 row10\" >10</th>\n",
       "      <td id=\"T_cb74a_row10_col0\" class=\"data row10 col0\" >Use GPU</td>\n",
       "      <td id=\"T_cb74a_row10_col1\" class=\"data row10 col1\" >False</td>\n",
       "    </tr>\n",
       "    <tr>\n",
       "      <th id=\"T_cb74a_level0_row11\" class=\"row_heading level0 row11\" >11</th>\n",
       "      <td id=\"T_cb74a_row11_col0\" class=\"data row11 col0\" >Log Experiment</td>\n",
       "      <td id=\"T_cb74a_row11_col1\" class=\"data row11 col1\" >MlflowLogger</td>\n",
       "    </tr>\n",
       "    <tr>\n",
       "      <th id=\"T_cb74a_level0_row12\" class=\"row_heading level0 row12\" >12</th>\n",
       "      <td id=\"T_cb74a_row12_col0\" class=\"data row12 col0\" >Experiment Name</td>\n",
       "      <td id=\"T_cb74a_row12_col1\" class=\"data row12 col1\" >heart_fail</td>\n",
       "    </tr>\n",
       "    <tr>\n",
       "      <th id=\"T_cb74a_level0_row13\" class=\"row_heading level0 row13\" >13</th>\n",
       "      <td id=\"T_cb74a_row13_col0\" class=\"data row13 col0\" >USI</td>\n",
       "      <td id=\"T_cb74a_row13_col1\" class=\"data row13 col1\" >4538</td>\n",
       "    </tr>\n",
       "  </tbody>\n",
       "</table>\n"
      ],
      "text/plain": [
       "<pandas.io.formats.style.Styler at 0x241028f7cd0>"
      ]
     },
     "metadata": {},
     "output_type": "display_data"
    }
   ],
   "source": [
    "s = clust.setup(df, session_id = 123, ignore_features=[\"tag\"], log_experiment=True, \n",
    "                log_plots=True, experiment_name=\"heart_fail\")"
   ]
  },
  {
   "cell_type": "markdown",
   "metadata": {},
   "source": [
    "* Μπορούμε εύκολα να δούμε ποιοί αλγόριθμοι clustering είναι διαθέσιμοι"
   ]
  },
  {
   "cell_type": "code",
   "execution_count": 4,
   "metadata": {},
   "outputs": [
    {
     "data": {
      "text/html": [
       "<div>\n",
       "<style scoped>\n",
       "    .dataframe tbody tr th:only-of-type {\n",
       "        vertical-align: middle;\n",
       "    }\n",
       "\n",
       "    .dataframe tbody tr th {\n",
       "        vertical-align: top;\n",
       "    }\n",
       "\n",
       "    .dataframe thead th {\n",
       "        text-align: right;\n",
       "    }\n",
       "</style>\n",
       "<table border=\"1\" class=\"dataframe\">\n",
       "  <thead>\n",
       "    <tr style=\"text-align: right;\">\n",
       "      <th></th>\n",
       "      <th>Name</th>\n",
       "      <th>Reference</th>\n",
       "    </tr>\n",
       "    <tr>\n",
       "      <th>ID</th>\n",
       "      <th></th>\n",
       "      <th></th>\n",
       "    </tr>\n",
       "  </thead>\n",
       "  <tbody>\n",
       "    <tr>\n",
       "      <th>kmeans</th>\n",
       "      <td>K-Means Clustering</td>\n",
       "      <td>sklearn.cluster._kmeans.KMeans</td>\n",
       "    </tr>\n",
       "    <tr>\n",
       "      <th>ap</th>\n",
       "      <td>Affinity Propagation</td>\n",
       "      <td>sklearn.cluster._affinity_propagation.Affinity...</td>\n",
       "    </tr>\n",
       "    <tr>\n",
       "      <th>meanshift</th>\n",
       "      <td>Mean Shift Clustering</td>\n",
       "      <td>sklearn.cluster._mean_shift.MeanShift</td>\n",
       "    </tr>\n",
       "    <tr>\n",
       "      <th>sc</th>\n",
       "      <td>Spectral Clustering</td>\n",
       "      <td>sklearn.cluster._spectral.SpectralClustering</td>\n",
       "    </tr>\n",
       "    <tr>\n",
       "      <th>hclust</th>\n",
       "      <td>Agglomerative Clustering</td>\n",
       "      <td>sklearn.cluster._agglomerative.AgglomerativeCl...</td>\n",
       "    </tr>\n",
       "    <tr>\n",
       "      <th>dbscan</th>\n",
       "      <td>Density-Based Spatial Clustering</td>\n",
       "      <td>sklearn.cluster._dbscan.DBSCAN</td>\n",
       "    </tr>\n",
       "    <tr>\n",
       "      <th>optics</th>\n",
       "      <td>OPTICS Clustering</td>\n",
       "      <td>sklearn.cluster._optics.OPTICS</td>\n",
       "    </tr>\n",
       "    <tr>\n",
       "      <th>birch</th>\n",
       "      <td>Birch Clustering</td>\n",
       "      <td>sklearn.cluster._birch.Birch</td>\n",
       "    </tr>\n",
       "    <tr>\n",
       "      <th>kmodes</th>\n",
       "      <td>K-Modes Clustering</td>\n",
       "      <td>kmodes.kmodes.KModes</td>\n",
       "    </tr>\n",
       "  </tbody>\n",
       "</table>\n",
       "</div>"
      ],
      "text/plain": [
       "                                       Name  \\\n",
       "ID                                            \n",
       "kmeans                   K-Means Clustering   \n",
       "ap                     Affinity Propagation   \n",
       "meanshift             Mean Shift Clustering   \n",
       "sc                      Spectral Clustering   \n",
       "hclust             Agglomerative Clustering   \n",
       "dbscan     Density-Based Spatial Clustering   \n",
       "optics                    OPTICS Clustering   \n",
       "birch                      Birch Clustering   \n",
       "kmodes                   K-Modes Clustering   \n",
       "\n",
       "                                                   Reference  \n",
       "ID                                                            \n",
       "kmeans                        sklearn.cluster._kmeans.KMeans  \n",
       "ap         sklearn.cluster._affinity_propagation.Affinity...  \n",
       "meanshift              sklearn.cluster._mean_shift.MeanShift  \n",
       "sc              sklearn.cluster._spectral.SpectralClustering  \n",
       "hclust     sklearn.cluster._agglomerative.AgglomerativeCl...  \n",
       "dbscan                        sklearn.cluster._dbscan.DBSCAN  \n",
       "optics                        sklearn.cluster._optics.OPTICS  \n",
       "birch                           sklearn.cluster._birch.Birch  \n",
       "kmodes                                  kmodes.kmodes.KModes  "
      ]
     },
     "execution_count": 4,
     "metadata": {},
     "output_type": "execute_result"
    }
   ],
   "source": [
    "clust.models()"
   ]
  },
  {
   "cell_type": "code",
   "execution_count": 5,
   "metadata": {},
   "outputs": [
    {
     "data": {
      "text/html": [],
      "text/plain": [
       "<IPython.core.display.HTML object>"
      ]
     },
     "metadata": {},
     "output_type": "display_data"
    },
    {
     "data": {
      "text/html": [
       "<style type=\"text/css\">\n",
       "</style>\n",
       "<table id=\"T_d7940\">\n",
       "  <thead>\n",
       "    <tr>\n",
       "      <th class=\"blank level0\" >&nbsp;</th>\n",
       "      <th id=\"T_d7940_level0_col0\" class=\"col_heading level0 col0\" >Silhouette</th>\n",
       "      <th id=\"T_d7940_level0_col1\" class=\"col_heading level0 col1\" >Calinski-Harabasz</th>\n",
       "      <th id=\"T_d7940_level0_col2\" class=\"col_heading level0 col2\" >Davies-Bouldin</th>\n",
       "      <th id=\"T_d7940_level0_col3\" class=\"col_heading level0 col3\" >Homogeneity</th>\n",
       "      <th id=\"T_d7940_level0_col4\" class=\"col_heading level0 col4\" >Rand Index</th>\n",
       "      <th id=\"T_d7940_level0_col5\" class=\"col_heading level0 col5\" >Completeness</th>\n",
       "    </tr>\n",
       "  </thead>\n",
       "  <tbody>\n",
       "    <tr>\n",
       "      <th id=\"T_d7940_level0_row0\" class=\"row_heading level0 row0\" >0</th>\n",
       "      <td id=\"T_d7940_row0_col0\" class=\"data row0 col0\" >0.3858</td>\n",
       "      <td id=\"T_d7940_row0_col1\" class=\"data row0 col1\" >235.1462</td>\n",
       "      <td id=\"T_d7940_row0_col2\" class=\"data row0 col2\" >0.9731</td>\n",
       "      <td id=\"T_d7940_row0_col3\" class=\"data row0 col3\" >0</td>\n",
       "      <td id=\"T_d7940_row0_col4\" class=\"data row0 col4\" >0</td>\n",
       "      <td id=\"T_d7940_row0_col5\" class=\"data row0 col5\" >0</td>\n",
       "    </tr>\n",
       "  </tbody>\n",
       "</table>\n"
      ],
      "text/plain": [
       "<pandas.io.formats.style.Styler at 0x24108f613f0>"
      ]
     },
     "metadata": {},
     "output_type": "display_data"
    },
    {
     "data": {
      "text/html": [],
      "text/plain": [
       "<IPython.core.display.HTML object>"
      ]
     },
     "metadata": {},
     "output_type": "display_data"
    }
   ],
   "source": [
    "kmeans = clust.create_model('kmeans', num_clusters=2)\n",
    "# hclust = clust.create_model(\"hclust\", num_clusters=2)\n",
    "# dbscan = clust.create_model(\"dbscan\", num_clusters=2)\n",
    "# spectral = clust.create_model(\"sc\", num_clusters=2)\n",
    "# kmodes = clust.create_model(\"kmodes\", num_clusters=2)"
   ]
  },
  {
   "cell_type": "code",
   "execution_count": 6,
   "metadata": {},
   "outputs": [],
   "source": [
    "kmeans_cluster = clust.assign_model(kmeans)\n",
    "# hclust_cluster = clust.assign_model(hclust)\n",
    "# dbscan_cluster = clust.assign_model(dbscan)\n",
    "# spectral_cluster = clust.assign_model(spectral)\n",
    "# kmodes_cluster = clust.assign_model(kmodes)"
   ]
  },
  {
   "cell_type": "markdown",
   "metadata": {},
   "source": [
    "* Δημιουργούμε ένα 2D PCA plot με τα δείγματα του dataset χρωματισμένα με βάση το cluster label που τους έχει δώσει ο αλγόριθμος clustering που χρησιμοποιήθηκε (π.χ: kmeans)."
   ]
  },
  {
   "cell_type": "code",
   "execution_count": 7,
   "metadata": {},
   "outputs": [
    {
     "data": {
      "text/html": [],
      "text/plain": [
       "<IPython.core.display.HTML object>"
      ]
     },
     "metadata": {},
     "output_type": "display_data"
    },
    {
     "data": {
      "application/vnd.plotly.v1+json": {
       "config": {
        "plotlyServerURL": "https://plot.ly"
       },
       "data": [
        {
         "customdata": [
          [
           63
          ],
          [
           45
          ],
          [
           53
          ],
          [
           59
          ],
          [
           64
          ],
          [
           52
          ],
          [
           56
          ],
          [
           53
          ],
          [
           42
          ],
          [
           63
          ],
          [
           42
          ],
          [
           66
          ],
          [
           57
          ],
          [
           69
          ],
          [
           68
          ],
          [
           69
          ],
          [
           45
          ],
          [
           50
          ],
          [
           50
          ],
          [
           57
          ],
          [
           43
          ],
          [
           50
          ],
          [
           62
          ],
          [
           37
          ],
          [
           38
          ],
          [
           50
          ],
          [
           48
          ],
          [
           58
          ],
          [
           54
          ],
          [
           35
          ],
          [
           65
          ],
          [
           48
          ],
          [
           51
          ],
          [
           55
          ],
          [
           45
          ],
          [
           54
          ],
          [
           44
          ],
          [
           62
          ],
          [
           54
          ],
          [
           51
          ],
          [
           29
          ],
          [
           43
          ],
          [
           55
          ],
          [
           70
          ],
          [
           35
          ],
          [
           51
          ],
          [
           59
          ],
          [
           52
          ],
          [
           58
          ],
          [
           47
          ],
          [
           41
          ],
          [
           57
          ],
          [
           64
          ],
          [
           46
          ],
          [
           41
          ],
          [
           66
          ],
          [
           52
          ],
          [
           56
          ],
          [
           40
          ],
          [
           42
          ],
          [
           61
          ],
          [
           66
          ],
          [
           71
          ],
          [
           59
          ],
          [
           64
          ],
          [
           39
          ],
          [
           57
          ],
          [
           58
          ],
          [
           47
          ],
          [
           55
          ],
          [
           35
          ],
          [
           61
          ],
          [
           58
          ],
          [
           56
          ],
          [
           56
          ],
          [
           67
          ],
          [
           44
          ],
          [
           63
          ],
          [
           63
          ],
          [
           41
          ],
          [
           59
          ],
          [
           57
          ],
          [
           68
          ],
          [
           59
          ],
          [
           58
          ],
          [
           61
          ],
          [
           60
          ],
          [
           46
          ],
          [
           46
          ],
          [
           39
          ],
          [
           34
          ],
          [
           47
          ],
          [
           54
          ],
          [
           66
          ],
          [
           52
          ],
          [
           49
          ],
          [
           54
          ],
          [
           46
          ],
          [
           41
          ],
          [
           61
          ],
          [
           60
          ],
          [
           67
          ],
          [
           58
          ],
          [
           52
          ],
          [
           62
          ],
          [
           57
          ],
          [
           58
          ],
          [
           42
          ],
          [
           67
          ],
          [
           76
          ],
          [
           70
          ],
          [
           44
          ],
          [
           44
          ],
          [
           41
          ],
          [
           57
          ],
          [
           66
          ],
          [
           42
          ],
          [
           65
          ],
          [
           44
          ],
          [
           44
          ],
          [
           59
          ],
          [
           60
          ],
          [
           69
          ],
          [
           48
          ],
          [
           40
          ],
          [
           43
          ],
          [
           45
          ],
          [
           65
          ],
          [
           50
          ],
          [
           60
          ],
          [
           58
          ],
          [
           44
          ],
          [
           47
          ],
          [
           67
          ],
          [
           53
          ],
          [
           43
          ],
          [
           61
          ],
          [
           53
          ],
          [
           50
          ],
          [
           51
          ],
          [
           58
          ],
          [
           44
          ],
          [
           60
          ],
          [
           50
          ],
          [
           41
          ],
          [
           51
          ],
          [
           46
          ],
          [
           58
          ],
          [
           59
          ],
          [
           54
          ],
          [
           40
          ],
          [
           65
          ],
          [
           60
          ],
          [
           54
          ],
          [
           46
          ],
          [
           64
          ],
          [
           41
          ],
          [
           41
          ],
          [
           37
          ],
          [
           63
          ],
          [
           57
          ],
          [
           52
          ],
          [
           59
          ],
          [
           56
          ],
          [
           44
          ],
          [
           57
          ],
          [
           52
          ],
          [
           59
          ],
          [
           48
          ],
          [
           45
          ],
          [
           63
          ],
          [
           34
          ],
          [
           53
          ],
          [
           62
          ],
          [
           49
          ],
          [
           56
          ],
          [
           52
          ],
          [
           51
          ],
          [
           54
          ],
          [
           39
          ],
          [
           56
          ],
          [
           57
          ],
          [
           48
          ],
          [
           62
          ],
          [
           52
          ],
          [
           67
          ]
         ],
         "hovertemplate": "Cluster=Cluster 0<br>PCA1=%{x}<br>PCA2=%{y}<br>Feature=%{customdata[0]}<extra></extra>",
         "legendgroup": "Cluster 0",
         "marker": {
          "color": "#636efa",
          "opacity": 0.5,
          "symbol": "circle"
         },
         "mode": "markers",
         "name": "Cluster 0",
         "orientation": "v",
         "showlegend": true,
         "textposition": "top center",
         "type": "scatter",
         "x": [
          -13.325146876054792,
          -88.52333751831372,
          -20.758487365196697,
          3.9913450908338786,
          -34.203008151290234,
          -15.623601660854721,
          -63.06015148509478,
          -1.5310952421932422,
          -3.025834837362257,
          -51.56339799681428,
          -8.491005992377643,
          0.5868833301684255,
          -40.200529447174155,
          7.615754565166341,
          -36.30837817468732,
          -11.299769862441323,
          -11.359986983274643,
          -4.14188545990481,
          5.338644978911788,
          -120.12240477146607,
          -37.8443602623282,
          -46.7427654655422,
          -2.1382498067597226,
          -33.581175773763455,
          -17.597571619773074,
          -51.586599044924036,
          6.944777898150361,
          -0.793211603971941,
          -34.43634330637164,
          -64.68764950211623,
          7.244971915009599,
          8.309061608735872,
          -27.049785482699853,
          -29.76975600429418,
          -13.813414197421215,
          -9.419821254044038,
          -28.334446025233067,
          -38.42062042507995,
          10.014547165893738,
          -22.385659128402256,
          -44.40116900590632,
          -35.241969287147235,
          2.8098304608064417,
          -71.8991059918653,
          -50.54054304074722,
          -2.850645797005349,
          -25.741218207314652,
          -42.62337995277285,
          -8.582824184711155,
          -5.849256006903049,
          1.0671346796430408,
          -116.04452027223302,
          -1.488266608466659,
          -52.1593725839646,
          -33.90719989794057,
          -16.53577022018103,
          -18.44395372921835,
          -54.80988781797224,
          -23.863596122974116,
          -67.77509048870509,
          -39.57347659846471,
          -17.406961837672768,
          -98.50634766220547,
          -43.00765654300126,
          -18.004014561711212,
          -27.55898967050312,
          -14.11140658706889,
          -50.175101527159235,
          5.2073985661758755,
          -42.39394946749857,
          -56.51718170446256,
          -43.20795366751908,
          -20.193113591586002,
          -26.355763470552233,
          -7.927422506514926,
          -33.77332629346541,
          -79.17404770865093,
          -59.46612047928284,
          -50.30688638395522,
          -91.341626371869,
          -69.2613277501455,
          -5.770413206821714,
          -53.08908346357965,
          -29.389078435509287,
          -35.75275255167025,
          -80.56882747489037,
          -6.242083440579202,
          -44.99948381973318,
          -4.3371868626314445,
          -50.8258135783096,
          -38.82801614158479,
          -44.54651506890988,
          -42.31700229170496,
          -35.82680871647488,
          -51.15646914084331,
          -99.00838429801557,
          -44.85372547513824,
          0.7431908217914605,
          -13.95656239676388,
          -12.959654175954615,
          -69.51000250324843,
          -10.320880297102702,
          -14.834967967931323,
          -35.75071675235779,
          -39.167124037390806,
          -47.23559289974929,
          -28.342828367662435,
          -39.38919877498251,
          -25.141770031791808,
          -48.962403352851474,
          -0.514097350869196,
          -6.4356520700600255,
          -22.34330963503302,
          -44.567394558968026,
          -11.368312525036865,
          -19.879960707992886,
          -21.40742103180986,
          -0.08554384978707559,
          -51.80322463632252,
          -14.862664070129469,
          -13.013574784639442,
          -17.884010558546294,
          -7.375271732001174,
          -2.7360109763000144,
          -81.76773676706027,
          0.11525026737912147,
          -41.03919600955016,
          -70.40486612601384,
          -29.081936103077563,
          -41.107545505800275,
          -23.195381702978906,
          -12.35008784975733,
          9.660368203457018,
          6.730356685089844,
          -13.0748977294402,
          -71.17451241729631,
          -3.144112552217549,
          -50.397204869388396,
          -3.5245492950571546,
          -73.40441915825608,
          -18.221157657466865,
          -28.84752484477907,
          5.764958511050772,
          -14.092181353473382,
          -76.8276550646384,
          -34.708212434872415,
          -70.01403244570156,
          -31.300747814696255,
          -34.19407777526394,
          -59.78066528061564,
          -48.42711261569878,
          -20.89751747847947,
          -61.604003725947486,
          -14.427096900298961,
          -15.694272496479739,
          -37.02931408486159,
          -51.16320254723718,
          -43.89474363903065,
          1.8299879815784417,
          5.081799071833576,
          -18.408608404105685,
          7.327192367678948,
          -9.26000525307759,
          -11.93571825550661,
          -107.79646748385383,
          -54.7221220303505,
          -46.25469315034096,
          -69.64151252445986,
          -26.10896638637039,
          11.345629732506698,
          6.874388463583292,
          -66.73425349777303,
          -43.89616422137925,
          -16.11740972114541,
          -60.01273104714787,
          8.618010960871976,
          -62.103072754626126,
          8.416214032239063,
          -7.952297011679674,
          -29.55718533934549,
          1.372104262713921,
          -78.21222604631444,
          -19.710326663316067,
          -81.42719474685671,
          -46.307588222642224,
          -18.401154418479937
         ],
         "xaxis": "x",
         "y": [
          2.924463870394286,
          8.50456578092327,
          38.9262826020372,
          12.056200029687064,
          21.024776802249683,
          -0.3868142013786007,
          44.823762498080924,
          -23.328485989246065,
          -28.123299326425627,
          -25.49837519121841,
          -46.795074579102995,
          34.27799657721365,
          -16.84680061564965,
          7.101946933325954,
          35.34917075203428,
          24.15967944655241,
          -3.2226307350582233,
          -14.303053495174298,
          -12.66211737403251,
          -18.465652064841493,
          -15.16599617873289,
          24.384284090220188,
          -0.8032804865987818,
          -24.05200707122003,
          -35.65695521779959,
          -13.541572001148703,
          -27.032030468575293,
          23.855698927391725,
          -10.354657796324304,
          -33.538080144059684,
          24.341819293124995,
          -1.8367434770030326,
          2.466080522550704,
          39.30637051059623,
          -26.58610156143233,
          20.653375329875765,
          -22.866093762192058,
          -12.11661940989307,
          0.969646023551967,
          -8.958212730292345,
          -55.41822335712179,
          -17.80893589483487,
          -10.751933950243073,
          29.52422759022256,
          15.02041613695166,
          -17.404900558956424,
          -11.984909172467296,
          -33.92901175102221,
          -6.5899893982243745,
          -6.466695610253814,
          -33.54235521123342,
          35.79423780982678,
          52.70544104730805,
          -10.602659408231771,
          -20.14930091680196,
          -7.231090455395295,
          -12.68655919199709,
          -12.349835093042758,
          -30.553455844140874,
          -1.9605308800283985,
          14.129030306525767,
          17.00230259501994,
          26.130369330428938,
          -10.460187799711775,
          1.1830619815904273,
          -4.110562735973365,
          -10.882016771372134,
          19.26995769230936,
          -30.41850861496704,
          19.496459229594482,
          -27.762761797661685,
          -7.380463343789245,
          8.991346919262643,
          -12.61331879159337,
          -19.98238681170153,
          4.7797666161708205,
          3.4290532779401506,
          8.98117417438483,
          14.603852770770665,
          -34.1962466838677,
          63.800216862927385,
          27.499073066791585,
          13.17541239121753,
          15.855147935352178,
          -12.981768485688944,
          27.129892002122812,
          -17.763507992773512,
          -25.952144395765895,
          -3.1472237065186595,
          -35.23682985515108,
          -46.22147989750045,
          3.3637884997664806,
          38.56139046162632,
          17.458255237861678,
          -18.205786411220974,
          21.855079307372666,
          -9.299225972189127,
          2.5857236329292848,
          -8.19796129111303,
          6.094077889649057,
          52.87349975759051,
          77.71642512042087,
          -9.040189793248292,
          -18.6026505196731,
          10.783379282851351,
          21.6963314136152,
          46.31152610491463,
          -25.97231095037204,
          7.0278496193305875,
          38.32969511544722,
          11.998745964676154,
          -2.889009170978107,
          -21.96472325283126,
          15.729297436684906,
          -23.45883008656134,
          39.2004014633062,
          -28.78742312473977,
          -8.766401428059481,
          -30.46693203986726,
          -30.65537228734143,
          -9.690918609132344,
          -10.515272575860969,
          2.2862487972274788,
          -31.087203121259897,
          30.85545741496461,
          -20.901861363048173,
          -2.781730631498132,
          10.981329866659161,
          -10.000374494656336,
          18.69336353685131,
          -21.725114726591418,
          -30.51356694462074,
          -7.1044355396194,
          -11.618143288223795,
          -9.567533522248194,
          26.562938548037966,
          15.597747498456673,
          -2.1118269711189956,
          22.518327926149293,
          23.794896905183805,
          -16.329754938798168,
          -39.25273709092586,
          6.2476478972859635,
          -12.685813819873022,
          -12.022888338731704,
          23.031983767206807,
          -9.501276664405578,
          18.936265483650068,
          -3.8329465035802683,
          35.20666503795414,
          -28.66720363246986,
          39.17232656897859,
          -2.415207996047149,
          -12.738011014704059,
          3.330447386976159,
          5.158998543857565,
          -22.85801370488924,
          -23.94174082452759,
          -39.91229470645524,
          -20.08327598302748,
          -0.05224377582255873,
          -12.078890460080041,
          5.928446110200286,
          -28.711753975685887,
          -27.93769988046229,
          3.797440207616829,
          -7.783089935170694,
          -9.25414985483958,
          -37.51477484850219,
          -38.44921068965584,
          3.861202325302913,
          -28.265653767468145,
          -3.821391983138095,
          5.001926653119009,
          8.949948873533705,
          7.394888109090854,
          -40.58368237684379,
          -0.4483483283004763,
          -9.212857716609355,
          5.43614920141684,
          4.921927967767318,
          -20.13911040920016,
          -21.339534807831527,
          10.533648368802242,
          -7.17797865231339,
          21.404449492383925
         ],
         "yaxis": "y"
        },
        {
         "customdata": [
          [
           41
          ],
          [
           62
          ],
          [
           54
          ],
          [
           65
          ],
          [
           67
          ],
          [
           42
          ],
          [
           45
          ],
          [
           49
          ],
          [
           49
          ],
          [
           55
          ],
          [
           56
          ],
          [
           74
          ],
          [
           61
          ],
          [
           66
          ],
          [
           55
          ],
          [
           57
          ],
          [
           58
          ],
          [
           48
          ],
          [
           46
          ],
          [
           58
          ],
          [
           57
          ],
          [
           58
          ],
          [
           42
          ],
          [
           44
          ],
          [
           58
          ],
          [
           71
          ],
          [
           57
          ],
          [
           64
          ],
          [
           56
          ],
          [
           43
          ],
          [
           51
          ],
          [
           64
          ],
          [
           57
          ],
          [
           49
          ],
          [
           47
          ],
          [
           55
          ],
          [
           58
          ],
          [
           43
          ],
          [
           55
          ],
          [
           63
          ],
          [
           42
          ],
          [
           67
          ],
          [
           55
          ],
          [
           70
          ],
          [
           51
          ],
          [
           58
          ],
          [
           52
          ],
          [
           60
          ],
          [
           77
          ],
          [
           52
          ],
          [
           68
          ],
          [
           54
          ],
          [
           35
          ],
          [
           39
          ],
          [
           68
          ],
          [
           70
          ],
          [
           66
          ],
          [
           57
          ],
          [
           63
          ],
          [
           61
          ],
          [
           63
          ],
          [
           61
          ],
          [
           65
          ],
          [
           56
          ],
          [
           45
          ],
          [
           54
          ],
          [
           57
          ],
          [
           51
          ],
          [
           62
          ],
          [
           60
          ],
          [
           59
          ],
          [
           64
          ],
          [
           71
          ],
          [
           53
          ],
          [
           62
          ],
          [
           58
          ],
          [
           64
          ],
          [
           54
          ],
          [
           45
          ],
          [
           58
          ],
          [
           62
          ],
          [
           51
          ],
          [
           64
          ],
          [
           54
          ],
          [
           64
          ],
          [
           59
          ],
          [
           41
          ],
          [
           54
          ],
          [
           44
          ],
          [
           53
          ],
          [
           54
          ],
          [
           60
          ],
          [
           59
          ],
          [
           59
          ],
          [
           57
          ],
          [
           51
          ],
          [
           43
          ],
          [
           60
          ],
          [
           48
          ],
          [
           56
          ],
          [
           65
          ],
          [
           59
          ],
          [
           60
          ],
          [
           62
          ],
          [
           54
          ],
          [
           65
          ],
          [
           51
          ],
          [
           62
          ],
          [
           67
          ],
          [
           67
          ],
          [
           60
          ]
         ],
         "hovertemplate": "Cluster=Cluster 1<br>PCA1=%{x}<br>PCA2=%{y}<br>Feature=%{customdata[0]}<extra></extra>",
         "legendgroup": "Cluster 1",
         "marker": {
          "color": "#EF553B",
          "opacity": 0.5,
          "symbol": "circle"
         },
         "mode": "markers",
         "name": "Cluster 1",
         "orientation": "v",
         "showlegend": true,
         "textposition": "top center",
         "type": "scatter",
         "x": [
          57.70346303713421,
          21.300938734426097,
          38.12693884813911,
          170.11110739392382,
          40.57521351017944,
          46.455120756884824,
          15.175630195623171,
          21.283210675851997,
          23.483571438743397,
          82.04950437295649,
          35.638995822604045,
          21.785915740709264,
          82.60050867081961,
          31.74555674895325,
          105.502638991094,
          105.89665432528777,
          36.620688133075866,
          27.278912676170428,
          63.689502174251786,
          36.08348314913132,
          86.46517193870136,
          91.94231422042036,
          67.3131912940911,
          14.575047637583829,
          71.85357129199171,
          56.57667950837921,
          13.32885662981694,
          88.22645663208282,
          47.02987098945896,
          54.18684097387035,
          46.80909174997093,
          15.864377814981884,
          29.699710080142232,
          18.27002153347863,
          26.26539502138367,
          94.45388565063176,
          69.75538004389365,
          93.08146904518922,
          14.531078347158749,
          20.669431940581607,
          15.680472511703295,
          315.60055150258034,
          43.049562305362386,
          75.07312124523564,
          51.79317037359498,
          52.29400052939954,
          51.43348308255965,
          46.15502271132433,
          57.00939193612224,
          76.74686427527392,
          29.576550931312525,
          40.54737680473028,
          33.55256861785852,
          73.2866336800895,
          29.382171590728404,
          23.704699720064383,
          54.362816573726576,
          43.42478143038438,
          82.75509771444227,
          60.464335461501676,
          160.5865768748873,
          12.284650590683778,
          35.24463846566077,
          44.1711059905795,
          59.94176666320395,
          60.27046988652485,
          55.425269291561264,
          13.847705763984022,
          33.35149412200972,
          11.766916348520025,
          42.678985322250995,
          61.5656346328449,
          17.152943542932444,
          16.487024391156293,
          147.04555060519687,
          23.74952487010495,
          66.32304684647208,
          56.64003989411326,
          61.713982777715344,
          11.612914826917539,
          15.908955157110409,
          57.32887667244956,
          80.31025289864681,
          25.231222877495004,
          55.856531979596035,
          24.02911852454066,
          19.052979744091335,
          18.341611228641774,
          41.15759734291726,
          34.184074581493036,
          18.28240511325281,
          35.48967105592218,
          27.259288776490596,
          80.64631837391786,
          27.847160806683533,
          60.84079127622376,
          66.97025171758943,
          10.511806412327825,
          25.929557448592497,
          161.50572119241886,
          114.26163540428375,
          25.156511682861144,
          59.06580883496234,
          19.386817708915483,
          38.56634168411615,
          23.18830102249864,
          50.90210242453224,
          47.24379909557175,
          50.43520551710603,
          31.047773333554325,
          69.16274580727074
         ],
         "xaxis": "x",
         "y": [
          -17.15034465588745,
          -8.090043444407874,
          31.037859960786392,
          -6.899140197764352,
          45.5725400115789,
          -16.523184407024438,
          12.708055895121209,
          -14.665521008487909,
          -13.274085390847613,
          36.31322111967043,
          45.1070221940584,
          29.706031370776152,
          -19.22653964536717,
          0.8870628781672132,
          15.819646518840798,
          -15.593954151450852,
          -9.965900570262201,
          8.472366358830522,
          27.45506431038803,
          -11.452733254315675,
          3.20723201926898,
          -24.020794691403992,
          21.282197288496235,
          -26.328332437031175,
          -2.3337606912425244,
          -6.710350094789891,
          7.753340081433976,
          -6.887530393401531,
          -2.834170366823083,
          -35.51517827501224,
          -9.978433782700941,
          44.638959274400065,
          38.87694400142673,
          -22.442575431745947,
          26.538981926973403,
          -17.347340490026145,
          7.058647982911274,
          9.940611100293038,
          -5.6931335231565825,
          -20.441548134752107,
          20.92315759468304,
          -14.39554358175319,
          7.305736571421325,
          41.15988794236426,
          -23.211698825731425,
          -21.740637361877752,
          -26.553603718098696,
          -18.535063736793266,
          -9.641856784400114,
          -24.899853778022,
          7.307275739155737,
          -9.901801734827727,
          -10.919644590928767,
          -34.63425392166289,
          -0.8946091074937969,
          42.540376319783036,
          -1.4799461179168092,
          28.756324537052155,
          17.411140051823754,
          5.415663456210914,
          -2.833752825922815,
          9.125945802827095,
          -21.74286707608324,
          23.90798997515908,
          -23.04361325593264,
          -9.983711001112423,
          -10.019340238326809,
          -35.45609187045155,
          45.03422919941837,
          -4.1586922922251714,
          -4.529855755359282,
          18.253239581648852,
          19.28655563635864,
          5.674399829074133,
          -7.087700282906343,
          40.12763705093385,
          17.92617213507535,
          -20.536315986614607,
          1.175224811470874,
          19.28451748825623,
          52.30818799319723,
          5.7957827984127395,
          1.7994230456024993,
          -3.6231291586851486,
          27.636373417995483,
          -30.484873766277023,
          -26.962041001144417,
          -20.17628785038909,
          -8.182035790041144,
          51.58653299999928,
          38.45751955448326,
          9.56060552189675,
          27.60100107547123,
          13.569234744351297,
          62.58189152456616,
          6.803579824924835,
          -15.420514387221793,
          8.567933078211256,
          -18.41670034540135,
          -2.121082552165017,
          2.0873723376913733,
          10.401144190226812,
          -8.00381095635291,
          49.188708444796404,
          -37.94062484746151,
          5.764032288490302,
          26.65800702126866,
          43.9503838164581,
          21.846133109570147,
          -17.75661722115935,
          -13.6922535164944
         ],
         "yaxis": "y"
        }
       ],
       "layout": {
        "height": 600,
        "legend": {
         "title": {
          "text": "Cluster"
         },
         "tracegroupgap": 0
        },
        "margin": {
         "t": 60
        },
        "plot_bgcolor": "rgb(240,240,240)",
        "template": {
         "data": {
          "bar": [
           {
            "error_x": {
             "color": "#2a3f5f"
            },
            "error_y": {
             "color": "#2a3f5f"
            },
            "marker": {
             "line": {
              "color": "#E5ECF6",
              "width": 0.5
             },
             "pattern": {
              "fillmode": "overlay",
              "size": 10,
              "solidity": 0.2
             }
            },
            "type": "bar"
           }
          ],
          "barpolar": [
           {
            "marker": {
             "line": {
              "color": "#E5ECF6",
              "width": 0.5
             },
             "pattern": {
              "fillmode": "overlay",
              "size": 10,
              "solidity": 0.2
             }
            },
            "type": "barpolar"
           }
          ],
          "carpet": [
           {
            "aaxis": {
             "endlinecolor": "#2a3f5f",
             "gridcolor": "white",
             "linecolor": "white",
             "minorgridcolor": "white",
             "startlinecolor": "#2a3f5f"
            },
            "baxis": {
             "endlinecolor": "#2a3f5f",
             "gridcolor": "white",
             "linecolor": "white",
             "minorgridcolor": "white",
             "startlinecolor": "#2a3f5f"
            },
            "type": "carpet"
           }
          ],
          "choropleth": [
           {
            "colorbar": {
             "outlinewidth": 0,
             "ticks": ""
            },
            "type": "choropleth"
           }
          ],
          "contour": [
           {
            "colorbar": {
             "outlinewidth": 0,
             "ticks": ""
            },
            "colorscale": [
             [
              0,
              "#0d0887"
             ],
             [
              0.1111111111111111,
              "#46039f"
             ],
             [
              0.2222222222222222,
              "#7201a8"
             ],
             [
              0.3333333333333333,
              "#9c179e"
             ],
             [
              0.4444444444444444,
              "#bd3786"
             ],
             [
              0.5555555555555556,
              "#d8576b"
             ],
             [
              0.6666666666666666,
              "#ed7953"
             ],
             [
              0.7777777777777778,
              "#fb9f3a"
             ],
             [
              0.8888888888888888,
              "#fdca26"
             ],
             [
              1,
              "#f0f921"
             ]
            ],
            "type": "contour"
           }
          ],
          "contourcarpet": [
           {
            "colorbar": {
             "outlinewidth": 0,
             "ticks": ""
            },
            "type": "contourcarpet"
           }
          ],
          "heatmap": [
           {
            "colorbar": {
             "outlinewidth": 0,
             "ticks": ""
            },
            "colorscale": [
             [
              0,
              "#0d0887"
             ],
             [
              0.1111111111111111,
              "#46039f"
             ],
             [
              0.2222222222222222,
              "#7201a8"
             ],
             [
              0.3333333333333333,
              "#9c179e"
             ],
             [
              0.4444444444444444,
              "#bd3786"
             ],
             [
              0.5555555555555556,
              "#d8576b"
             ],
             [
              0.6666666666666666,
              "#ed7953"
             ],
             [
              0.7777777777777778,
              "#fb9f3a"
             ],
             [
              0.8888888888888888,
              "#fdca26"
             ],
             [
              1,
              "#f0f921"
             ]
            ],
            "type": "heatmap"
           }
          ],
          "heatmapgl": [
           {
            "colorbar": {
             "outlinewidth": 0,
             "ticks": ""
            },
            "colorscale": [
             [
              0,
              "#0d0887"
             ],
             [
              0.1111111111111111,
              "#46039f"
             ],
             [
              0.2222222222222222,
              "#7201a8"
             ],
             [
              0.3333333333333333,
              "#9c179e"
             ],
             [
              0.4444444444444444,
              "#bd3786"
             ],
             [
              0.5555555555555556,
              "#d8576b"
             ],
             [
              0.6666666666666666,
              "#ed7953"
             ],
             [
              0.7777777777777778,
              "#fb9f3a"
             ],
             [
              0.8888888888888888,
              "#fdca26"
             ],
             [
              1,
              "#f0f921"
             ]
            ],
            "type": "heatmapgl"
           }
          ],
          "histogram": [
           {
            "marker": {
             "pattern": {
              "fillmode": "overlay",
              "size": 10,
              "solidity": 0.2
             }
            },
            "type": "histogram"
           }
          ],
          "histogram2d": [
           {
            "colorbar": {
             "outlinewidth": 0,
             "ticks": ""
            },
            "colorscale": [
             [
              0,
              "#0d0887"
             ],
             [
              0.1111111111111111,
              "#46039f"
             ],
             [
              0.2222222222222222,
              "#7201a8"
             ],
             [
              0.3333333333333333,
              "#9c179e"
             ],
             [
              0.4444444444444444,
              "#bd3786"
             ],
             [
              0.5555555555555556,
              "#d8576b"
             ],
             [
              0.6666666666666666,
              "#ed7953"
             ],
             [
              0.7777777777777778,
              "#fb9f3a"
             ],
             [
              0.8888888888888888,
              "#fdca26"
             ],
             [
              1,
              "#f0f921"
             ]
            ],
            "type": "histogram2d"
           }
          ],
          "histogram2dcontour": [
           {
            "colorbar": {
             "outlinewidth": 0,
             "ticks": ""
            },
            "colorscale": [
             [
              0,
              "#0d0887"
             ],
             [
              0.1111111111111111,
              "#46039f"
             ],
             [
              0.2222222222222222,
              "#7201a8"
             ],
             [
              0.3333333333333333,
              "#9c179e"
             ],
             [
              0.4444444444444444,
              "#bd3786"
             ],
             [
              0.5555555555555556,
              "#d8576b"
             ],
             [
              0.6666666666666666,
              "#ed7953"
             ],
             [
              0.7777777777777778,
              "#fb9f3a"
             ],
             [
              0.8888888888888888,
              "#fdca26"
             ],
             [
              1,
              "#f0f921"
             ]
            ],
            "type": "histogram2dcontour"
           }
          ],
          "mesh3d": [
           {
            "colorbar": {
             "outlinewidth": 0,
             "ticks": ""
            },
            "type": "mesh3d"
           }
          ],
          "parcoords": [
           {
            "line": {
             "colorbar": {
              "outlinewidth": 0,
              "ticks": ""
             }
            },
            "type": "parcoords"
           }
          ],
          "pie": [
           {
            "automargin": true,
            "type": "pie"
           }
          ],
          "scatter": [
           {
            "fillpattern": {
             "fillmode": "overlay",
             "size": 10,
             "solidity": 0.2
            },
            "type": "scatter"
           }
          ],
          "scatter3d": [
           {
            "line": {
             "colorbar": {
              "outlinewidth": 0,
              "ticks": ""
             }
            },
            "marker": {
             "colorbar": {
              "outlinewidth": 0,
              "ticks": ""
             }
            },
            "type": "scatter3d"
           }
          ],
          "scattercarpet": [
           {
            "marker": {
             "colorbar": {
              "outlinewidth": 0,
              "ticks": ""
             }
            },
            "type": "scattercarpet"
           }
          ],
          "scattergeo": [
           {
            "marker": {
             "colorbar": {
              "outlinewidth": 0,
              "ticks": ""
             }
            },
            "type": "scattergeo"
           }
          ],
          "scattergl": [
           {
            "marker": {
             "colorbar": {
              "outlinewidth": 0,
              "ticks": ""
             }
            },
            "type": "scattergl"
           }
          ],
          "scattermapbox": [
           {
            "marker": {
             "colorbar": {
              "outlinewidth": 0,
              "ticks": ""
             }
            },
            "type": "scattermapbox"
           }
          ],
          "scatterpolar": [
           {
            "marker": {
             "colorbar": {
              "outlinewidth": 0,
              "ticks": ""
             }
            },
            "type": "scatterpolar"
           }
          ],
          "scatterpolargl": [
           {
            "marker": {
             "colorbar": {
              "outlinewidth": 0,
              "ticks": ""
             }
            },
            "type": "scatterpolargl"
           }
          ],
          "scatterternary": [
           {
            "marker": {
             "colorbar": {
              "outlinewidth": 0,
              "ticks": ""
             }
            },
            "type": "scatterternary"
           }
          ],
          "surface": [
           {
            "colorbar": {
             "outlinewidth": 0,
             "ticks": ""
            },
            "colorscale": [
             [
              0,
              "#0d0887"
             ],
             [
              0.1111111111111111,
              "#46039f"
             ],
             [
              0.2222222222222222,
              "#7201a8"
             ],
             [
              0.3333333333333333,
              "#9c179e"
             ],
             [
              0.4444444444444444,
              "#bd3786"
             ],
             [
              0.5555555555555556,
              "#d8576b"
             ],
             [
              0.6666666666666666,
              "#ed7953"
             ],
             [
              0.7777777777777778,
              "#fb9f3a"
             ],
             [
              0.8888888888888888,
              "#fdca26"
             ],
             [
              1,
              "#f0f921"
             ]
            ],
            "type": "surface"
           }
          ],
          "table": [
           {
            "cells": {
             "fill": {
              "color": "#EBF0F8"
             },
             "line": {
              "color": "white"
             }
            },
            "header": {
             "fill": {
              "color": "#C8D4E3"
             },
             "line": {
              "color": "white"
             }
            },
            "type": "table"
           }
          ]
         },
         "layout": {
          "annotationdefaults": {
           "arrowcolor": "#2a3f5f",
           "arrowhead": 0,
           "arrowwidth": 1
          },
          "autotypenumbers": "strict",
          "coloraxis": {
           "colorbar": {
            "outlinewidth": 0,
            "ticks": ""
           }
          },
          "colorscale": {
           "diverging": [
            [
             0,
             "#8e0152"
            ],
            [
             0.1,
             "#c51b7d"
            ],
            [
             0.2,
             "#de77ae"
            ],
            [
             0.3,
             "#f1b6da"
            ],
            [
             0.4,
             "#fde0ef"
            ],
            [
             0.5,
             "#f7f7f7"
            ],
            [
             0.6,
             "#e6f5d0"
            ],
            [
             0.7,
             "#b8e186"
            ],
            [
             0.8,
             "#7fbc41"
            ],
            [
             0.9,
             "#4d9221"
            ],
            [
             1,
             "#276419"
            ]
           ],
           "sequential": [
            [
             0,
             "#0d0887"
            ],
            [
             0.1111111111111111,
             "#46039f"
            ],
            [
             0.2222222222222222,
             "#7201a8"
            ],
            [
             0.3333333333333333,
             "#9c179e"
            ],
            [
             0.4444444444444444,
             "#bd3786"
            ],
            [
             0.5555555555555556,
             "#d8576b"
            ],
            [
             0.6666666666666666,
             "#ed7953"
            ],
            [
             0.7777777777777778,
             "#fb9f3a"
            ],
            [
             0.8888888888888888,
             "#fdca26"
            ],
            [
             1,
             "#f0f921"
            ]
           ],
           "sequentialminus": [
            [
             0,
             "#0d0887"
            ],
            [
             0.1111111111111111,
             "#46039f"
            ],
            [
             0.2222222222222222,
             "#7201a8"
            ],
            [
             0.3333333333333333,
             "#9c179e"
            ],
            [
             0.4444444444444444,
             "#bd3786"
            ],
            [
             0.5555555555555556,
             "#d8576b"
            ],
            [
             0.6666666666666666,
             "#ed7953"
            ],
            [
             0.7777777777777778,
             "#fb9f3a"
            ],
            [
             0.8888888888888888,
             "#fdca26"
            ],
            [
             1,
             "#f0f921"
            ]
           ]
          },
          "colorway": [
           "#636efa",
           "#EF553B",
           "#00cc96",
           "#ab63fa",
           "#FFA15A",
           "#19d3f3",
           "#FF6692",
           "#B6E880",
           "#FF97FF",
           "#FECB52"
          ],
          "font": {
           "color": "#2a3f5f"
          },
          "geo": {
           "bgcolor": "white",
           "lakecolor": "white",
           "landcolor": "#E5ECF6",
           "showlakes": true,
           "showland": true,
           "subunitcolor": "white"
          },
          "hoverlabel": {
           "align": "left"
          },
          "hovermode": "closest",
          "mapbox": {
           "style": "light"
          },
          "paper_bgcolor": "white",
          "plot_bgcolor": "#E5ECF6",
          "polar": {
           "angularaxis": {
            "gridcolor": "white",
            "linecolor": "white",
            "ticks": ""
           },
           "bgcolor": "#E5ECF6",
           "radialaxis": {
            "gridcolor": "white",
            "linecolor": "white",
            "ticks": ""
           }
          },
          "scene": {
           "xaxis": {
            "backgroundcolor": "#E5ECF6",
            "gridcolor": "white",
            "gridwidth": 2,
            "linecolor": "white",
            "showbackground": true,
            "ticks": "",
            "zerolinecolor": "white"
           },
           "yaxis": {
            "backgroundcolor": "#E5ECF6",
            "gridcolor": "white",
            "gridwidth": 2,
            "linecolor": "white",
            "showbackground": true,
            "ticks": "",
            "zerolinecolor": "white"
           },
           "zaxis": {
            "backgroundcolor": "#E5ECF6",
            "gridcolor": "white",
            "gridwidth": 2,
            "linecolor": "white",
            "showbackground": true,
            "ticks": "",
            "zerolinecolor": "white"
           }
          },
          "shapedefaults": {
           "line": {
            "color": "#2a3f5f"
           }
          },
          "ternary": {
           "aaxis": {
            "gridcolor": "white",
            "linecolor": "white",
            "ticks": ""
           },
           "baxis": {
            "gridcolor": "white",
            "linecolor": "white",
            "ticks": ""
           },
           "bgcolor": "#E5ECF6",
           "caxis": {
            "gridcolor": "white",
            "linecolor": "white",
            "ticks": ""
           }
          },
          "title": {
           "x": 0.05
          },
          "xaxis": {
           "automargin": true,
           "gridcolor": "white",
           "linecolor": "white",
           "ticks": "",
           "title": {
            "standoff": 15
           },
           "zerolinecolor": "white",
           "zerolinewidth": 2
          },
          "yaxis": {
           "automargin": true,
           "gridcolor": "white",
           "linecolor": "white",
           "ticks": "",
           "title": {
            "standoff": 15
           },
           "zerolinecolor": "white",
           "zerolinewidth": 2
          }
         }
        },
        "title": {
         "text": "2D Cluster PCA Plot"
        },
        "xaxis": {
         "anchor": "y",
         "domain": [
          0,
          1
         ],
         "title": {
          "text": "PCA1"
         }
        },
        "yaxis": {
         "anchor": "x",
         "domain": [
          0,
          1
         ],
         "title": {
          "text": "PCA2"
         }
        }
       }
      }
     },
     "metadata": {},
     "output_type": "display_data"
    }
   ],
   "source": [
    "# plot pca cluster plot \n",
    "clust.plot_model(kmeans, plot = 'cluster')"
   ]
  },
  {
   "cell_type": "markdown",
   "metadata": {},
   "source": [
    "* Μπορούμε να προσθέσουμε και το πραγματικό label των δειγμάτων"
   ]
  },
  {
   "cell_type": "code",
   "execution_count": 8,
   "metadata": {},
   "outputs": [
    {
     "data": {
      "text/html": [],
      "text/plain": [
       "<IPython.core.display.HTML object>"
      ]
     },
     "metadata": {},
     "output_type": "display_data"
    },
    {
     "data": {
      "application/vnd.plotly.v1+json": {
       "config": {
        "plotlyServerURL": "https://plot.ly"
       },
       "data": [
        {
         "hovertemplate": "Cluster=Cluster 0<br>PCA1=%{x}<br>PCA2=%{y}<br>Label=%{text}<extra></extra>",
         "legendgroup": "Cluster 0",
         "marker": {
          "color": "#636efa",
          "opacity": 0.5,
          "symbol": "circle"
         },
         "mode": "markers+text",
         "name": "Cluster 0",
         "orientation": "v",
         "showlegend": true,
         "text": [
          0,
          0,
          0,
          1,
          1,
          0,
          1,
          0,
          0,
          0,
          0,
          1,
          0,
          1,
          0,
          0,
          0,
          0,
          0,
          0,
          0,
          1,
          1,
          0,
          1,
          0,
          0,
          0,
          0,
          0,
          1,
          1,
          0,
          1,
          0,
          1,
          0,
          0,
          0,
          0,
          0,
          0,
          0,
          1,
          1,
          0,
          0,
          0,
          0,
          1,
          0,
          1,
          1,
          0,
          0,
          1,
          1,
          0,
          1,
          0,
          1,
          0,
          0,
          1,
          0,
          0,
          1,
          0,
          0,
          1,
          0,
          1,
          1,
          0,
          0,
          1,
          1,
          1,
          1,
          0,
          1,
          1,
          1,
          1,
          0,
          1,
          0,
          0,
          0,
          0,
          0,
          0,
          1,
          1,
          0,
          1,
          0,
          1,
          0,
          1,
          0,
          1,
          1,
          1,
          0,
          0,
          1,
          0,
          0,
          0,
          0,
          0,
          0,
          0,
          1,
          0,
          0,
          1,
          1,
          0,
          0,
          1,
          0,
          0,
          1,
          0,
          0,
          0,
          0,
          1,
          1,
          0,
          0,
          1,
          0,
          1,
          0,
          0,
          1,
          0,
          1,
          0,
          1,
          1,
          1,
          0,
          0,
          1,
          0,
          1,
          0,
          1,
          1,
          0,
          1,
          0,
          0,
          0,
          0,
          0,
          1,
          1,
          1,
          0,
          0,
          0,
          0,
          1,
          0,
          0,
          1,
          0,
          1,
          0,
          1,
          1,
          0,
          0,
          0,
          1,
          1,
          0,
          1,
          1,
          0,
          1
         ],
         "textposition": "top center",
         "type": "scatter",
         "x": [
          -13.325146876054792,
          -88.52333751831372,
          -20.758487365196697,
          3.9913450908338786,
          -34.203008151290234,
          -15.623601660854721,
          -63.06015148509478,
          -1.5310952421932422,
          -3.025834837362257,
          -51.56339799681428,
          -8.491005992377643,
          0.5868833301684255,
          -40.200529447174155,
          7.615754565166341,
          -36.30837817468732,
          -11.299769862441323,
          -11.359986983274643,
          -4.14188545990481,
          5.338644978911788,
          -120.12240477146607,
          -37.8443602623282,
          -46.7427654655422,
          -2.1382498067597226,
          -33.581175773763455,
          -17.597571619773074,
          -51.586599044924036,
          6.944777898150361,
          -0.793211603971941,
          -34.43634330637164,
          -64.68764950211623,
          7.244971915009599,
          8.309061608735872,
          -27.049785482699853,
          -29.76975600429418,
          -13.813414197421215,
          -9.419821254044038,
          -28.334446025233067,
          -38.42062042507995,
          10.014547165893738,
          -22.385659128402256,
          -44.40116900590632,
          -35.241969287147235,
          2.8098304608064417,
          -71.8991059918653,
          -50.54054304074722,
          -2.850645797005349,
          -25.741218207314652,
          -42.62337995277285,
          -8.582824184711155,
          -5.849256006903049,
          1.0671346796430408,
          -116.04452027223302,
          -1.488266608466659,
          -52.1593725839646,
          -33.90719989794057,
          -16.53577022018103,
          -18.44395372921835,
          -54.80988781797224,
          -23.863596122974116,
          -67.77509048870509,
          -39.57347659846471,
          -17.406961837672768,
          -98.50634766220547,
          -43.00765654300126,
          -18.004014561711212,
          -27.55898967050312,
          -14.11140658706889,
          -50.175101527159235,
          5.2073985661758755,
          -42.39394946749857,
          -56.51718170446256,
          -43.20795366751908,
          -20.193113591586002,
          -26.355763470552233,
          -7.927422506514926,
          -33.77332629346541,
          -79.17404770865093,
          -59.46612047928284,
          -50.30688638395522,
          -91.341626371869,
          -69.2613277501455,
          -5.770413206821714,
          -53.08908346357965,
          -29.389078435509287,
          -35.75275255167025,
          -80.56882747489037,
          -6.242083440579202,
          -44.99948381973318,
          -4.3371868626314445,
          -50.8258135783096,
          -38.82801614158479,
          -44.54651506890988,
          -42.31700229170496,
          -35.82680871647488,
          -51.15646914084331,
          -99.00838429801557,
          -44.85372547513824,
          0.7431908217914605,
          -13.95656239676388,
          -12.959654175954615,
          -69.51000250324843,
          -10.320880297102702,
          -14.834967967931323,
          -35.75071675235779,
          -39.167124037390806,
          -47.23559289974929,
          -28.342828367662435,
          -39.38919877498251,
          -25.141770031791808,
          -48.962403352851474,
          -0.514097350869196,
          -6.4356520700600255,
          -22.34330963503302,
          -44.567394558968026,
          -11.368312525036865,
          -19.879960707992886,
          -21.40742103180986,
          -0.08554384978707559,
          -51.80322463632252,
          -14.862664070129469,
          -13.013574784639442,
          -17.884010558546294,
          -7.375271732001174,
          -2.7360109763000144,
          -81.76773676706027,
          0.11525026737912147,
          -41.03919600955016,
          -70.40486612601384,
          -29.081936103077563,
          -41.107545505800275,
          -23.195381702978906,
          -12.35008784975733,
          9.660368203457018,
          6.730356685089844,
          -13.0748977294402,
          -71.17451241729631,
          -3.144112552217549,
          -50.397204869388396,
          -3.5245492950571546,
          -73.40441915825608,
          -18.221157657466865,
          -28.84752484477907,
          5.764958511050772,
          -14.092181353473382,
          -76.8276550646384,
          -34.708212434872415,
          -70.01403244570156,
          -31.300747814696255,
          -34.19407777526394,
          -59.78066528061564,
          -48.42711261569878,
          -20.89751747847947,
          -61.604003725947486,
          -14.427096900298961,
          -15.694272496479739,
          -37.02931408486159,
          -51.16320254723718,
          -43.89474363903065,
          1.8299879815784417,
          5.081799071833576,
          -18.408608404105685,
          7.327192367678948,
          -9.26000525307759,
          -11.93571825550661,
          -107.79646748385383,
          -54.7221220303505,
          -46.25469315034096,
          -69.64151252445986,
          -26.10896638637039,
          11.345629732506698,
          6.874388463583292,
          -66.73425349777303,
          -43.89616422137925,
          -16.11740972114541,
          -60.01273104714787,
          8.618010960871976,
          -62.103072754626126,
          8.416214032239063,
          -7.952297011679674,
          -29.55718533934549,
          1.372104262713921,
          -78.21222604631444,
          -19.710326663316067,
          -81.42719474685671,
          -46.307588222642224,
          -18.401154418479937
         ],
         "xaxis": "x",
         "y": [
          2.924463870394286,
          8.50456578092327,
          38.9262826020372,
          12.056200029687064,
          21.024776802249683,
          -0.3868142013786007,
          44.823762498080924,
          -23.328485989246065,
          -28.123299326425627,
          -25.49837519121841,
          -46.795074579102995,
          34.27799657721365,
          -16.84680061564965,
          7.101946933325954,
          35.34917075203428,
          24.15967944655241,
          -3.2226307350582233,
          -14.303053495174298,
          -12.66211737403251,
          -18.465652064841493,
          -15.16599617873289,
          24.384284090220188,
          -0.8032804865987818,
          -24.05200707122003,
          -35.65695521779959,
          -13.541572001148703,
          -27.032030468575293,
          23.855698927391725,
          -10.354657796324304,
          -33.538080144059684,
          24.341819293124995,
          -1.8367434770030326,
          2.466080522550704,
          39.30637051059623,
          -26.58610156143233,
          20.653375329875765,
          -22.866093762192058,
          -12.11661940989307,
          0.969646023551967,
          -8.958212730292345,
          -55.41822335712179,
          -17.80893589483487,
          -10.751933950243073,
          29.52422759022256,
          15.02041613695166,
          -17.404900558956424,
          -11.984909172467296,
          -33.92901175102221,
          -6.5899893982243745,
          -6.466695610253814,
          -33.54235521123342,
          35.79423780982678,
          52.70544104730805,
          -10.602659408231771,
          -20.14930091680196,
          -7.231090455395295,
          -12.68655919199709,
          -12.349835093042758,
          -30.553455844140874,
          -1.9605308800283985,
          14.129030306525767,
          17.00230259501994,
          26.130369330428938,
          -10.460187799711775,
          1.1830619815904273,
          -4.110562735973365,
          -10.882016771372134,
          19.26995769230936,
          -30.41850861496704,
          19.496459229594482,
          -27.762761797661685,
          -7.380463343789245,
          8.991346919262643,
          -12.61331879159337,
          -19.98238681170153,
          4.7797666161708205,
          3.4290532779401506,
          8.98117417438483,
          14.603852770770665,
          -34.1962466838677,
          63.800216862927385,
          27.499073066791585,
          13.17541239121753,
          15.855147935352178,
          -12.981768485688944,
          27.129892002122812,
          -17.763507992773512,
          -25.952144395765895,
          -3.1472237065186595,
          -35.23682985515108,
          -46.22147989750045,
          3.3637884997664806,
          38.56139046162632,
          17.458255237861678,
          -18.205786411220974,
          21.855079307372666,
          -9.299225972189127,
          2.5857236329292848,
          -8.19796129111303,
          6.094077889649057,
          52.87349975759051,
          77.71642512042087,
          -9.040189793248292,
          -18.6026505196731,
          10.783379282851351,
          21.6963314136152,
          46.31152610491463,
          -25.97231095037204,
          7.0278496193305875,
          38.32969511544722,
          11.998745964676154,
          -2.889009170978107,
          -21.96472325283126,
          15.729297436684906,
          -23.45883008656134,
          39.2004014633062,
          -28.78742312473977,
          -8.766401428059481,
          -30.46693203986726,
          -30.65537228734143,
          -9.690918609132344,
          -10.515272575860969,
          2.2862487972274788,
          -31.087203121259897,
          30.85545741496461,
          -20.901861363048173,
          -2.781730631498132,
          10.981329866659161,
          -10.000374494656336,
          18.69336353685131,
          -21.725114726591418,
          -30.51356694462074,
          -7.1044355396194,
          -11.618143288223795,
          -9.567533522248194,
          26.562938548037966,
          15.597747498456673,
          -2.1118269711189956,
          22.518327926149293,
          23.794896905183805,
          -16.329754938798168,
          -39.25273709092586,
          6.2476478972859635,
          -12.685813819873022,
          -12.022888338731704,
          23.031983767206807,
          -9.501276664405578,
          18.936265483650068,
          -3.8329465035802683,
          35.20666503795414,
          -28.66720363246986,
          39.17232656897859,
          -2.415207996047149,
          -12.738011014704059,
          3.330447386976159,
          5.158998543857565,
          -22.85801370488924,
          -23.94174082452759,
          -39.91229470645524,
          -20.08327598302748,
          -0.05224377582255873,
          -12.078890460080041,
          5.928446110200286,
          -28.711753975685887,
          -27.93769988046229,
          3.797440207616829,
          -7.783089935170694,
          -9.25414985483958,
          -37.51477484850219,
          -38.44921068965584,
          3.861202325302913,
          -28.265653767468145,
          -3.821391983138095,
          5.001926653119009,
          8.949948873533705,
          7.394888109090854,
          -40.58368237684379,
          -0.4483483283004763,
          -9.212857716609355,
          5.43614920141684,
          4.921927967767318,
          -20.13911040920016,
          -21.339534807831527,
          10.533648368802242,
          -7.17797865231339,
          21.404449492383925
         ],
         "yaxis": "y"
        },
        {
         "hovertemplate": "Cluster=Cluster 1<br>PCA1=%{x}<br>PCA2=%{y}<br>Label=%{text}<extra></extra>",
         "legendgroup": "Cluster 1",
         "marker": {
          "color": "#EF553B",
          "opacity": 0.5,
          "symbol": "circle"
         },
         "mode": "markers+text",
         "name": "Cluster 1",
         "orientation": "v",
         "showlegend": true,
         "text": [
          0,
          1,
          1,
          0,
          1,
          0,
          1,
          0,
          0,
          1,
          1,
          0,
          1,
          0,
          1,
          0,
          0,
          0,
          1,
          1,
          1,
          0,
          1,
          0,
          1,
          0,
          1,
          1,
          0,
          0,
          0,
          0,
          1,
          0,
          1,
          0,
          1,
          1,
          0,
          1,
          0,
          0,
          1,
          1,
          1,
          1,
          0,
          1,
          1,
          0,
          1,
          0,
          1,
          0,
          0,
          1,
          0,
          1,
          1,
          1,
          1,
          1,
          1,
          1,
          0,
          0,
          0,
          0,
          1,
          1,
          1,
          1,
          0,
          0,
          0,
          1,
          0,
          0,
          1,
          1,
          1,
          1,
          0,
          0,
          0,
          0,
          0,
          0,
          1,
          1,
          1,
          1,
          1,
          1,
          1,
          0,
          0,
          1,
          1,
          1,
          0,
          0,
          1,
          1,
          1,
          0,
          1,
          1,
          1,
          0,
          0
         ],
         "textposition": "top center",
         "type": "scatter",
         "x": [
          57.70346303713421,
          21.300938734426097,
          38.12693884813911,
          170.11110739392382,
          40.57521351017944,
          46.455120756884824,
          15.175630195623171,
          21.283210675851997,
          23.483571438743397,
          82.04950437295649,
          35.638995822604045,
          21.785915740709264,
          82.60050867081961,
          31.74555674895325,
          105.502638991094,
          105.89665432528777,
          36.620688133075866,
          27.278912676170428,
          63.689502174251786,
          36.08348314913132,
          86.46517193870136,
          91.94231422042036,
          67.3131912940911,
          14.575047637583829,
          71.85357129199171,
          56.57667950837921,
          13.32885662981694,
          88.22645663208282,
          47.02987098945896,
          54.18684097387035,
          46.80909174997093,
          15.864377814981884,
          29.699710080142232,
          18.27002153347863,
          26.26539502138367,
          94.45388565063176,
          69.75538004389365,
          93.08146904518922,
          14.531078347158749,
          20.669431940581607,
          15.680472511703295,
          315.60055150258034,
          43.049562305362386,
          75.07312124523564,
          51.79317037359498,
          52.29400052939954,
          51.43348308255965,
          46.15502271132433,
          57.00939193612224,
          76.74686427527392,
          29.576550931312525,
          40.54737680473028,
          33.55256861785852,
          73.2866336800895,
          29.382171590728404,
          23.704699720064383,
          54.362816573726576,
          43.42478143038438,
          82.75509771444227,
          60.464335461501676,
          160.5865768748873,
          12.284650590683778,
          35.24463846566077,
          44.1711059905795,
          59.94176666320395,
          60.27046988652485,
          55.425269291561264,
          13.847705763984022,
          33.35149412200972,
          11.766916348520025,
          42.678985322250995,
          61.5656346328449,
          17.152943542932444,
          16.487024391156293,
          147.04555060519687,
          23.74952487010495,
          66.32304684647208,
          56.64003989411326,
          61.713982777715344,
          11.612914826917539,
          15.908955157110409,
          57.32887667244956,
          80.31025289864681,
          25.231222877495004,
          55.856531979596035,
          24.02911852454066,
          19.052979744091335,
          18.341611228641774,
          41.15759734291726,
          34.184074581493036,
          18.28240511325281,
          35.48967105592218,
          27.259288776490596,
          80.64631837391786,
          27.847160806683533,
          60.84079127622376,
          66.97025171758943,
          10.511806412327825,
          25.929557448592497,
          161.50572119241886,
          114.26163540428375,
          25.156511682861144,
          59.06580883496234,
          19.386817708915483,
          38.56634168411615,
          23.18830102249864,
          50.90210242453224,
          47.24379909557175,
          50.43520551710603,
          31.047773333554325,
          69.16274580727074
         ],
         "xaxis": "x",
         "y": [
          -17.15034465588745,
          -8.090043444407874,
          31.037859960786392,
          -6.899140197764352,
          45.5725400115789,
          -16.523184407024438,
          12.708055895121209,
          -14.665521008487909,
          -13.274085390847613,
          36.31322111967043,
          45.1070221940584,
          29.706031370776152,
          -19.22653964536717,
          0.8870628781672132,
          15.819646518840798,
          -15.593954151450852,
          -9.965900570262201,
          8.472366358830522,
          27.45506431038803,
          -11.452733254315675,
          3.20723201926898,
          -24.020794691403992,
          21.282197288496235,
          -26.328332437031175,
          -2.3337606912425244,
          -6.710350094789891,
          7.753340081433976,
          -6.887530393401531,
          -2.834170366823083,
          -35.51517827501224,
          -9.978433782700941,
          44.638959274400065,
          38.87694400142673,
          -22.442575431745947,
          26.538981926973403,
          -17.347340490026145,
          7.058647982911274,
          9.940611100293038,
          -5.6931335231565825,
          -20.441548134752107,
          20.92315759468304,
          -14.39554358175319,
          7.305736571421325,
          41.15988794236426,
          -23.211698825731425,
          -21.740637361877752,
          -26.553603718098696,
          -18.535063736793266,
          -9.641856784400114,
          -24.899853778022,
          7.307275739155737,
          -9.901801734827727,
          -10.919644590928767,
          -34.63425392166289,
          -0.8946091074937969,
          42.540376319783036,
          -1.4799461179168092,
          28.756324537052155,
          17.411140051823754,
          5.415663456210914,
          -2.833752825922815,
          9.125945802827095,
          -21.74286707608324,
          23.90798997515908,
          -23.04361325593264,
          -9.983711001112423,
          -10.019340238326809,
          -35.45609187045155,
          45.03422919941837,
          -4.1586922922251714,
          -4.529855755359282,
          18.253239581648852,
          19.28655563635864,
          5.674399829074133,
          -7.087700282906343,
          40.12763705093385,
          17.92617213507535,
          -20.536315986614607,
          1.175224811470874,
          19.28451748825623,
          52.30818799319723,
          5.7957827984127395,
          1.7994230456024993,
          -3.6231291586851486,
          27.636373417995483,
          -30.484873766277023,
          -26.962041001144417,
          -20.17628785038909,
          -8.182035790041144,
          51.58653299999928,
          38.45751955448326,
          9.56060552189675,
          27.60100107547123,
          13.569234744351297,
          62.58189152456616,
          6.803579824924835,
          -15.420514387221793,
          8.567933078211256,
          -18.41670034540135,
          -2.121082552165017,
          2.0873723376913733,
          10.401144190226812,
          -8.00381095635291,
          49.188708444796404,
          -37.94062484746151,
          5.764032288490302,
          26.65800702126866,
          43.9503838164581,
          21.846133109570147,
          -17.75661722115935,
          -13.6922535164944
         ],
         "yaxis": "y"
        }
       ],
       "layout": {
        "height": 600,
        "legend": {
         "title": {
          "text": "Cluster"
         },
         "tracegroupgap": 0
        },
        "margin": {
         "t": 60
        },
        "plot_bgcolor": "rgb(240,240,240)",
        "template": {
         "data": {
          "bar": [
           {
            "error_x": {
             "color": "#2a3f5f"
            },
            "error_y": {
             "color": "#2a3f5f"
            },
            "marker": {
             "line": {
              "color": "#E5ECF6",
              "width": 0.5
             },
             "pattern": {
              "fillmode": "overlay",
              "size": 10,
              "solidity": 0.2
             }
            },
            "type": "bar"
           }
          ],
          "barpolar": [
           {
            "marker": {
             "line": {
              "color": "#E5ECF6",
              "width": 0.5
             },
             "pattern": {
              "fillmode": "overlay",
              "size": 10,
              "solidity": 0.2
             }
            },
            "type": "barpolar"
           }
          ],
          "carpet": [
           {
            "aaxis": {
             "endlinecolor": "#2a3f5f",
             "gridcolor": "white",
             "linecolor": "white",
             "minorgridcolor": "white",
             "startlinecolor": "#2a3f5f"
            },
            "baxis": {
             "endlinecolor": "#2a3f5f",
             "gridcolor": "white",
             "linecolor": "white",
             "minorgridcolor": "white",
             "startlinecolor": "#2a3f5f"
            },
            "type": "carpet"
           }
          ],
          "choropleth": [
           {
            "colorbar": {
             "outlinewidth": 0,
             "ticks": ""
            },
            "type": "choropleth"
           }
          ],
          "contour": [
           {
            "colorbar": {
             "outlinewidth": 0,
             "ticks": ""
            },
            "colorscale": [
             [
              0,
              "#0d0887"
             ],
             [
              0.1111111111111111,
              "#46039f"
             ],
             [
              0.2222222222222222,
              "#7201a8"
             ],
             [
              0.3333333333333333,
              "#9c179e"
             ],
             [
              0.4444444444444444,
              "#bd3786"
             ],
             [
              0.5555555555555556,
              "#d8576b"
             ],
             [
              0.6666666666666666,
              "#ed7953"
             ],
             [
              0.7777777777777778,
              "#fb9f3a"
             ],
             [
              0.8888888888888888,
              "#fdca26"
             ],
             [
              1,
              "#f0f921"
             ]
            ],
            "type": "contour"
           }
          ],
          "contourcarpet": [
           {
            "colorbar": {
             "outlinewidth": 0,
             "ticks": ""
            },
            "type": "contourcarpet"
           }
          ],
          "heatmap": [
           {
            "colorbar": {
             "outlinewidth": 0,
             "ticks": ""
            },
            "colorscale": [
             [
              0,
              "#0d0887"
             ],
             [
              0.1111111111111111,
              "#46039f"
             ],
             [
              0.2222222222222222,
              "#7201a8"
             ],
             [
              0.3333333333333333,
              "#9c179e"
             ],
             [
              0.4444444444444444,
              "#bd3786"
             ],
             [
              0.5555555555555556,
              "#d8576b"
             ],
             [
              0.6666666666666666,
              "#ed7953"
             ],
             [
              0.7777777777777778,
              "#fb9f3a"
             ],
             [
              0.8888888888888888,
              "#fdca26"
             ],
             [
              1,
              "#f0f921"
             ]
            ],
            "type": "heatmap"
           }
          ],
          "heatmapgl": [
           {
            "colorbar": {
             "outlinewidth": 0,
             "ticks": ""
            },
            "colorscale": [
             [
              0,
              "#0d0887"
             ],
             [
              0.1111111111111111,
              "#46039f"
             ],
             [
              0.2222222222222222,
              "#7201a8"
             ],
             [
              0.3333333333333333,
              "#9c179e"
             ],
             [
              0.4444444444444444,
              "#bd3786"
             ],
             [
              0.5555555555555556,
              "#d8576b"
             ],
             [
              0.6666666666666666,
              "#ed7953"
             ],
             [
              0.7777777777777778,
              "#fb9f3a"
             ],
             [
              0.8888888888888888,
              "#fdca26"
             ],
             [
              1,
              "#f0f921"
             ]
            ],
            "type": "heatmapgl"
           }
          ],
          "histogram": [
           {
            "marker": {
             "pattern": {
              "fillmode": "overlay",
              "size": 10,
              "solidity": 0.2
             }
            },
            "type": "histogram"
           }
          ],
          "histogram2d": [
           {
            "colorbar": {
             "outlinewidth": 0,
             "ticks": ""
            },
            "colorscale": [
             [
              0,
              "#0d0887"
             ],
             [
              0.1111111111111111,
              "#46039f"
             ],
             [
              0.2222222222222222,
              "#7201a8"
             ],
             [
              0.3333333333333333,
              "#9c179e"
             ],
             [
              0.4444444444444444,
              "#bd3786"
             ],
             [
              0.5555555555555556,
              "#d8576b"
             ],
             [
              0.6666666666666666,
              "#ed7953"
             ],
             [
              0.7777777777777778,
              "#fb9f3a"
             ],
             [
              0.8888888888888888,
              "#fdca26"
             ],
             [
              1,
              "#f0f921"
             ]
            ],
            "type": "histogram2d"
           }
          ],
          "histogram2dcontour": [
           {
            "colorbar": {
             "outlinewidth": 0,
             "ticks": ""
            },
            "colorscale": [
             [
              0,
              "#0d0887"
             ],
             [
              0.1111111111111111,
              "#46039f"
             ],
             [
              0.2222222222222222,
              "#7201a8"
             ],
             [
              0.3333333333333333,
              "#9c179e"
             ],
             [
              0.4444444444444444,
              "#bd3786"
             ],
             [
              0.5555555555555556,
              "#d8576b"
             ],
             [
              0.6666666666666666,
              "#ed7953"
             ],
             [
              0.7777777777777778,
              "#fb9f3a"
             ],
             [
              0.8888888888888888,
              "#fdca26"
             ],
             [
              1,
              "#f0f921"
             ]
            ],
            "type": "histogram2dcontour"
           }
          ],
          "mesh3d": [
           {
            "colorbar": {
             "outlinewidth": 0,
             "ticks": ""
            },
            "type": "mesh3d"
           }
          ],
          "parcoords": [
           {
            "line": {
             "colorbar": {
              "outlinewidth": 0,
              "ticks": ""
             }
            },
            "type": "parcoords"
           }
          ],
          "pie": [
           {
            "automargin": true,
            "type": "pie"
           }
          ],
          "scatter": [
           {
            "fillpattern": {
             "fillmode": "overlay",
             "size": 10,
             "solidity": 0.2
            },
            "type": "scatter"
           }
          ],
          "scatter3d": [
           {
            "line": {
             "colorbar": {
              "outlinewidth": 0,
              "ticks": ""
             }
            },
            "marker": {
             "colorbar": {
              "outlinewidth": 0,
              "ticks": ""
             }
            },
            "type": "scatter3d"
           }
          ],
          "scattercarpet": [
           {
            "marker": {
             "colorbar": {
              "outlinewidth": 0,
              "ticks": ""
             }
            },
            "type": "scattercarpet"
           }
          ],
          "scattergeo": [
           {
            "marker": {
             "colorbar": {
              "outlinewidth": 0,
              "ticks": ""
             }
            },
            "type": "scattergeo"
           }
          ],
          "scattergl": [
           {
            "marker": {
             "colorbar": {
              "outlinewidth": 0,
              "ticks": ""
             }
            },
            "type": "scattergl"
           }
          ],
          "scattermapbox": [
           {
            "marker": {
             "colorbar": {
              "outlinewidth": 0,
              "ticks": ""
             }
            },
            "type": "scattermapbox"
           }
          ],
          "scatterpolar": [
           {
            "marker": {
             "colorbar": {
              "outlinewidth": 0,
              "ticks": ""
             }
            },
            "type": "scatterpolar"
           }
          ],
          "scatterpolargl": [
           {
            "marker": {
             "colorbar": {
              "outlinewidth": 0,
              "ticks": ""
             }
            },
            "type": "scatterpolargl"
           }
          ],
          "scatterternary": [
           {
            "marker": {
             "colorbar": {
              "outlinewidth": 0,
              "ticks": ""
             }
            },
            "type": "scatterternary"
           }
          ],
          "surface": [
           {
            "colorbar": {
             "outlinewidth": 0,
             "ticks": ""
            },
            "colorscale": [
             [
              0,
              "#0d0887"
             ],
             [
              0.1111111111111111,
              "#46039f"
             ],
             [
              0.2222222222222222,
              "#7201a8"
             ],
             [
              0.3333333333333333,
              "#9c179e"
             ],
             [
              0.4444444444444444,
              "#bd3786"
             ],
             [
              0.5555555555555556,
              "#d8576b"
             ],
             [
              0.6666666666666666,
              "#ed7953"
             ],
             [
              0.7777777777777778,
              "#fb9f3a"
             ],
             [
              0.8888888888888888,
              "#fdca26"
             ],
             [
              1,
              "#f0f921"
             ]
            ],
            "type": "surface"
           }
          ],
          "table": [
           {
            "cells": {
             "fill": {
              "color": "#EBF0F8"
             },
             "line": {
              "color": "white"
             }
            },
            "header": {
             "fill": {
              "color": "#C8D4E3"
             },
             "line": {
              "color": "white"
             }
            },
            "type": "table"
           }
          ]
         },
         "layout": {
          "annotationdefaults": {
           "arrowcolor": "#2a3f5f",
           "arrowhead": 0,
           "arrowwidth": 1
          },
          "autotypenumbers": "strict",
          "coloraxis": {
           "colorbar": {
            "outlinewidth": 0,
            "ticks": ""
           }
          },
          "colorscale": {
           "diverging": [
            [
             0,
             "#8e0152"
            ],
            [
             0.1,
             "#c51b7d"
            ],
            [
             0.2,
             "#de77ae"
            ],
            [
             0.3,
             "#f1b6da"
            ],
            [
             0.4,
             "#fde0ef"
            ],
            [
             0.5,
             "#f7f7f7"
            ],
            [
             0.6,
             "#e6f5d0"
            ],
            [
             0.7,
             "#b8e186"
            ],
            [
             0.8,
             "#7fbc41"
            ],
            [
             0.9,
             "#4d9221"
            ],
            [
             1,
             "#276419"
            ]
           ],
           "sequential": [
            [
             0,
             "#0d0887"
            ],
            [
             0.1111111111111111,
             "#46039f"
            ],
            [
             0.2222222222222222,
             "#7201a8"
            ],
            [
             0.3333333333333333,
             "#9c179e"
            ],
            [
             0.4444444444444444,
             "#bd3786"
            ],
            [
             0.5555555555555556,
             "#d8576b"
            ],
            [
             0.6666666666666666,
             "#ed7953"
            ],
            [
             0.7777777777777778,
             "#fb9f3a"
            ],
            [
             0.8888888888888888,
             "#fdca26"
            ],
            [
             1,
             "#f0f921"
            ]
           ],
           "sequentialminus": [
            [
             0,
             "#0d0887"
            ],
            [
             0.1111111111111111,
             "#46039f"
            ],
            [
             0.2222222222222222,
             "#7201a8"
            ],
            [
             0.3333333333333333,
             "#9c179e"
            ],
            [
             0.4444444444444444,
             "#bd3786"
            ],
            [
             0.5555555555555556,
             "#d8576b"
            ],
            [
             0.6666666666666666,
             "#ed7953"
            ],
            [
             0.7777777777777778,
             "#fb9f3a"
            ],
            [
             0.8888888888888888,
             "#fdca26"
            ],
            [
             1,
             "#f0f921"
            ]
           ]
          },
          "colorway": [
           "#636efa",
           "#EF553B",
           "#00cc96",
           "#ab63fa",
           "#FFA15A",
           "#19d3f3",
           "#FF6692",
           "#B6E880",
           "#FF97FF",
           "#FECB52"
          ],
          "font": {
           "color": "#2a3f5f"
          },
          "geo": {
           "bgcolor": "white",
           "lakecolor": "white",
           "landcolor": "#E5ECF6",
           "showlakes": true,
           "showland": true,
           "subunitcolor": "white"
          },
          "hoverlabel": {
           "align": "left"
          },
          "hovermode": "closest",
          "mapbox": {
           "style": "light"
          },
          "paper_bgcolor": "white",
          "plot_bgcolor": "#E5ECF6",
          "polar": {
           "angularaxis": {
            "gridcolor": "white",
            "linecolor": "white",
            "ticks": ""
           },
           "bgcolor": "#E5ECF6",
           "radialaxis": {
            "gridcolor": "white",
            "linecolor": "white",
            "ticks": ""
           }
          },
          "scene": {
           "xaxis": {
            "backgroundcolor": "#E5ECF6",
            "gridcolor": "white",
            "gridwidth": 2,
            "linecolor": "white",
            "showbackground": true,
            "ticks": "",
            "zerolinecolor": "white"
           },
           "yaxis": {
            "backgroundcolor": "#E5ECF6",
            "gridcolor": "white",
            "gridwidth": 2,
            "linecolor": "white",
            "showbackground": true,
            "ticks": "",
            "zerolinecolor": "white"
           },
           "zaxis": {
            "backgroundcolor": "#E5ECF6",
            "gridcolor": "white",
            "gridwidth": 2,
            "linecolor": "white",
            "showbackground": true,
            "ticks": "",
            "zerolinecolor": "white"
           }
          },
          "shapedefaults": {
           "line": {
            "color": "#2a3f5f"
           }
          },
          "ternary": {
           "aaxis": {
            "gridcolor": "white",
            "linecolor": "white",
            "ticks": ""
           },
           "baxis": {
            "gridcolor": "white",
            "linecolor": "white",
            "ticks": ""
           },
           "bgcolor": "#E5ECF6",
           "caxis": {
            "gridcolor": "white",
            "linecolor": "white",
            "ticks": ""
           }
          },
          "title": {
           "x": 0.05
          },
          "xaxis": {
           "automargin": true,
           "gridcolor": "white",
           "linecolor": "white",
           "ticks": "",
           "title": {
            "standoff": 15
           },
           "zerolinecolor": "white",
           "zerolinewidth": 2
          },
          "yaxis": {
           "automargin": true,
           "gridcolor": "white",
           "linecolor": "white",
           "ticks": "",
           "title": {
            "standoff": 15
           },
           "zerolinecolor": "white",
           "zerolinewidth": 2
          }
         }
        },
        "title": {
         "text": "2D Cluster PCA Plot"
        },
        "xaxis": {
         "anchor": "y",
         "domain": [
          0,
          1
         ],
         "title": {
          "text": "PCA1"
         }
        },
        "yaxis": {
         "anchor": "x",
         "domain": [
          0,
          1
         ],
         "title": {
          "text": "PCA2"
         }
        }
       }
      }
     },
     "metadata": {},
     "output_type": "display_data"
    }
   ],
   "source": [
    "clust.plot_model(kmeans, feature=\"tag\", label=True)"
   ]
  },
  {
   "cell_type": "markdown",
   "metadata": {},
   "source": [
    "* Interactive 3D T-SNE plot"
   ]
  },
  {
   "cell_type": "code",
   "execution_count": 9,
   "metadata": {},
   "outputs": [
    {
     "data": {
      "text/html": [],
      "text/plain": [
       "<IPython.core.display.HTML object>"
      ]
     },
     "metadata": {},
     "output_type": "display_data"
    },
    {
     "data": {
      "application/vnd.plotly.v1+json": {
       "config": {
        "plotlyServerURL": "https://plot.ly"
       },
       "data": [
        {
         "customdata": [
          [
           63
          ],
          [
           45
          ],
          [
           53
          ],
          [
           59
          ],
          [
           64
          ],
          [
           52
          ],
          [
           56
          ],
          [
           53
          ],
          [
           42
          ],
          [
           63
          ],
          [
           42
          ],
          [
           66
          ],
          [
           57
          ],
          [
           69
          ],
          [
           68
          ],
          [
           69
          ],
          [
           45
          ],
          [
           50
          ],
          [
           50
          ],
          [
           57
          ],
          [
           43
          ],
          [
           50
          ],
          [
           62
          ],
          [
           37
          ],
          [
           38
          ],
          [
           50
          ],
          [
           48
          ],
          [
           58
          ],
          [
           54
          ],
          [
           35
          ],
          [
           65
          ],
          [
           48
          ],
          [
           51
          ],
          [
           55
          ],
          [
           45
          ],
          [
           54
          ],
          [
           44
          ],
          [
           62
          ],
          [
           54
          ],
          [
           51
          ],
          [
           29
          ],
          [
           43
          ],
          [
           55
          ],
          [
           70
          ],
          [
           35
          ],
          [
           51
          ],
          [
           59
          ],
          [
           52
          ],
          [
           58
          ],
          [
           47
          ],
          [
           41
          ],
          [
           57
          ],
          [
           64
          ],
          [
           46
          ],
          [
           41
          ],
          [
           66
          ],
          [
           52
          ],
          [
           56
          ],
          [
           40
          ],
          [
           42
          ],
          [
           61
          ],
          [
           66
          ],
          [
           71
          ],
          [
           59
          ],
          [
           64
          ],
          [
           39
          ],
          [
           57
          ],
          [
           58
          ],
          [
           47
          ],
          [
           55
          ],
          [
           35
          ],
          [
           61
          ],
          [
           58
          ],
          [
           56
          ],
          [
           56
          ],
          [
           67
          ],
          [
           44
          ],
          [
           63
          ],
          [
           63
          ],
          [
           41
          ],
          [
           59
          ],
          [
           57
          ],
          [
           68
          ],
          [
           59
          ],
          [
           58
          ],
          [
           61
          ],
          [
           60
          ],
          [
           46
          ],
          [
           46
          ],
          [
           39
          ],
          [
           34
          ],
          [
           47
          ],
          [
           54
          ],
          [
           66
          ],
          [
           52
          ],
          [
           49
          ],
          [
           54
          ],
          [
           46
          ],
          [
           41
          ],
          [
           61
          ],
          [
           60
          ],
          [
           67
          ],
          [
           58
          ],
          [
           52
          ],
          [
           62
          ],
          [
           57
          ],
          [
           58
          ],
          [
           42
          ],
          [
           67
          ],
          [
           76
          ],
          [
           70
          ],
          [
           44
          ],
          [
           44
          ],
          [
           41
          ],
          [
           57
          ],
          [
           66
          ],
          [
           42
          ],
          [
           65
          ],
          [
           44
          ],
          [
           44
          ],
          [
           59
          ],
          [
           60
          ],
          [
           69
          ],
          [
           48
          ],
          [
           40
          ],
          [
           43
          ],
          [
           45
          ],
          [
           65
          ],
          [
           50
          ],
          [
           60
          ],
          [
           58
          ],
          [
           44
          ],
          [
           47
          ],
          [
           67
          ],
          [
           53
          ],
          [
           43
          ],
          [
           61
          ],
          [
           53
          ],
          [
           50
          ],
          [
           51
          ],
          [
           58
          ],
          [
           44
          ],
          [
           60
          ],
          [
           50
          ],
          [
           41
          ],
          [
           51
          ],
          [
           46
          ],
          [
           58
          ],
          [
           59
          ],
          [
           54
          ],
          [
           40
          ],
          [
           65
          ],
          [
           60
          ],
          [
           54
          ],
          [
           46
          ],
          [
           64
          ],
          [
           41
          ],
          [
           41
          ],
          [
           37
          ],
          [
           63
          ],
          [
           57
          ],
          [
           52
          ],
          [
           59
          ],
          [
           56
          ],
          [
           44
          ],
          [
           57
          ],
          [
           52
          ],
          [
           59
          ],
          [
           48
          ],
          [
           45
          ],
          [
           63
          ],
          [
           34
          ],
          [
           53
          ],
          [
           62
          ],
          [
           49
          ],
          [
           56
          ],
          [
           52
          ],
          [
           51
          ],
          [
           54
          ],
          [
           39
          ],
          [
           56
          ],
          [
           57
          ],
          [
           48
          ],
          [
           62
          ],
          [
           52
          ],
          [
           67
          ]
         ],
         "hovertemplate": "Cluster=Cluster 0<br>0=%{x}<br>1=%{y}<br>2=%{z}<br>Feature=%{customdata[0]}<extra></extra>",
         "legendgroup": "Cluster 0",
         "marker": {
          "color": "#636efa",
          "opacity": 0.7,
          "symbol": "circle"
         },
         "mode": "markers",
         "name": "Cluster 0",
         "scene": "scene",
         "showlegend": true,
         "type": "scatter3d",
         "x": [
          -0.92494124,
          -7.216325,
          -2.3090036,
          -0.8264895,
          -3.8344824,
          -1.2617203,
          -6.134385,
          -0.06281952,
          -0.7440683,
          -5.546427,
          -0.87300897,
          -1.0276195,
          -4.4559565,
          0.9784217,
          -3.9044948,
          -1.2692399,
          -0.86416835,
          -0.21669202,
          0.45916176,
          -7.8821397,
          -4.0503335,
          -4.5398145,
          -0.29472172,
          -3.8402889,
          -2.0271785,
          -5.3416843,
          0.8633366,
          0.63583636,
          -3.4590182,
          -6.361173,
          1.4286191,
          1.5473994,
          -2.4472265,
          -2.7117567,
          -1.4858174,
          0.08599682,
          -3.3038778,
          -4.1452546,
          1.5914822,
          -1.9843132,
          -4.625671,
          -3.8511207,
          0.7210317,
          -6.598501,
          -5.150532,
          -0.11956702,
          -2.9427674,
          -4.879806,
          -0.92677444,
          -0.5027701,
          0.6920119,
          -7.851175,
          3.1157806,
          -4.8202434,
          -3.9193814,
          -2.0031326,
          -1.806563,
          -5.392841,
          -2.0404806,
          -6.540794,
          -4.1896954,
          -1.5295776,
          -7.669049,
          -4.7043056,
          -1.9147817,
          -2.358028,
          -1.2826356,
          -4.7949862,
          0.5152929,
          -4.245395,
          -5.9055576,
          -4.588324,
          -1.8466961,
          -2.9513857,
          -0.71133524,
          -3.8808358,
          -6.929356,
          -5.7862334,
          -4.781141,
          -7.4346824,
          -6.28503,
          -0.7819602,
          -5.427775,
          -3.328492,
          -4.1241784,
          -6.8759847,
          -0.93038255,
          -4.9785075,
          -0.286732,
          -5.2922163,
          -4.386692,
          -4.2450967,
          -4.6037345,
          -3.391264,
          -5.4086785,
          -7.516757,
          -4.6122518,
          0.70433164,
          -0.92534226,
          -1.0843439,
          -6.294182,
          2.9484203,
          -1.4690683,
          -3.9415574,
          -3.989548,
          -4.4767823,
          -2.5270503,
          -4.3284764,
          -2.4548,
          -5.2003617,
          -0.6075897,
          -0.13163446,
          -2.7588298,
          -4.619941,
          -1.04614,
          -2.1250226,
          -1.9928724,
          -0.12589933,
          -5.410742,
          -1.6201366,
          -1.2957137,
          -1.7395124,
          -0.540687,
          -0.26366863,
          -6.8888016,
          -0.6111266,
          -4.044543,
          -6.369207,
          -3.178717,
          -4.1180224,
          -2.5982416,
          -1.4073551,
          1.5681928,
          0.9147176,
          -1.1519935,
          -6.5090084,
          -0.6437152,
          -5.255014,
          -0.7132314,
          -6.6596217,
          -1.7789167,
          -3.1715648,
          1.3484477,
          -1.2854003,
          -6.9362955,
          -3.7928307,
          -6.697847,
          -3.492669,
          -4.0428143,
          -5.900952,
          -5.5657277,
          -2.1744819,
          -6.0927024,
          -1.2996163,
          -1.4255784,
          -3.1763086,
          -5.1707506,
          -4.8860903,
          0.039302647,
          0.63541687,
          -1.4567561,
          1.2729124,
          -0.7845546,
          -1.1373357,
          -7.6193585,
          -5.5647607,
          -5.0389156,
          -6.6277575,
          -2.935772,
          1.1506865,
          1.3408353,
          -6.328774,
          -4.8751917,
          -1.2952254,
          -5.7583575,
          1.6038738,
          -6.120718,
          1.5912431,
          -0.8255569,
          -3.8241572,
          1.0387963,
          -7.069847,
          -2.104801,
          -7.021149,
          -4.5850267,
          -2.389105
         ],
         "y": [
          -2.0468225,
          0.46915716,
          -2.0624924,
          -3.7235992,
          -1.6372002,
          1.9301289,
          -0.44600257,
          0.4189856,
          -1.020579,
          -1.0808916,
          1.2468019,
          -2.9422824,
          -0.6488872,
          -1.4897151,
          0.1034074,
          -3.0994885,
          -1.4560806,
          1.1932617,
          1.8830857,
          -0.3866135,
          1.8211343,
          -1.3567477,
          -2.3816922,
          1.3007574,
          1.1346188,
          -0.36757642,
          0.91103107,
          1.192398,
          1.6990366,
          0.33607224,
          -1.0003505,
          -0.03951612,
          2.0268357,
          -1.8919324,
          0.37307453,
          1.2684851,
          1.226344,
          -0.31602377,
          0.38582364,
          2.3563125,
          1.0966573,
          1.0599637,
          -0.3784622,
          -1.3217155,
          0.7519764,
          0.8012755,
          -1.3030651,
          0.3013954,
          2.230868,
          1.8235148,
          1.5748427,
          -0.13526952,
          0.32921466,
          2.046232,
          0.65905195,
          -3.7917283,
          1.8320564,
          0.042055756,
          -0.8199766,
          -0.10430651,
          -1.3420707,
          -3.2161157,
          0.00028665754,
          -0.9721949,
          -3.662171,
          -1.5760535,
          -2.4272537,
          -0.5734807,
          0.6110665,
          -0.45184997,
          1.0430769,
          -2.0461342,
          -3.5907862,
          -0.47616503,
          1.1280166,
          -2.4705133,
          0.39510956,
          -1.3904747,
          -0.29016492,
          0.62688154,
          -1.374188,
          -2.2140532,
          -1.6048037,
          -0.22000086,
          -1.3583388,
          -0.94237745,
          -2.1536164,
          2.0415604,
          -1.2778344,
          2.3082736,
          1.1970211,
          1.5185735,
          0.42690882,
          0.7279772,
          -0.67053425,
          0.17602184,
          -2.7455542,
          0.83639646,
          1.7184947,
          -1.17406,
          -0.19379796,
          0.2929318,
          2.3131437,
          0.21409643,
          -0.46006393,
          0.61051166,
          -2.0786877,
          1.1578006,
          1.4362372,
          -1.5612667,
          -2.9145074,
          1.3357756,
          1.3117645,
          -0.84706855,
          0.35316032,
          -2.3263671,
          -0.34069282,
          2.2505715,
          1.773227,
          0.42465192,
          -1.0781268,
          1.6073825,
          -1.8428015,
          0.5298343,
          0.45351312,
          -1.291947,
          1.8721006,
          -0.16821814,
          1.183142,
          -0.62383646,
          -0.43651745,
          -0.3211181,
          -0.45217806,
          0.45772898,
          -1.3538404,
          0.33314967,
          -2.629589,
          -0.7138508,
          -2.43879,
          0.40266097,
          1.8180279,
          0.7040546,
          -0.51993346,
          -1.4121261,
          0.82080746,
          -0.24507852,
          -0.8778981,
          -0.39103934,
          -2.2488983,
          0.062036846,
          0.049105402,
          -2.2938678,
          -1.2761978,
          -2.145142,
          -2.2406044,
          1.1856543,
          2.0118096,
          0.4659311,
          0.79863214,
          -0.06788637,
          -0.6846829,
          0.19258633,
          1.7606567,
          1.0641383,
          0.62137914,
          -1.3182045,
          -0.8799005,
          -1.1361248,
          0.9026882,
          1.4595855,
          -0.650345,
          1.1067468,
          -1.406425,
          -0.887158,
          0.26522973,
          -0.31910357,
          1.2349337,
          -0.08801358,
          -1.4416721,
          1.6873724,
          0.04312309,
          -1.0709519,
          1.8544891,
          -1.6013325,
          -3.0421422,
          0.2592668
         ],
         "z": [
          -0.13863899,
          -1.8527752,
          -3.1805873,
          -0.8274968,
          -2.231772,
          -0.8337307,
          -3.54669,
          2.4405537,
          3.3321843,
          1.753791,
          3.7470875,
          -2.1865911,
          1.325579,
          -0.75440156,
          -3.5327816,
          -1.5620644,
          0.8139312,
          1.264852,
          0.59313196,
          0.23804618,
          0.6598112,
          -2.7358322,
          0.06489938,
          1.9552001,
          3.3276057,
          0.8087997,
          2.8196898,
          -2.6743493,
          0.22014874,
          1.8775097,
          -2.0764496,
          0.08087711,
          -1.129653,
          -3.2417214,
          3.0273633,
          -2.4529886,
          1.8736484,
          0.97710353,
          -0.7077912,
          -0.67221147,
          3.499929,
          1.5765176,
          1.2754598,
          -2.414477,
          -2.3517897,
          1.754834,
          1.4305501,
          2.5493567,
          -0.3144798,
          -0.37249392,
          3.2047596,
          -2.506314,
          -4.5620136,
          0.119464,
          1.9784317,
          0.13147534,
          0.4656588,
          0.50759816,
          3.595132,
          -0.6293843,
          -1.9798168,
          -1.1068842,
          -2.4618113,
          0.9032823,
          -0.08892411,
          0.6635052,
          1.6579432,
          -2.3596053,
          3.1236556,
          -2.585601,
          1.6211061,
          0.6080773,
          -0.37031212,
          1.4026994,
          1.7691191,
          0.009562082,
          -1.339664,
          -1.0978991,
          -2.1024735,
          0.6430351,
          -3.726711,
          -2.4622006,
          -1.3535391,
          -2.487981,
          1.142997,
          -2.4383397,
          2.1398711,
          1.1547017,
          0.83546627,
          1.2608371,
          3.2923715,
          -1.1850085,
          -3.6804957,
          -2.5271506,
          1.2716192,
          -2.3595488,
          0.7179698,
          -0.77288336,
          -0.36246815,
          -0.48055133,
          -3.6480513,
          -4.934765,
          -0.40119243,
          1.4862089,
          -2.032922,
          -2.949498,
          -3.249815,
          1.9259142,
          -1.8288571,
          -3.2887714,
          -0.99765956,
          -0.49199387,
          1.8937162,
          -2.8019264,
          2.3400962,
          -2.9542327,
          3.421047,
          0.30882293,
          1.4645282,
          3.212478,
          1.1840085,
          0.59898496,
          -0.34717515,
          3.104407,
          -2.8879564,
          3.1387668,
          -0.66646636,
          -1.7553322,
          0.79226166,
          -2.4284925,
          1.9473674,
          3.3860397,
          0.8321014,
          1.2528201,
          1.2605606,
          -2.8772306,
          -1.4201603,
          -0.03627099,
          -2.1891773,
          -2.71596,
          0.73847175,
          3.3630302,
          -0.8654237,
          1.5458913,
          -0.4840062,
          -2.9178987,
          0.067713864,
          -2.5963485,
          0.516968,
          -3.3537362,
          2.2105005,
          -2.9798794,
          -0.28710932,
          1.7656543,
          0.5151587,
          -1.9319016,
          1.0017653,
          1.995825,
          3.7019184,
          2.0661156,
          -0.25884175,
          1.1360252,
          -1.2936885,
          2.360013,
          0.41323462,
          -0.63882947,
          0.562496,
          0.055986334,
          3.2374213,
          3.170951,
          -0.7319365,
          1.3410562,
          0.32934675,
          -0.5137515,
          -1.7712659,
          -0.84641474,
          2.059764,
          -0.044745933,
          1.2759402,
          -1.3558149,
          -0.8476519,
          0.41680115,
          1.0875096,
          -1.0153328,
          0.7325385,
          -2.5982466
         ]
        },
        {
         "customdata": [
          [
           41
          ],
          [
           62
          ],
          [
           54
          ],
          [
           65
          ],
          [
           67
          ],
          [
           42
          ],
          [
           45
          ],
          [
           49
          ],
          [
           49
          ],
          [
           55
          ],
          [
           56
          ],
          [
           74
          ],
          [
           61
          ],
          [
           66
          ],
          [
           55
          ],
          [
           57
          ],
          [
           58
          ],
          [
           48
          ],
          [
           46
          ],
          [
           58
          ],
          [
           57
          ],
          [
           58
          ],
          [
           42
          ],
          [
           44
          ],
          [
           58
          ],
          [
           71
          ],
          [
           57
          ],
          [
           64
          ],
          [
           56
          ],
          [
           43
          ],
          [
           51
          ],
          [
           64
          ],
          [
           57
          ],
          [
           49
          ],
          [
           47
          ],
          [
           55
          ],
          [
           58
          ],
          [
           43
          ],
          [
           55
          ],
          [
           63
          ],
          [
           42
          ],
          [
           67
          ],
          [
           55
          ],
          [
           70
          ],
          [
           51
          ],
          [
           58
          ],
          [
           52
          ],
          [
           60
          ],
          [
           77
          ],
          [
           52
          ],
          [
           68
          ],
          [
           54
          ],
          [
           35
          ],
          [
           39
          ],
          [
           68
          ],
          [
           70
          ],
          [
           66
          ],
          [
           57
          ],
          [
           63
          ],
          [
           61
          ],
          [
           63
          ],
          [
           61
          ],
          [
           65
          ],
          [
           56
          ],
          [
           45
          ],
          [
           54
          ],
          [
           57
          ],
          [
           51
          ],
          [
           62
          ],
          [
           60
          ],
          [
           59
          ],
          [
           64
          ],
          [
           71
          ],
          [
           53
          ],
          [
           62
          ],
          [
           58
          ],
          [
           64
          ],
          [
           54
          ],
          [
           45
          ],
          [
           58
          ],
          [
           62
          ],
          [
           51
          ],
          [
           64
          ],
          [
           54
          ],
          [
           64
          ],
          [
           59
          ],
          [
           41
          ],
          [
           54
          ],
          [
           44
          ],
          [
           53
          ],
          [
           54
          ],
          [
           60
          ],
          [
           59
          ],
          [
           59
          ],
          [
           57
          ],
          [
           51
          ],
          [
           43
          ],
          [
           60
          ],
          [
           48
          ],
          [
           56
          ],
          [
           65
          ],
          [
           59
          ],
          [
           60
          ],
          [
           62
          ],
          [
           54
          ],
          [
           65
          ],
          [
           51
          ],
          [
           62
          ],
          [
           67
          ],
          [
           67
          ],
          [
           60
          ]
         ],
         "hovertemplate": "Cluster=Cluster 1<br>0=%{x}<br>1=%{y}<br>2=%{z}<br>Feature=%{customdata[0]}<extra></extra>",
         "legendgroup": "Cluster 1",
         "marker": {
          "color": "#EF553B",
          "opacity": 0.7,
          "symbol": "circle"
         },
         "mode": "markers",
         "name": "Cluster 1",
         "scene": "scene",
         "showlegend": true,
         "type": "scatter3d",
         "x": [
          6.587903,
          3.4722874,
          4.43208,
          10.013258,
          5.0944424,
          5.6195045,
          1.9018908,
          2.7597039,
          2.952038,
          7.6060414,
          4.4265704,
          2.8453548,
          8.173408,
          4.4695134,
          8.524897,
          8.742197,
          4.9842286,
          3.065686,
          6.6535687,
          4.498461,
          7.852173,
          8.425055,
          6.8942537,
          1.7183712,
          7.267552,
          6.327368,
          1.9615575,
          8.316322,
          5.653784,
          6.627908,
          5.5121713,
          3.536495,
          4.801033,
          2.3794484,
          2.6451173,
          8.501747,
          7.054052,
          8.280537,
          2.0885897,
          1.976012,
          2.0015094,
          10.491171,
          5.397333,
          6.902068,
          6.2263503,
          6.1215997,
          6.1514096,
          5.6689196,
          5.932393,
          7.8143106,
          5.2554936,
          5.106932,
          4.3106995,
          7.608959,
          3.7292314,
          4.831065,
          6.037394,
          5.290164,
          7.627605,
          6.605468,
          9.948437,
          1.8869137,
          4.714551,
          5.6389103,
          6.7740874,
          6.6811113,
          6.1656237,
          1.2272636,
          4.0925837,
          1.1770164,
          5.622107,
          6.536576,
          2.4666352,
          2.3038073,
          9.830548,
          4.6851344,
          6.817972,
          6.4231114,
          6.721062,
          1.8412089,
          3.669593,
          6.489653,
          7.5823207,
          3.1608684,
          6.2013803,
          3.757476,
          1.8795989,
          1.9005,
          5.103333,
          4.2623515,
          3.478991,
          4.692516,
          4.936797,
          7.647541,
          4.598957,
          6.664327,
          7.1132784,
          1.7281435,
          2.9705236,
          9.968753,
          8.998701,
          5.198099,
          6.4195504,
          3.6051998,
          5.658044,
          4.338247,
          6.109211,
          5.2170095,
          5.5642557,
          4.705939,
          7.120156
         ],
         "y": [
          -0.42124066,
          1.1730045,
          0.03655176,
          -0.085751235,
          1.8510149,
          -0.6788794,
          0.8754936,
          0.42567787,
          0.42589143,
          2.0005565,
          0.43813258,
          -0.28253296,
          -0.41160935,
          1.7348601,
          -0.45986545,
          -0.67392284,
          1.7474124,
          0.06906753,
          0.31886816,
          -0.31401747,
          -1.1612964,
          -0.69213784,
          0.2500504,
          1.1842678,
          0.054557145,
          2.0821457,
          -0.042973585,
          -0.09394801,
          0.73218215,
          -0.598506,
          -0.6259606,
          0.41935232,
          1.6828865,
          0.62012523,
          0.7600634,
          -0.42683196,
          -1.1123437,
          -0.4945464,
          0.08250169,
          2.0459263,
          0.9722798,
          -0.24219339,
          2.127104,
          -0.50399196,
          0.8188182,
          -0.063764565,
          1.5327383,
          1.0491457,
          -0.9343152,
          -0.6653977,
          3.1376336,
          0.23852918,
          -0.54766506,
          0.13119096,
          -0.45851532,
          2.059065,
          -0.88850427,
          2.163409,
          -0.5162761,
          0.694965,
          -0.050080422,
          -0.040272504,
          1.4154576,
          3.174392,
          -0.1915236,
          -1.3631871,
          -0.24146599,
          0.136544,
          0.1919957,
          -1.8718699,
          2.6233757,
          -0.5201798,
          -0.26589698,
          -0.07709458,
          -0.054858472,
          1.729355,
          0.07081843,
          0.37901536,
          0.45642614,
          -0.46662363,
          0.52190113,
          -0.05328442,
          2.047609,
          0.0023002094,
          -0.20710634,
          1.3982072,
          1.535265,
          1.9258311,
          -0.9194981,
          0.31239986,
          0.40583676,
          1.6172748,
          2.195745,
          1.8906059,
          1.4164252,
          0.35633236,
          -0.21359697,
          -0.22837201,
          0.4930771,
          -0.09016668,
          0.39216796,
          3.1356647,
          1.8683771,
          0.3449954,
          3.1318681,
          2.1119888,
          0.41199234,
          0.5154071,
          -1.2145649,
          1.9139917,
          -1.5137523
         ],
         "z": [
          1.5008967,
          0.8201703,
          -3.0158372,
          -0.48885867,
          -2.9145527,
          1.6619003,
          -2.497203,
          1.628305,
          1.52041,
          -1.2204422,
          -3.429608,
          -2.9081316,
          0.71359503,
          0.17008233,
          -0.95316595,
          0.20324308,
          0.7819351,
          -0.56002027,
          -2.0459273,
          1.0561845,
          -0.50972795,
          0.66302526,
          -1.8425032,
          2.6963532,
          -0.09013828,
          0.39269304,
          -1.0869958,
          0.1700783,
          0.35923457,
          2.1043246,
          1.2223374,
          -3.892056,
          -3.0573056,
          2.1930416,
          -2.9951813,
          0.43762264,
          -0.7128027,
          -1.0167531,
          0.5729926,
          1.9196583,
          -2.8326983,
          -0.53976995,
          -0.45325267,
          -2.308444,
          1.5456363,
          1.4456236,
          1.458452,
          1.399965,
          0.3499565,
          1.0771782,
          -0.6158246,
          1.042668,
          1.908999,
          1.7275878,
          0.421899,
          -3.0000832,
          0.22672106,
          -2.1749449,
          -1.281043,
          -0.48662668,
          -0.49189582,
          -1.425488,
          1.6735283,
          -1.1980429,
          1.5776916,
          0.65589815,
          0.79142976,
          3.421635,
          -3.4761496,
          0.44877243,
          0.056851845,
          -1.5206834,
          -2.59262,
          -0.54230773,
          -0.46242204,
          -3.1477401,
          -1.3676424,
          1.3983213,
          -0.42271537,
          -1.8522844,
          -4.0672703,
          -0.6454359,
          -0.6033655,
          0.5569463,
          -2.1125731,
          2.2749875,
          2.65777,
          2.0365655,
          1.5431798,
          -3.6392589,
          -3.595471,
          -0.32793936,
          -2.4583437,
          -0.8447316,
          -3.725503,
          -0.70669377,
          1.1638056,
          -1.1819202,
          1.9477922,
          -0.4905671,
          -0.4636123,
          -0.7561415,
          0.37910715,
          -3.9096675,
          0.9472022,
          -0.17445192,
          -2.2394638,
          -3.0381477,
          -1.9475913,
          1.3083067,
          0.5232019
         ]
        }
       ],
       "layout": {
        "height": 800,
        "legend": {
         "title": {
          "text": "Cluster"
         },
         "tracegroupgap": 0
        },
        "scene": {
         "domain": {
          "x": [
           0,
           1
          ],
          "y": [
           0,
           1
          ]
         },
         "xaxis": {
          "title": {
           "text": "0"
          }
         },
         "yaxis": {
          "title": {
           "text": "1"
          }
         },
         "zaxis": {
          "title": {
           "text": "2"
          }
         }
        },
        "template": {
         "data": {
          "bar": [
           {
            "error_x": {
             "color": "#2a3f5f"
            },
            "error_y": {
             "color": "#2a3f5f"
            },
            "marker": {
             "line": {
              "color": "#E5ECF6",
              "width": 0.5
             },
             "pattern": {
              "fillmode": "overlay",
              "size": 10,
              "solidity": 0.2
             }
            },
            "type": "bar"
           }
          ],
          "barpolar": [
           {
            "marker": {
             "line": {
              "color": "#E5ECF6",
              "width": 0.5
             },
             "pattern": {
              "fillmode": "overlay",
              "size": 10,
              "solidity": 0.2
             }
            },
            "type": "barpolar"
           }
          ],
          "carpet": [
           {
            "aaxis": {
             "endlinecolor": "#2a3f5f",
             "gridcolor": "white",
             "linecolor": "white",
             "minorgridcolor": "white",
             "startlinecolor": "#2a3f5f"
            },
            "baxis": {
             "endlinecolor": "#2a3f5f",
             "gridcolor": "white",
             "linecolor": "white",
             "minorgridcolor": "white",
             "startlinecolor": "#2a3f5f"
            },
            "type": "carpet"
           }
          ],
          "choropleth": [
           {
            "colorbar": {
             "outlinewidth": 0,
             "ticks": ""
            },
            "type": "choropleth"
           }
          ],
          "contour": [
           {
            "colorbar": {
             "outlinewidth": 0,
             "ticks": ""
            },
            "colorscale": [
             [
              0,
              "#0d0887"
             ],
             [
              0.1111111111111111,
              "#46039f"
             ],
             [
              0.2222222222222222,
              "#7201a8"
             ],
             [
              0.3333333333333333,
              "#9c179e"
             ],
             [
              0.4444444444444444,
              "#bd3786"
             ],
             [
              0.5555555555555556,
              "#d8576b"
             ],
             [
              0.6666666666666666,
              "#ed7953"
             ],
             [
              0.7777777777777778,
              "#fb9f3a"
             ],
             [
              0.8888888888888888,
              "#fdca26"
             ],
             [
              1,
              "#f0f921"
             ]
            ],
            "type": "contour"
           }
          ],
          "contourcarpet": [
           {
            "colorbar": {
             "outlinewidth": 0,
             "ticks": ""
            },
            "type": "contourcarpet"
           }
          ],
          "heatmap": [
           {
            "colorbar": {
             "outlinewidth": 0,
             "ticks": ""
            },
            "colorscale": [
             [
              0,
              "#0d0887"
             ],
             [
              0.1111111111111111,
              "#46039f"
             ],
             [
              0.2222222222222222,
              "#7201a8"
             ],
             [
              0.3333333333333333,
              "#9c179e"
             ],
             [
              0.4444444444444444,
              "#bd3786"
             ],
             [
              0.5555555555555556,
              "#d8576b"
             ],
             [
              0.6666666666666666,
              "#ed7953"
             ],
             [
              0.7777777777777778,
              "#fb9f3a"
             ],
             [
              0.8888888888888888,
              "#fdca26"
             ],
             [
              1,
              "#f0f921"
             ]
            ],
            "type": "heatmap"
           }
          ],
          "heatmapgl": [
           {
            "colorbar": {
             "outlinewidth": 0,
             "ticks": ""
            },
            "colorscale": [
             [
              0,
              "#0d0887"
             ],
             [
              0.1111111111111111,
              "#46039f"
             ],
             [
              0.2222222222222222,
              "#7201a8"
             ],
             [
              0.3333333333333333,
              "#9c179e"
             ],
             [
              0.4444444444444444,
              "#bd3786"
             ],
             [
              0.5555555555555556,
              "#d8576b"
             ],
             [
              0.6666666666666666,
              "#ed7953"
             ],
             [
              0.7777777777777778,
              "#fb9f3a"
             ],
             [
              0.8888888888888888,
              "#fdca26"
             ],
             [
              1,
              "#f0f921"
             ]
            ],
            "type": "heatmapgl"
           }
          ],
          "histogram": [
           {
            "marker": {
             "pattern": {
              "fillmode": "overlay",
              "size": 10,
              "solidity": 0.2
             }
            },
            "type": "histogram"
           }
          ],
          "histogram2d": [
           {
            "colorbar": {
             "outlinewidth": 0,
             "ticks": ""
            },
            "colorscale": [
             [
              0,
              "#0d0887"
             ],
             [
              0.1111111111111111,
              "#46039f"
             ],
             [
              0.2222222222222222,
              "#7201a8"
             ],
             [
              0.3333333333333333,
              "#9c179e"
             ],
             [
              0.4444444444444444,
              "#bd3786"
             ],
             [
              0.5555555555555556,
              "#d8576b"
             ],
             [
              0.6666666666666666,
              "#ed7953"
             ],
             [
              0.7777777777777778,
              "#fb9f3a"
             ],
             [
              0.8888888888888888,
              "#fdca26"
             ],
             [
              1,
              "#f0f921"
             ]
            ],
            "type": "histogram2d"
           }
          ],
          "histogram2dcontour": [
           {
            "colorbar": {
             "outlinewidth": 0,
             "ticks": ""
            },
            "colorscale": [
             [
              0,
              "#0d0887"
             ],
             [
              0.1111111111111111,
              "#46039f"
             ],
             [
              0.2222222222222222,
              "#7201a8"
             ],
             [
              0.3333333333333333,
              "#9c179e"
             ],
             [
              0.4444444444444444,
              "#bd3786"
             ],
             [
              0.5555555555555556,
              "#d8576b"
             ],
             [
              0.6666666666666666,
              "#ed7953"
             ],
             [
              0.7777777777777778,
              "#fb9f3a"
             ],
             [
              0.8888888888888888,
              "#fdca26"
             ],
             [
              1,
              "#f0f921"
             ]
            ],
            "type": "histogram2dcontour"
           }
          ],
          "mesh3d": [
           {
            "colorbar": {
             "outlinewidth": 0,
             "ticks": ""
            },
            "type": "mesh3d"
           }
          ],
          "parcoords": [
           {
            "line": {
             "colorbar": {
              "outlinewidth": 0,
              "ticks": ""
             }
            },
            "type": "parcoords"
           }
          ],
          "pie": [
           {
            "automargin": true,
            "type": "pie"
           }
          ],
          "scatter": [
           {
            "fillpattern": {
             "fillmode": "overlay",
             "size": 10,
             "solidity": 0.2
            },
            "type": "scatter"
           }
          ],
          "scatter3d": [
           {
            "line": {
             "colorbar": {
              "outlinewidth": 0,
              "ticks": ""
             }
            },
            "marker": {
             "colorbar": {
              "outlinewidth": 0,
              "ticks": ""
             }
            },
            "type": "scatter3d"
           }
          ],
          "scattercarpet": [
           {
            "marker": {
             "colorbar": {
              "outlinewidth": 0,
              "ticks": ""
             }
            },
            "type": "scattercarpet"
           }
          ],
          "scattergeo": [
           {
            "marker": {
             "colorbar": {
              "outlinewidth": 0,
              "ticks": ""
             }
            },
            "type": "scattergeo"
           }
          ],
          "scattergl": [
           {
            "marker": {
             "colorbar": {
              "outlinewidth": 0,
              "ticks": ""
             }
            },
            "type": "scattergl"
           }
          ],
          "scattermapbox": [
           {
            "marker": {
             "colorbar": {
              "outlinewidth": 0,
              "ticks": ""
             }
            },
            "type": "scattermapbox"
           }
          ],
          "scatterpolar": [
           {
            "marker": {
             "colorbar": {
              "outlinewidth": 0,
              "ticks": ""
             }
            },
            "type": "scatterpolar"
           }
          ],
          "scatterpolargl": [
           {
            "marker": {
             "colorbar": {
              "outlinewidth": 0,
              "ticks": ""
             }
            },
            "type": "scatterpolargl"
           }
          ],
          "scatterternary": [
           {
            "marker": {
             "colorbar": {
              "outlinewidth": 0,
              "ticks": ""
             }
            },
            "type": "scatterternary"
           }
          ],
          "surface": [
           {
            "colorbar": {
             "outlinewidth": 0,
             "ticks": ""
            },
            "colorscale": [
             [
              0,
              "#0d0887"
             ],
             [
              0.1111111111111111,
              "#46039f"
             ],
             [
              0.2222222222222222,
              "#7201a8"
             ],
             [
              0.3333333333333333,
              "#9c179e"
             ],
             [
              0.4444444444444444,
              "#bd3786"
             ],
             [
              0.5555555555555556,
              "#d8576b"
             ],
             [
              0.6666666666666666,
              "#ed7953"
             ],
             [
              0.7777777777777778,
              "#fb9f3a"
             ],
             [
              0.8888888888888888,
              "#fdca26"
             ],
             [
              1,
              "#f0f921"
             ]
            ],
            "type": "surface"
           }
          ],
          "table": [
           {
            "cells": {
             "fill": {
              "color": "#EBF0F8"
             },
             "line": {
              "color": "white"
             }
            },
            "header": {
             "fill": {
              "color": "#C8D4E3"
             },
             "line": {
              "color": "white"
             }
            },
            "type": "table"
           }
          ]
         },
         "layout": {
          "annotationdefaults": {
           "arrowcolor": "#2a3f5f",
           "arrowhead": 0,
           "arrowwidth": 1
          },
          "autotypenumbers": "strict",
          "coloraxis": {
           "colorbar": {
            "outlinewidth": 0,
            "ticks": ""
           }
          },
          "colorscale": {
           "diverging": [
            [
             0,
             "#8e0152"
            ],
            [
             0.1,
             "#c51b7d"
            ],
            [
             0.2,
             "#de77ae"
            ],
            [
             0.3,
             "#f1b6da"
            ],
            [
             0.4,
             "#fde0ef"
            ],
            [
             0.5,
             "#f7f7f7"
            ],
            [
             0.6,
             "#e6f5d0"
            ],
            [
             0.7,
             "#b8e186"
            ],
            [
             0.8,
             "#7fbc41"
            ],
            [
             0.9,
             "#4d9221"
            ],
            [
             1,
             "#276419"
            ]
           ],
           "sequential": [
            [
             0,
             "#0d0887"
            ],
            [
             0.1111111111111111,
             "#46039f"
            ],
            [
             0.2222222222222222,
             "#7201a8"
            ],
            [
             0.3333333333333333,
             "#9c179e"
            ],
            [
             0.4444444444444444,
             "#bd3786"
            ],
            [
             0.5555555555555556,
             "#d8576b"
            ],
            [
             0.6666666666666666,
             "#ed7953"
            ],
            [
             0.7777777777777778,
             "#fb9f3a"
            ],
            [
             0.8888888888888888,
             "#fdca26"
            ],
            [
             1,
             "#f0f921"
            ]
           ],
           "sequentialminus": [
            [
             0,
             "#0d0887"
            ],
            [
             0.1111111111111111,
             "#46039f"
            ],
            [
             0.2222222222222222,
             "#7201a8"
            ],
            [
             0.3333333333333333,
             "#9c179e"
            ],
            [
             0.4444444444444444,
             "#bd3786"
            ],
            [
             0.5555555555555556,
             "#d8576b"
            ],
            [
             0.6666666666666666,
             "#ed7953"
            ],
            [
             0.7777777777777778,
             "#fb9f3a"
            ],
            [
             0.8888888888888888,
             "#fdca26"
            ],
            [
             1,
             "#f0f921"
            ]
           ]
          },
          "colorway": [
           "#636efa",
           "#EF553B",
           "#00cc96",
           "#ab63fa",
           "#FFA15A",
           "#19d3f3",
           "#FF6692",
           "#B6E880",
           "#FF97FF",
           "#FECB52"
          ],
          "font": {
           "color": "#2a3f5f"
          },
          "geo": {
           "bgcolor": "white",
           "lakecolor": "white",
           "landcolor": "#E5ECF6",
           "showlakes": true,
           "showland": true,
           "subunitcolor": "white"
          },
          "hoverlabel": {
           "align": "left"
          },
          "hovermode": "closest",
          "mapbox": {
           "style": "light"
          },
          "paper_bgcolor": "white",
          "plot_bgcolor": "#E5ECF6",
          "polar": {
           "angularaxis": {
            "gridcolor": "white",
            "linecolor": "white",
            "ticks": ""
           },
           "bgcolor": "#E5ECF6",
           "radialaxis": {
            "gridcolor": "white",
            "linecolor": "white",
            "ticks": ""
           }
          },
          "scene": {
           "xaxis": {
            "backgroundcolor": "#E5ECF6",
            "gridcolor": "white",
            "gridwidth": 2,
            "linecolor": "white",
            "showbackground": true,
            "ticks": "",
            "zerolinecolor": "white"
           },
           "yaxis": {
            "backgroundcolor": "#E5ECF6",
            "gridcolor": "white",
            "gridwidth": 2,
            "linecolor": "white",
            "showbackground": true,
            "ticks": "",
            "zerolinecolor": "white"
           },
           "zaxis": {
            "backgroundcolor": "#E5ECF6",
            "gridcolor": "white",
            "gridwidth": 2,
            "linecolor": "white",
            "showbackground": true,
            "ticks": "",
            "zerolinecolor": "white"
           }
          },
          "shapedefaults": {
           "line": {
            "color": "#2a3f5f"
           }
          },
          "ternary": {
           "aaxis": {
            "gridcolor": "white",
            "linecolor": "white",
            "ticks": ""
           },
           "baxis": {
            "gridcolor": "white",
            "linecolor": "white",
            "ticks": ""
           },
           "bgcolor": "#E5ECF6",
           "caxis": {
            "gridcolor": "white",
            "linecolor": "white",
            "ticks": ""
           }
          },
          "title": {
           "x": 0.05
          },
          "xaxis": {
           "automargin": true,
           "gridcolor": "white",
           "linecolor": "white",
           "ticks": "",
           "title": {
            "standoff": 15
           },
           "zerolinecolor": "white",
           "zerolinewidth": 2
          },
          "yaxis": {
           "automargin": true,
           "gridcolor": "white",
           "linecolor": "white",
           "ticks": "",
           "title": {
            "standoff": 15
           },
           "zerolinecolor": "white",
           "zerolinewidth": 2
          }
         }
        },
        "title": {
         "text": "3d TSNE Plot for Clusters"
        },
        "width": 900
       }
      }
     },
     "metadata": {},
     "output_type": "display_data"
    }
   ],
   "source": [
    "# plot elbow\n",
    "clust.plot_model(kmeans, plot = 'tsne')"
   ]
  },
  {
   "cell_type": "code",
   "execution_count": 10,
   "metadata": {},
   "outputs": [
    {
     "data": {
      "text/html": [],
      "text/plain": [
       "<IPython.core.display.HTML object>"
      ]
     },
     "metadata": {},
     "output_type": "display_data"
    },
    {
     "data": {
      "image/png": "[encoded data removed]",
      "text/plain": [
       "<Figure size 800x550 with 1 Axes>"
      ]
     },
     "metadata": {},
     "output_type": "display_data"
    }
   ],
   "source": [
    "# plot silhouette\n",
    "clust.plot_model(kmeans, plot = 'silhouette')"
   ]
  },
  {
   "cell_type": "code",
   "execution_count": 11,
   "metadata": {},
   "outputs": [
    {
     "data": {
      "text/html": [],
      "text/plain": [
       "<IPython.core.display.HTML object>"
      ]
     },
     "metadata": {},
     "output_type": "display_data"
    },
    {
     "data": {
      "image/png": "[encoded data removed]",
      "text/plain": [
       "<Figure size 800x550 with 2 Axes>"
      ]
     },
     "metadata": {},
     "output_type": "display_data"
    }
   ],
   "source": [
    "clust.plot_model(kmeans, plot=\"distance\")"
   ]
  },
  {
   "cell_type": "code",
   "execution_count": 12,
   "metadata": {},
   "outputs": [
    {
     "data": {
      "text/html": [],
      "text/plain": [
       "<IPython.core.display.HTML object>"
      ]
     },
     "metadata": {},
     "output_type": "display_data"
    },
    {
     "data": {
      "application/vnd.plotly.v1+json": {
       "config": {
        "plotlyServerURL": "https://plot.ly"
       },
       "data": [
        {
         "alignmentgroup": "True",
         "bingroup": "x",
         "hovertemplate": "Cluster=%{x}<br>count=%{y}<extra></extra>",
         "legendgroup": "Cluster 0",
         "marker": {
          "color": "#636efa",
          "opacity": 0.7,
          "pattern": {
           "shape": ""
          }
         },
         "name": "Cluster 0",
         "offsetgroup": "Cluster 0",
         "orientation": "v",
         "showlegend": true,
         "type": "histogram",
         "x": [
          "Cluster 0",
          "Cluster 0",
          "Cluster 0",
          "Cluster 0",
          "Cluster 0",
          "Cluster 0",
          "Cluster 0",
          "Cluster 0",
          "Cluster 0",
          "Cluster 0",
          "Cluster 0",
          "Cluster 0",
          "Cluster 0",
          "Cluster 0",
          "Cluster 0",
          "Cluster 0",
          "Cluster 0",
          "Cluster 0",
          "Cluster 0",
          "Cluster 0",
          "Cluster 0",
          "Cluster 0",
          "Cluster 0",
          "Cluster 0",
          "Cluster 0",
          "Cluster 0",
          "Cluster 0",
          "Cluster 0",
          "Cluster 0",
          "Cluster 0",
          "Cluster 0",
          "Cluster 0",
          "Cluster 0",
          "Cluster 0",
          "Cluster 0",
          "Cluster 0",
          "Cluster 0",
          "Cluster 0",
          "Cluster 0",
          "Cluster 0",
          "Cluster 0",
          "Cluster 0",
          "Cluster 0",
          "Cluster 0",
          "Cluster 0",
          "Cluster 0",
          "Cluster 0",
          "Cluster 0",
          "Cluster 0",
          "Cluster 0",
          "Cluster 0",
          "Cluster 0",
          "Cluster 0",
          "Cluster 0",
          "Cluster 0",
          "Cluster 0",
          "Cluster 0",
          "Cluster 0",
          "Cluster 0",
          "Cluster 0",
          "Cluster 0",
          "Cluster 0",
          "Cluster 0",
          "Cluster 0",
          "Cluster 0",
          "Cluster 0",
          "Cluster 0",
          "Cluster 0",
          "Cluster 0",
          "Cluster 0",
          "Cluster 0",
          "Cluster 0",
          "Cluster 0",
          "Cluster 0",
          "Cluster 0",
          "Cluster 0",
          "Cluster 0",
          "Cluster 0",
          "Cluster 0",
          "Cluster 0",
          "Cluster 0",
          "Cluster 0",
          "Cluster 0",
          "Cluster 0",
          "Cluster 0",
          "Cluster 0",
          "Cluster 0",
          "Cluster 0",
          "Cluster 0",
          "Cluster 0",
          "Cluster 0",
          "Cluster 0",
          "Cluster 0",
          "Cluster 0",
          "Cluster 0",
          "Cluster 0",
          "Cluster 0",
          "Cluster 0",
          "Cluster 0",
          "Cluster 0",
          "Cluster 0",
          "Cluster 0",
          "Cluster 0",
          "Cluster 0",
          "Cluster 0",
          "Cluster 0",
          "Cluster 0",
          "Cluster 0",
          "Cluster 0",
          "Cluster 0",
          "Cluster 0",
          "Cluster 0",
          "Cluster 0",
          "Cluster 0",
          "Cluster 0",
          "Cluster 0",
          "Cluster 0",
          "Cluster 0",
          "Cluster 0",
          "Cluster 0",
          "Cluster 0",
          "Cluster 0",
          "Cluster 0",
          "Cluster 0",
          "Cluster 0",
          "Cluster 0",
          "Cluster 0",
          "Cluster 0",
          "Cluster 0",
          "Cluster 0",
          "Cluster 0",
          "Cluster 0",
          "Cluster 0",
          "Cluster 0",
          "Cluster 0",
          "Cluster 0",
          "Cluster 0",
          "Cluster 0",
          "Cluster 0",
          "Cluster 0",
          "Cluster 0",
          "Cluster 0",
          "Cluster 0",
          "Cluster 0",
          "Cluster 0",
          "Cluster 0",
          "Cluster 0",
          "Cluster 0",
          "Cluster 0",
          "Cluster 0",
          "Cluster 0",
          "Cluster 0",
          "Cluster 0",
          "Cluster 0",
          "Cluster 0",
          "Cluster 0",
          "Cluster 0",
          "Cluster 0",
          "Cluster 0",
          "Cluster 0",
          "Cluster 0",
          "Cluster 0",
          "Cluster 0",
          "Cluster 0",
          "Cluster 0",
          "Cluster 0",
          "Cluster 0",
          "Cluster 0",
          "Cluster 0",
          "Cluster 0",
          "Cluster 0",
          "Cluster 0",
          "Cluster 0",
          "Cluster 0",
          "Cluster 0",
          "Cluster 0",
          "Cluster 0",
          "Cluster 0",
          "Cluster 0",
          "Cluster 0",
          "Cluster 0",
          "Cluster 0",
          "Cluster 0",
          "Cluster 0",
          "Cluster 0",
          "Cluster 0"
         ],
         "xaxis": "x",
         "yaxis": "y"
        },
        {
         "alignmentgroup": "True",
         "customdata": [
          [
           63,
           1,
           1,
           145,
           233,
           1,
           2,
           150,
           0,
           2.299999952316284,
           3,
           0,
           6
          ],
          [
           45,
           0,
           2,
           112,
           160,
           0,
           0,
           138,
           0,
           0,
           2,
           0,
           3
          ],
          [
           53,
           1,
           4,
           142,
           226,
           0,
           2,
           111,
           1,
           0,
           1,
           0,
           7
          ],
          [
           59,
           0,
           4,
           174,
           249,
           0,
           0,
           143,
           1,
           0,
           2,
           0,
           3
          ],
          [
           64,
           1,
           4,
           145,
           212,
           0,
           2,
           132,
           0,
           2,
           2,
           2,
           6
          ],
          [
           52,
           1,
           4,
           108,
           233,
           1,
           0,
           147,
           0,
           0.10000000149011612,
           1,
           3,
           7
          ],
          [
           56,
           1,
           4,
           132,
           184,
           0,
           2,
           105,
           1,
           2.0999999046325684,
           2,
           1,
           6
          ],
          [
           53,
           1,
           3,
           130,
           246,
           1,
           2,
           173,
           0,
           0,
           1,
           3,
           3
          ],
          [
           42,
           1,
           1,
           148,
           244,
           0,
           2,
           178,
           0,
           0.800000011920929,
           1,
           2,
           3
          ],
          [
           63,
           0,
           2,
           140,
           195,
           0,
           0,
           179,
           0,
           0,
           1,
           2,
           3
          ],
          [
           42,
           1,
           3,
           120,
           240,
           1,
           0,
           194,
           0,
           0.800000011920929,
           3,
           0,
           7
          ],
          [
           66,
           1,
           2,
           160,
           246,
           0,
           0,
           120,
           1,
           0,
           2,
           3,
           6
          ],
          [
           57,
           1,
           4,
           132,
           207,
           0,
           0,
           168,
           1,
           0,
           1,
           0,
           7
          ],
          [
           69,
           1,
           3,
           140,
           254,
           0,
           2,
           146,
           0,
           2,
           2,
           3,
           7
          ],
          [
           68,
           0,
           3,
           120,
           211,
           0,
           2,
           115,
           0,
           1.5,
           2,
           0,
           3
          ],
          [
           69,
           1,
           1,
           160,
           234,
           1,
           2,
           131,
           0,
           0.10000000149011612,
           2,
           1,
           3
          ],
          [
           45,
           0,
           4,
           138,
           236,
           0,
           2,
           152,
           1,
           0.20000000298023224,
           2,
           0,
           3
          ],
          [
           50,
           0,
           2,
           120,
           244,
           0,
           0,
           162,
           0,
           1.100000023841858,
           1,
           0,
           3
          ],
          [
           50,
           0,
           4,
           110,
           254,
           0,
           2,
           159,
           0,
           0,
           1,
           0,
           3
          ],
          [
           57,
           1,
           3,
           150,
           126,
           1,
           0,
           173,
           0,
           0.20000000298023224,
           1,
           1,
           7
          ],
          [
           43,
           1,
           4,
           110,
           211,
           0,
           0,
           161,
           0,
           0,
           1,
           0,
           7
          ],
          [
           50,
           1,
           4,
           144,
           200,
           0,
           2,
           126,
           1,
           0.8999999761581421,
           2,
           0,
           7
          ],
          [
           62,
           0,
           4,
           150,
           244,
           0,
           0,
           154,
           1,
           1.399999976158142,
           2,
           0,
           3
          ],
          [
           37,
           0,
           3,
           120,
           215,
           0,
           0,
           170,
           0,
           0,
           1,
           0,
           3
          ],
          [
           38,
           1,
           1,
           120,
           231,
           0,
           0,
           182,
           1,
           3.799999952316284,
           2,
           0,
           7
          ],
          [
           50,
           1,
           3,
           129,
           196,
           0,
           0,
           163,
           0,
           0,
           1,
           0,
           3
          ],
          [
           48,
           1,
           3,
           124,
           255,
           1,
           0,
           175,
           0,
           0,
           1,
           2,
           3
          ],
          [
           58,
           0,
           4,
           100,
           248,
           0,
           2,
           122,
           0,
           1,
           2,
           0,
           3
          ],
          [
           54,
           0,
           3,
           110,
           214,
           0,
           0,
           158,
           0,
           1.600000023841858,
           2,
           0,
           3
          ],
          [
           35,
           0,
           4,
           138,
           183,
           0,
           0,
           182,
           0,
           1.399999976158142,
           1,
           0,
           3
          ],
          [
           65,
           1,
           4,
           135,
           254,
           0,
           2,
           127,
           0,
           2.799999952316284,
           2,
           1,
           7
          ],
          [
           48,
           1,
           4,
           130,
           256,
           1,
           2,
           150,
           1,
           0,
           1,
           2,
           7
          ],
          [
           51,
           1,
           3,
           100,
           222,
           0,
           0,
           143,
           1,
           1.2000000476837158,
           2,
           0,
           3
          ],
          [
           55,
           1,
           4,
           140,
           217,
           0,
           0,
           111,
           1,
           5.599999904632568,
           3,
           0,
           7
          ],
          [
           45,
           0,
           2,
           130,
           234,
           0,
           2,
           175,
           0,
           0.6000000238418579,
           2,
           0,
           3
          ],
          [
           54,
           1,
           4,
           110,
           239,
           0,
           0,
           126,
           1,
           2.799999952316284,
           2,
           1,
           7
          ],
          [
           44,
           1,
           2,
           120,
           220,
           0,
           0,
           170,
           0,
           0,
           1,
           0,
           3
          ],
          [
           62,
           0,
           4,
           124,
           209,
           0,
           0,
           163,
           0,
           0,
           1,
           0,
           3
          ],
          [
           54,
           1,
           3,
           120,
           258,
           0,
           2,
           147,
           0,
           0.4000000059604645,
           2,
           0,
           7
          ],
          [
           51,
           1,
           3,
           94,
           227,
           0,
           0,
           154,
           1,
           0,
           1,
           1,
           7
          ],
          [
           29,
           1,
           2,
           130,
           204,
           0,
           2,
           202,
           0,
           0,
           1,
           0,
           3
          ],
          [
           43,
           0,
           3,
           122,
           213,
           0,
           0,
           165,
           0,
           0.20000000298023224,
           2,
           0,
           3
          ],
          [
           55,
           0,
           2,
           135,
           250,
           0,
           2,
           161,
           0,
           1.399999976158142,
           2,
           0,
           3
          ],
          [
           70,
           1,
           4,
           145,
           174,
           0,
           0,
           125,
           1,
           2.5999999046325684,
           3,
           0,
           7
          ],
          [
           35,
           1,
           4,
           120,
           198,
           0,
           0,
           130,
           1,
           1.600000023841858,
           2,
           0,
           7
          ],
          [
           51,
           1,
           3,
           125,
           245,
           1,
           2,
           166,
           0,
           2.4000000953674316,
           2,
           0,
           3
          ],
          [
           59,
           1,
           2,
           140,
           221,
           0,
           0,
           164,
           1,
           0,
           1,
           0,
           3
          ],
          [
           52,
           1,
           2,
           128,
           205,
           1,
           0,
           184,
           0,
           0,
           1,
           0,
           3
          ],
          [
           58,
           1,
           3,
           105,
           240,
           0,
           2,
           154,
           1,
           0.6000000238418579,
           2,
           0,
           7
          ],
          [
           47,
           1,
           3,
           108,
           243,
           0,
           0,
           152,
           0,
           0,
           1,
           0,
           3
          ],
          [
           41,
           1,
           3,
           112,
           250,
           0,
           0,
           179,
           0,
           0,
           1,
           0,
           3
          ],
          [
           57,
           1,
           4,
           130,
           131,
           0,
           0,
           115,
           1,
           1.2000000476837158,
           2,
           1,
           7
          ],
          [
           64,
           1,
           4,
           120,
           246,
           0,
           2,
           96,
           1,
           2.200000047683716,
           3,
           1,
           3
          ],
          [
           46,
           1,
           2,
           101,
           197,
           1,
           0,
           156,
           0,
           0,
           1,
           0,
           7
          ],
          [
           41,
           1,
           3,
           130,
           214,
           0,
           2,
           168,
           0,
           2,
           2,
           0,
           3
          ],
          [
           66,
           0,
           4,
           178,
           228,
           1,
           0,
           165,
           1,
           1,
           2,
           2,
           7
          ],
          [
           52,
           1,
           4,
           112,
           230,
           0,
           0,
           160,
           0,
           0,
           1,
           1,
           3
          ],
          [
           56,
           1,
           1,
           120,
           193,
           0,
           2,
           162,
           0,
           1.899999976158142,
           2,
           0,
           7
          ],
          [
           40,
           1,
           4,
           152,
           223,
           0,
           0,
           181,
           0,
           0,
           1,
           0,
           7
          ],
          [
           42,
           1,
           3,
           130,
           180,
           0,
           0,
           150,
           0,
           0,
           1,
           0,
           3
          ],
          [
           61,
           1,
           4,
           140,
           207,
           0,
           2,
           138,
           1,
           1.899999976158142,
           1,
           1,
           7
          ],
          [
           66,
           1,
           4,
           160,
           228,
           0,
           2,
           138,
           0,
           2.299999952316284,
           1,
           0,
           6
          ],
          [
           71,
           0,
           4,
           112,
           149,
           0,
           0,
           125,
           0,
           1.600000023841858,
           2,
           0,
           3
          ],
          [
           59,
           1,
           1,
           134,
           204,
           0,
           0,
           162,
           0,
           0.800000011920929,
           1,
           2,
           3
          ],
          [
           64,
           1,
           1,
           170,
           227,
           0,
           2,
           155,
           0,
           0.6000000238418579,
           2,
           0,
           7
          ],
          [
           39,
           0,
           3,
           138,
           220,
           0,
           0,
           152,
           0,
           0,
           2,
           0,
           3
          ],
          [
           57,
           1,
           2,
           154,
           232,
           0,
           2,
           164,
           0,
           0,
           1,
           1,
           3
          ],
          [
           58,
           0,
           4,
           130,
           197,
           0,
           0,
           131,
           0,
           0.6000000238418579,
           2,
           0,
           3
          ],
          [
           47,
           1,
           3,
           130,
           253,
           0,
           0,
           179,
           0,
           0,
           1,
           0,
           3
          ],
          [
           55,
           0,
           4,
           128,
           205,
           0,
           1,
           130,
           1,
           2,
           2,
           1,
           7
          ],
          [
           35,
           1,
           2,
           122,
           192,
           0,
           0,
           174,
           0,
           0,
           1,
           0,
           3
          ],
          [
           61,
           1,
           4,
           148,
           203,
           0,
           0,
           161,
           0,
           0,
           1,
           1,
           7
          ],
          [
           58,
           0,
           4,
           170,
           225,
           1,
           2,
           146,
           1,
           2.799999952316284,
           2,
           2,
           6
          ],
          [
           56,
           1,
           2,
           130,
           221,
           0,
           2,
           163,
           0,
           0,
           1,
           0,
           7
          ],
          [
           56,
           1,
           2,
           120,
           240,
           0,
           0,
           169,
           0,
           0,
           3,
           0,
           3
          ],
          [
           67,
           1,
           3,
           152,
           212,
           0,
           2,
           150,
           0,
           0.800000011920929,
           2,
           0,
           7
          ],
          [
           44,
           1,
           4,
           120,
           169,
           0,
           0,
           144,
           1,
           2.799999952316284,
           3,
           0,
           6
          ],
          [
           63,
           1,
           4,
           140,
           187,
           0,
           2,
           144,
           1,
           4,
           1,
           2,
           7
          ],
          [
           63,
           0,
           4,
           124,
           197,
           0,
           0,
           136,
           1,
           0,
           2,
           0,
           3
          ],
          [
           41,
           1,
           2,
           120,
           157,
           0,
           0,
           182,
           0,
           0,
           1,
           0,
           3
          ],
          [
           59,
           1,
           4,
           164,
           176,
           1,
           2,
           90,
           0,
           1,
           2,
           2,
           6
          ],
          [
           57,
           0,
           4,
           140,
           241,
           0,
           0,
           123,
           1,
           0.20000000298023224,
           2,
           0,
           7
          ],
          [
           68,
           1,
           4,
           144,
           193,
           1,
           0,
           141,
           0,
           3.4000000953674316,
           2,
           2,
           7
          ],
          [
           59,
           1,
           3,
           126,
           218,
           1,
           0,
           134,
           0,
           2.200000047683716,
           2,
           1,
           6
          ],
          [
           58,
           1,
           3,
           140,
           211,
           1,
           2,
           165,
           0,
           0,
           1,
           0,
           3
          ],
          [
           61,
           1,
           4,
           138,
           166,
           0,
           2,
           125,
           1,
           3.5999999046325684,
           2,
           1,
           3
          ],
          [
           60,
           0,
           1,
           150,
           240,
           0,
           0,
           171,
           0,
           0.8999999761581421,
           1,
           0,
           3
          ],
          [
           46,
           0,
           2,
           105,
           204,
           0,
           0,
           172,
           0,
           0,
           1,
           0,
           3
          ],
          [
           46,
           0,
           4,
           138,
           243,
           0,
           2,
           152,
           1,
           0,
           2,
           0,
           3
          ],
          [
           39,
           0,
           3,
           94,
           199,
           0,
           0,
           179,
           0,
           0,
           1,
           0,
           3
          ],
          [
           34,
           0,
           2,
           118,
           210,
           0,
           0,
           192,
           0,
           0.699999988079071,
           1,
           0,
           3
          ],
          [
           47,
           1,
           4,
           112,
           204,
           0,
           0,
           143,
           0,
           0.10000000149011612,
           1,
           0,
           3
          ],
          [
           54,
           1,
           4,
           110,
           206,
           0,
           2,
           108,
           1,
           0,
           2,
           1,
           3
          ],
          [
           66,
           1,
           4,
           112,
           212,
           0,
           2,
           132,
           1,
           0.10000000149011612,
           1,
           1,
           3
          ],
          [
           52,
           0,
           3,
           136,
           196,
           0,
           2,
           169,
           0,
           0.10000000149011612,
           2,
           0,
           3
          ],
          [
           49,
           1,
           3,
           118,
           149,
           0,
           2,
           126,
           0,
           0.800000011920929,
           1,
           3,
           3
          ],
          [
           54,
           0,
           3,
           160,
           201,
           0,
           0,
           163,
           0,
           0,
           1,
           1,
           3
          ],
          [
           46,
           1,
           4,
           120,
           249,
           0,
           2,
           144,
           0,
           0.800000011920929,
           1,
           0,
           7
          ],
          [
           41,
           1,
           2,
           110,
           235,
           0,
           0,
           153,
           0,
           0,
           1,
           0,
           3
          ],
          [
           61,
           1,
           1,
           134,
           234,
           0,
           0,
           145,
           0,
           2.5999999046325684,
           2,
           2,
           3
          ],
          [
           60,
           0,
           3,
           120,
           178,
           1,
           0,
           96,
           0,
           0,
           1,
           0,
           3
          ],
          [
           67,
           1,
           4,
           120,
           237,
           0,
           0,
           71,
           0,
           1,
           2,
           0,
           3
          ],
          [
           58,
           1,
           4,
           100,
           234,
           0,
           0,
           156,
           0,
           0.10000000149011612,
           1,
           1,
           7
          ],
          [
           52,
           1,
           4,
           125,
           212,
           0,
           0,
           168,
           0,
           1,
           1,
           2,
           7
          ],
          [
           62,
           1,
           2,
           128,
           208,
           1,
           2,
           140,
           0,
           0,
           1,
           0,
           3
          ],
          [
           57,
           1,
           4,
           110,
           201,
           0,
           0,
           126,
           1,
           1.5,
           2,
           0,
           6
          ],
          [
           58,
           1,
           4,
           146,
           218,
           0,
           0,
           105,
           0,
           2,
           2,
           1,
           7
          ],
          [
           42,
           0,
           3,
           120,
           209,
           0,
           0,
           173,
           0,
           0,
           2,
           0,
           3
          ],
          [
           67,
           0,
           4,
           106,
           223,
           0,
           0,
           142,
           0,
           0.30000001192092896,
           1,
           2,
           3
          ],
          [
           76,
           0,
           3,
           140,
           197,
           0,
           1,
           116,
           0,
           1.100000023841858,
           2,
           0,
           3
          ],
          [
           70,
           1,
           2,
           156,
           245,
           0,
           2,
           143,
           0,
           0,
           1,
           0,
           3
          ],
          [
           44,
           0,
           3,
           118,
           242,
           0,
           0,
           149,
           0,
           0.30000001192092896,
           2,
           1,
           3
          ],
          [
           44,
           1,
           3,
           120,
           226,
           0,
           0,
           169,
           0,
           0,
           1,
           0,
           3
          ],
          [
           41,
           1,
           2,
           135,
           203,
           0,
           0,
           132,
           0,
           0,
           2,
           0,
           6
          ],
          [
           57,
           0,
           2,
           130,
           236,
           0,
           2,
           174,
           0,
           0,
           2,
           1,
           3
          ],
          [
           66,
           0,
           1,
           150,
           226,
           0,
           0,
           114,
           0,
           2.5999999046325684,
           3,
           0,
           3
          ],
          [
           42,
           1,
           4,
           140,
           226,
           0,
           0,
           178,
           0,
           0,
           1,
           0,
           3
          ],
          [
           65,
           1,
           4,
           110,
           248,
           0,
           2,
           158,
           0,
           0.6000000238418579,
           1,
           2,
           6
          ],
          [
           44,
           1,
           4,
           110,
           197,
           0,
           2,
           177,
           0,
           0,
           1,
           1,
           3
          ],
          [
           44,
           1,
           3,
           130,
           233,
           0,
           0,
           179,
           1,
           0.4000000059604645,
           1,
           0,
           3
          ],
          [
           59,
           1,
           4,
           135,
           234,
           0,
           0,
           161,
           0,
           0.5,
           2,
           0,
           7
          ],
          [
           60,
           1,
           4,
           117,
           230,
           1,
           0,
           160,
           1,
           1.399999976158142,
           1,
           2,
           7
          ],
          [
           69,
           0,
           1,
           140,
           239,
           0,
           0,
           151,
           0,
           1.7999999523162842,
           1,
           2,
           3
          ],
          [
           48,
           1,
           2,
           130,
           245,
           0,
           2,
           180,
           0,
           0.20000000298023224,
           2,
           0,
           3
          ],
          [
           40,
           1,
           4,
           110,
           167,
           0,
           2,
           114,
           1,
           2,
           2,
           0,
           7
          ],
          [
           43,
           1,
           4,
           150,
           247,
           0,
           0,
           171,
           0,
           1.5,
           1,
           0,
           3
          ],
          [
           45,
           1,
           4,
           104,
           208,
           0,
           2,
           148,
           1,
           3,
           2,
           0,
           3
          ],
          [
           65,
           1,
           4,
           120,
           177,
           0,
           0,
           140,
           0,
           0.4000000059604645,
           1,
           0,
           7
          ],
          [
           50,
           0,
           3,
           120,
           219,
           0,
           0,
           158,
           0,
           1.600000023841858,
           2,
           0,
           3
          ],
          [
           60,
           1,
           4,
           130,
           206,
           0,
           2,
           132,
           1,
           2.4000000953674316,
           2,
           2,
           7
          ],
          [
           58,
           1,
           3,
           132,
           224,
           0,
           2,
           173,
           0,
           3.200000047683716,
           1,
           2,
           7
          ],
          [
           44,
           1,
           3,
           140,
           235,
           0,
           2,
           180,
           0,
           0,
           1,
           0,
           3
          ],
          [
           47,
           1,
           3,
           138,
           257,
           0,
           2,
           156,
           0,
           0,
           1,
           0,
           3
          ],
          [
           67,
           1,
           4,
           125,
           254,
           1,
           0,
           163,
           0,
           0.20000000298023224,
           2,
           2,
           7
          ],
          [
           53,
           0,
           4,
           138,
           234,
           0,
           2,
           160,
           0,
           0,
           1,
           0,
           3
          ],
          [
           43,
           1,
           4,
           120,
           177,
           0,
           2,
           120,
           1,
           2.5,
           2,
           0,
           7
          ],
          [
           61,
           1,
           3,
           150,
           243,
           1,
           0,
           137,
           1,
           1,
           2,
           0,
           3
          ],
          [
           53,
           1,
           3,
           130,
           197,
           1,
           2,
           152,
           0,
           1.2000000476837158,
           3,
           0,
           3
          ],
          [
           50,
           1,
           4,
           150,
           243,
           0,
           2,
           128,
           0,
           2.5999999046325684,
           2,
           0,
           7
          ],
          [
           51,
           1,
           3,
           110,
           175,
           0,
           0,
           123,
           0,
           0.6000000238418579,
           1,
           0,
           3
          ],
          [
           58,
           1,
           3,
           112,
           230,
           0,
           2,
           165,
           0,
           2.5,
           2,
           1,
           7
          ],
          [
           44,
           1,
           2,
           130,
           219,
           0,
           2,
           188,
           0,
           0,
           1,
           0,
           3
          ],
          [
           60,
           1,
           4,
           130,
           253,
           0,
           0,
           144,
           1,
           1.399999976158142,
           1,
           1,
           7
          ],
          [
           50,
           1,
           3,
           140,
           233,
           0,
           0,
           163,
           0,
           0.6000000238418579,
           2,
           1,
           7
          ],
          [
           41,
           1,
           4,
           110,
           172,
           0,
           2,
           158,
           0,
           0,
           1,
           0,
           7
          ],
          [
           51,
           1,
           1,
           125,
           213,
           0,
           2,
           125,
           1,
           1.399999976158142,
           1,
           1,
           3
          ],
          [
           46,
           0,
           3,
           142,
           177,
           0,
           2,
           160,
           1,
           1.399999976158142,
           3,
           0,
           3
          ],
          [
           58,
           1,
           4,
           128,
           216,
           0,
           2,
           131,
           1,
           2.200000047683716,
           2,
           3,
           7
          ],
          [
           59,
           1,
           3,
           150,
           212,
           1,
           0,
           157,
           0,
           1.600000023841858,
           1,
           0,
           3
          ],
          [
           54,
           1,
           4,
           120,
           188,
           0,
           0,
           113,
           0,
           1.399999976158142,
           2,
           1,
           7
          ],
          [
           40,
           1,
           1,
           140,
           199,
           0,
           0,
           178,
           1,
           1.399999976158142,
           1,
           0,
           7
          ],
          [
           65,
           0,
           4,
           150,
           225,
           0,
           2,
           114,
           0,
           1,
           2,
           3,
           7
          ],
          [
           60,
           1,
           3,
           140,
           185,
           0,
           2,
           155,
           0,
           3,
           2,
           0,
           3
          ],
          [
           54,
           1,
           3,
           150,
           232,
           0,
           2,
           165,
           0,
           1.600000023841858,
           1,
           0,
           7
          ],
          [
           46,
           1,
           3,
           150,
           231,
           0,
           0,
           147,
           0,
           3.5999999046325684,
           2,
           0,
           3
          ],
          [
           64,
           1,
           1,
           110,
           211,
           0,
           2,
           144,
           1,
           1.7999999523162842,
           2,
           0,
           3
          ],
          [
           41,
           0,
           2,
           105,
           198,
           0,
           0,
           168,
           0,
           0,
           1,
           1,
           3
          ],
          [
           41,
           0,
           2,
           130,
           204,
           0,
           2,
           172,
           0,
           1.399999976158142,
           1,
           0,
           3
          ],
          [
           37,
           1,
           3,
           130,
           250,
           0,
           0,
           187,
           0,
           3.5,
           3,
           0,
           3
          ],
          [
           63,
           0,
           3,
           135,
           252,
           0,
           2,
           172,
           0,
           0,
           1,
           0,
           3
          ],
          [
           57,
           1,
           3,
           128,
           229,
           0,
           2,
           150,
           0,
           0.4000000059604645,
           2,
           1,
           7
          ],
          [
           52,
           1,
           4,
           128,
           255,
           0,
           0,
           161,
           1,
           0,
           1,
           1,
           7
          ],
          [
           59,
           1,
           4,
           110,
           239,
           0,
           2,
           142,
           1,
           1.2000000476837158,
           2,
           1,
           7
          ],
          [
           56,
           1,
           2,
           120,
           236,
           0,
           0,
           178,
           0,
           0.800000011920929,
           1,
           0,
           3
          ],
          [
           44,
           0,
           3,
           108,
           141,
           0,
           0,
           175,
           0,
           0.6000000238418579,
           2,
           0,
           3
          ],
          [
           57,
           1,
           4,
           140,
           192,
           0,
           0,
           148,
           0,
           0.4000000059604645,
           2,
           0,
           6
          ],
          [
           52,
           1,
           2,
           134,
           201,
           0,
           0,
           158,
           0,
           0.800000011920929,
           1,
           1,
           3
          ],
          [
           59,
           1,
           4,
           140,
           177,
           0,
           0,
           162,
           1,
           0,
           1,
           1,
           7
          ],
          [
           48,
           1,
           4,
           122,
           222,
           0,
           2,
           186,
           0,
           0,
           1,
           0,
           3
          ],
          [
           45,
           1,
           4,
           115,
           260,
           0,
           2,
           185,
           0,
           0,
           1,
           0,
           3
          ],
          [
           63,
           1,
           4,
           130,
           254,
           0,
           2,
           147,
           0,
           1.399999976158142,
           2,
           1,
           7
          ],
          [
           34,
           1,
           1,
           118,
           182,
           0,
           2,
           174,
           0,
           0,
           1,
           0,
           3
          ],
          [
           53,
           1,
           4,
           140,
           203,
           1,
           2,
           155,
           1,
           3.0999999046325684,
           3,
           0,
           7
          ],
          [
           62,
           1,
           3,
           130,
           231,
           0,
           0,
           146,
           0,
           1.7999999523162842,
           2,
           3,
           7
          ],
          [
           49,
           1,
           3,
           120,
           188,
           0,
           0,
           139,
           0,
           2,
           2,
           3,
           7
          ],
          [
           56,
           1,
           3,
           130,
           256,
           1,
           2,
           142,
           1,
           0.6000000238418579,
           2,
           1,
           6
          ],
          [
           52,
           1,
           1,
           118,
           186,
           0,
           2,
           190,
           0,
           0,
           2,
           0,
           6
          ],
          [
           51,
           0,
           3,
           130,
           256,
           0,
           2,
           149,
           0,
           0.5,
           1,
           0,
           3
          ],
          [
           54,
           1,
           4,
           140,
           239,
           0,
           0,
           160,
           0,
           1.2000000476837158,
           1,
           0,
           3
          ],
          [
           39,
           1,
           4,
           118,
           219,
           0,
           0,
           140,
           0,
           1.2000000476837158,
           2,
           0,
           7
          ],
          [
           56,
           1,
           4,
           125,
           249,
           1,
           2,
           144,
           1,
           1.2000000476837158,
           2,
           1,
           3
          ],
          [
           57,
           1,
           3,
           150,
           168,
           0,
           0,
           174,
           0,
           1.600000023841858,
           1,
           0,
           3
          ],
          [
           48,
           1,
           2,
           110,
           229,
           0,
           0,
           168,
           0,
           1,
           3,
           0,
           7
          ],
          [
           62,
           0,
           4,
           160,
           164,
           0,
           2,
           145,
           0,
           6.199999809265137,
           3,
           3,
           7
          ],
          [
           52,
           1,
           3,
           172,
           199,
           1,
           0,
           162,
           0,
           0.5,
           1,
           0,
           7
          ],
          [
           67,
           1,
           4,
           120,
           229,
           0,
           2,
           129,
           1,
           2.5999999046325684,
           2,
           2,
           7
          ]
         ],
         "hovertemplate": "Cluster=%{x}<br>age=%{customdata[0]}<br>sex=%{customdata[1]}<br>cp=%{customdata[2]}<br>trestbps=%{customdata[3]}<br>chol=%{customdata[4]}<br>fbs=%{customdata[5]}<br>restecg=%{customdata[6]}<br>thalach=%{customdata[7]}<br>exang=%{customdata[8]}<br>oldpeak=%{customdata[9]}<br>slope=%{customdata[10]}<br>ca=%{customdata[11]}<br>thal=%{customdata[12]}<extra></extra>",
         "legendgroup": "Cluster 0",
         "marker": {
          "color": "#636efa"
         },
         "name": "Cluster 0",
         "notched": true,
         "offsetgroup": "Cluster 0",
         "showlegend": false,
         "type": "box",
         "x": [
          "Cluster 0",
          "Cluster 0",
          "Cluster 0",
          "Cluster 0",
          "Cluster 0",
          "Cluster 0",
          "Cluster 0",
          "Cluster 0",
          "Cluster 0",
          "Cluster 0",
          "Cluster 0",
          "Cluster 0",
          "Cluster 0",
          "Cluster 0",
          "Cluster 0",
          "Cluster 0",
          "Cluster 0",
          "Cluster 0",
          "Cluster 0",
          "Cluster 0",
          "Cluster 0",
          "Cluster 0",
          "Cluster 0",
          "Cluster 0",
          "Cluster 0",
          "Cluster 0",
          "Cluster 0",
          "Cluster 0",
          "Cluster 0",
          "Cluster 0",
          "Cluster 0",
          "Cluster 0",
          "Cluster 0",
          "Cluster 0",
          "Cluster 0",
          "Cluster 0",
          "Cluster 0",
          "Cluster 0",
          "Cluster 0",
          "Cluster 0",
          "Cluster 0",
          "Cluster 0",
          "Cluster 0",
          "Cluster 0",
          "Cluster 0",
          "Cluster 0",
          "Cluster 0",
          "Cluster 0",
          "Cluster 0",
          "Cluster 0",
          "Cluster 0",
          "Cluster 0",
          "Cluster 0",
          "Cluster 0",
          "Cluster 0",
          "Cluster 0",
          "Cluster 0",
          "Cluster 0",
          "Cluster 0",
          "Cluster 0",
          "Cluster 0",
          "Cluster 0",
          "Cluster 0",
          "Cluster 0",
          "Cluster 0",
          "Cluster 0",
          "Cluster 0",
          "Cluster 0",
          "Cluster 0",
          "Cluster 0",
          "Cluster 0",
          "Cluster 0",
          "Cluster 0",
          "Cluster 0",
          "Cluster 0",
          "Cluster 0",
          "Cluster 0",
          "Cluster 0",
          "Cluster 0",
          "Cluster 0",
          "Cluster 0",
          "Cluster 0",
          "Cluster 0",
          "Cluster 0",
          "Cluster 0",
          "Cluster 0",
          "Cluster 0",
          "Cluster 0",
          "Cluster 0",
          "Cluster 0",
          "Cluster 0",
          "Cluster 0",
          "Cluster 0",
          "Cluster 0",
          "Cluster 0",
          "Cluster 0",
          "Cluster 0",
          "Cluster 0",
          "Cluster 0",
          "Cluster 0",
          "Cluster 0",
          "Cluster 0",
          "Cluster 0",
          "Cluster 0",
          "Cluster 0",
          "Cluster 0",
          "Cluster 0",
          "Cluster 0",
          "Cluster 0",
          "Cluster 0",
          "Cluster 0",
          "Cluster 0",
          "Cluster 0",
          "Cluster 0",
          "Cluster 0",
          "Cluster 0",
          "Cluster 0",
          "Cluster 0",
          "Cluster 0",
          "Cluster 0",
          "Cluster 0",
          "Cluster 0",
          "Cluster 0",
          "Cluster 0",
          "Cluster 0",
          "Cluster 0",
          "Cluster 0",
          "Cluster 0",
          "Cluster 0",
          "Cluster 0",
          "Cluster 0",
          "Cluster 0",
          "Cluster 0",
          "Cluster 0",
          "Cluster 0",
          "Cluster 0",
          "Cluster 0",
          "Cluster 0",
          "Cluster 0",
          "Cluster 0",
          "Cluster 0",
          "Cluster 0",
          "Cluster 0",
          "Cluster 0",
          "Cluster 0",
          "Cluster 0",
          "Cluster 0",
          "Cluster 0",
          "Cluster 0",
          "Cluster 0",
          "Cluster 0",
          "Cluster 0",
          "Cluster 0",
          "Cluster 0",
          "Cluster 0",
          "Cluster 0",
          "Cluster 0",
          "Cluster 0",
          "Cluster 0",
          "Cluster 0",
          "Cluster 0",
          "Cluster 0",
          "Cluster 0",
          "Cluster 0",
          "Cluster 0",
          "Cluster 0",
          "Cluster 0",
          "Cluster 0",
          "Cluster 0",
          "Cluster 0",
          "Cluster 0",
          "Cluster 0",
          "Cluster 0",
          "Cluster 0",
          "Cluster 0",
          "Cluster 0",
          "Cluster 0",
          "Cluster 0",
          "Cluster 0",
          "Cluster 0",
          "Cluster 0",
          "Cluster 0",
          "Cluster 0",
          "Cluster 0",
          "Cluster 0",
          "Cluster 0"
         ],
         "xaxis": "x2",
         "yaxis": "y2"
        },
        {
         "alignmentgroup": "True",
         "bingroup": "x",
         "hovertemplate": "Cluster=%{x}<br>count=%{y}<extra></extra>",
         "legendgroup": "Cluster 1",
         "marker": {
          "color": "#EF553B",
          "opacity": 0.7,
          "pattern": {
           "shape": ""
          }
         },
         "name": "Cluster 1",
         "offsetgroup": "Cluster 1",
         "orientation": "v",
         "showlegend": true,
         "type": "histogram",
         "x": [
          "Cluster 1",
          "Cluster 1",
          "Cluster 1",
          "Cluster 1",
          "Cluster 1",
          "Cluster 1",
          "Cluster 1",
          "Cluster 1",
          "Cluster 1",
          "Cluster 1",
          "Cluster 1",
          "Cluster 1",
          "Cluster 1",
          "Cluster 1",
          "Cluster 1",
          "Cluster 1",
          "Cluster 1",
          "Cluster 1",
          "Cluster 1",
          "Cluster 1",
          "Cluster 1",
          "Cluster 1",
          "Cluster 1",
          "Cluster 1",
          "Cluster 1",
          "Cluster 1",
          "Cluster 1",
          "Cluster 1",
          "Cluster 1",
          "Cluster 1",
          "Cluster 1",
          "Cluster 1",
          "Cluster 1",
          "Cluster 1",
          "Cluster 1",
          "Cluster 1",
          "Cluster 1",
          "Cluster 1",
          "Cluster 1",
          "Cluster 1",
          "Cluster 1",
          "Cluster 1",
          "Cluster 1",
          "Cluster 1",
          "Cluster 1",
          "Cluster 1",
          "Cluster 1",
          "Cluster 1",
          "Cluster 1",
          "Cluster 1",
          "Cluster 1",
          "Cluster 1",
          "Cluster 1",
          "Cluster 1",
          "Cluster 1",
          "Cluster 1",
          "Cluster 1",
          "Cluster 1",
          "Cluster 1",
          "Cluster 1",
          "Cluster 1",
          "Cluster 1",
          "Cluster 1",
          "Cluster 1",
          "Cluster 1",
          "Cluster 1",
          "Cluster 1",
          "Cluster 1",
          "Cluster 1",
          "Cluster 1",
          "Cluster 1",
          "Cluster 1",
          "Cluster 1",
          "Cluster 1",
          "Cluster 1",
          "Cluster 1",
          "Cluster 1",
          "Cluster 1",
          "Cluster 1",
          "Cluster 1",
          "Cluster 1",
          "Cluster 1",
          "Cluster 1",
          "Cluster 1",
          "Cluster 1",
          "Cluster 1",
          "Cluster 1",
          "Cluster 1",
          "Cluster 1",
          "Cluster 1",
          "Cluster 1",
          "Cluster 1",
          "Cluster 1",
          "Cluster 1",
          "Cluster 1",
          "Cluster 1",
          "Cluster 1",
          "Cluster 1",
          "Cluster 1",
          "Cluster 1",
          "Cluster 1",
          "Cluster 1",
          "Cluster 1",
          "Cluster 1",
          "Cluster 1",
          "Cluster 1",
          "Cluster 1",
          "Cluster 1",
          "Cluster 1",
          "Cluster 1",
          "Cluster 1"
         ],
         "xaxis": "x",
         "yaxis": "y"
        },
        {
         "alignmentgroup": "True",
         "customdata": [
          [
           41,
           0,
           2,
           126,
           306,
           0,
           0,
           163,
           0,
           0,
           1,
           0,
           3
          ],
          [
           62,
           0,
           4,
           140,
           268,
           0,
           2,
           160,
           0,
           3.5999999046325684,
           3,
           2,
           3
          ],
          [
           54,
           1,
           4,
           122,
           286,
           0,
           2,
           116,
           1,
           3.200000047683716,
           2,
           2,
           3
          ],
          [
           65,
           0,
           3,
           140,
           417,
           1,
           2,
           157,
           0,
           0.800000011920929,
           1,
           1,
           3
          ],
          [
           67,
           1,
           4,
           160,
           286,
           0,
           2,
           108,
           1,
           1.5,
           2,
           3,
           3
          ],
          [
           42,
           1,
           2,
           120,
           295,
           0,
           0,
           162,
           0,
           0,
           1,
           0,
           3
          ],
          [
           45,
           1,
           1,
           110,
           264,
           0,
           0,
           132,
           0,
           1.2000000476837158,
           2,
           0,
           7
          ],
          [
           49,
           0,
           4,
           130,
           269,
           0,
           0,
           163,
           0,
           0,
           1,
           0,
           3
          ],
          [
           49,
           0,
           2,
           134,
           271,
           0,
           0,
           162,
           0,
           0,
           2,
           0,
           3
          ],
          [
           55,
           0,
           4,
           180,
           327,
           0,
           1,
           117,
           1,
           3.4000000953674316,
           2,
           0,
           3
          ],
          [
           56,
           1,
           4,
           130,
           283,
           1,
           2,
           103,
           1,
           1.600000023841858,
           3,
           0,
           7
          ],
          [
           74,
           0,
           2,
           120,
           269,
           0,
           2,
           121,
           1,
           0.20000000298023224,
           1,
           1,
           3
          ],
          [
           61,
           0,
           4,
           130,
           330,
           0,
           2,
           169,
           0,
           0,
           1,
           0,
           3
          ],
          [
           66,
           0,
           3,
           146,
           278,
           0,
           2,
           152,
           0,
           0,
           2,
           1,
           3
          ],
          [
           55,
           1,
           4,
           132,
           353,
           0,
           0,
           132,
           1,
           1.2000000476837158,
           2,
           1,
           7
          ],
          [
           57,
           0,
           4,
           120,
           354,
           0,
           0,
           163,
           1,
           0.6000000238418579,
           1,
           0,
           3
          ],
          [
           58,
           0,
           1,
           150,
           283,
           1,
           2,
           162,
           0,
           1,
           1,
           0,
           3
          ],
          [
           48,
           0,
           3,
           130,
           275,
           0,
           0,
           139,
           0,
           0.20000000298023224,
           1,
           0,
           3
          ],
          [
           46,
           1,
           4,
           140,
           311,
           0,
           0,
           120,
           1,
           1.7999999523162842,
           2,
           2,
           7
          ],
          [
           58,
           1,
           2,
           120,
           284,
           0,
           2,
           160,
           0,
           1.7999999523162842,
           2,
           0,
           3
          ],
          [
           57,
           1,
           4,
           110,
           335,
           0,
           0,
           143,
           1,
           3,
           2,
           1,
           7
          ],
          [
           58,
           0,
           3,
           120,
           340,
           0,
           0,
           172,
           0,
           0,
           1,
           0,
           3
          ],
          [
           42,
           1,
           4,
           136,
           315,
           0,
           0,
           125,
           1,
           1.7999999523162842,
           2,
           0,
           6
          ],
          [
           44,
           1,
           2,
           120,
           263,
           0,
           0,
           173,
           0,
           0,
           1,
           0,
           7
          ],
          [
           58,
           0,
           2,
           136,
           319,
           1,
           2,
           152,
           0,
           0,
           1,
           2,
           3
          ],
          [
           71,
           0,
           2,
           160,
           302,
           0,
           0,
           162,
           0,
           0.4000000059604645,
           1,
           2,
           3
          ],
          [
           57,
           1,
           2,
           124,
           261,
           0,
           0,
           141,
           0,
           0.30000001192092896,
           1,
           0,
           7
          ],
          [
           64,
           1,
           3,
           140,
           335,
           0,
           0,
           158,
           0,
           0,
           1,
           0,
           3
          ],
          [
           56,
           0,
           2,
           140,
           294,
           0,
           2,
           153,
           0,
           1.2999999523162842,
           2,
           0,
           3
          ],
          [
           43,
           1,
           4,
           115,
           303,
           0,
           0,
           181,
           0,
           1.2000000476837158,
           2,
           0,
           3
          ],
          [
           51,
           0,
           3,
           120,
           295,
           0,
           2,
           157,
           0,
           0.6000000238418579,
           1,
           0,
           3
          ],
          [
           64,
           1,
           4,
           128,
           263,
           0,
           0,
           105,
           1,
           0.20000000298023224,
           2,
           1,
           7
          ],
          [
           57,
           1,
           4,
           150,
           276,
           0,
           2,
           112,
           1,
           0.6000000238418579,
           2,
           1,
           6
          ],
          [
           49,
           1,
           2,
           130,
           266,
           0,
           0,
           171,
           0,
           0.6000000238418579,
           1,
           0,
           3
          ],
          [
           47,
           1,
           4,
           110,
           275,
           0,
           2,
           118,
           1,
           1,
           2,
           1,
           3
          ],
          [
           55,
           0,
           2,
           132,
           342,
           0,
           0,
           166,
           0,
           1.2000000476837158,
           1,
           0,
           3
          ],
          [
           58,
           1,
           4,
           114,
           318,
           0,
           1,
           140,
           0,
           4.400000095367432,
           3,
           3,
           6
          ],
          [
           43,
           0,
           4,
           132,
           341,
           1,
           2,
           136,
           1,
           3,
           2,
           0,
           7
          ],
          [
           55,
           1,
           2,
           130,
           262,
           0,
           0,
           155,
           0,
           0,
           1,
           0,
           3
          ],
          [
           63,
           0,
           4,
           108,
           269,
           0,
           0,
           169,
           1,
           1.7999999523162842,
           2,
           2,
           3
          ],
          [
           42,
           0,
           4,
           102,
           265,
           0,
           2,
           122,
           0,
           0.6000000238418579,
           2,
           0,
           3
          ],
          [
           67,
           0,
           3,
           115,
           564,
           0,
           2,
           160,
           0,
           1.600000023841858,
           2,
           0,
           7
          ],
          [
           55,
           1,
           4,
           160,
           289,
           0,
           2,
           145,
           1,
           0.800000011920929,
           2,
           1,
           7
          ],
          [
           70,
           1,
           4,
           130,
           322,
           0,
           2,
           109,
           0,
           2.4000000953674316,
           2,
           3,
           3
          ],
          [
           51,
           1,
           4,
           140,
           299,
           0,
           0,
           173,
           1,
           1.600000023841858,
           1,
           0,
           7
          ],
          [
           58,
           1,
           4,
           125,
           300,
           0,
           2,
           171,
           0,
           0,
           1,
           2,
           7
          ],
          [
           52,
           1,
           1,
           152,
           298,
           1,
           0,
           178,
           0,
           1.2000000476837158,
           2,
           0,
           7
          ],
          [
           60,
           1,
           4,
           140,
           293,
           0,
           2,
           170,
           0,
           1.2000000476837158,
           2,
           2,
           7
          ],
          [
           77,
           1,
           4,
           125,
           304,
           0,
           2,
           162,
           1,
           0,
           1,
           3,
           3
          ],
          [
           52,
           1,
           2,
           120,
           325,
           0,
           0,
           172,
           0,
           0.20000000298023224,
           1,
           0,
           3
          ],
          [
           68,
           1,
           3,
           180,
           274,
           1,
           2,
           150,
           1,
           1.600000023841858,
           2,
           0,
           7
          ],
          [
           54,
           0,
           2,
           132,
           288,
           1,
           2,
           159,
           1,
           0,
           1,
           1,
           3
          ],
          [
           35,
           1,
           4,
           126,
           282,
           0,
           2,
           156,
           1,
           0,
           1,
           0,
           7
          ],
          [
           39,
           1,
           3,
           140,
           321,
           0,
           2,
           182,
           0,
           0,
           1,
           0,
           3
          ],
          [
           68,
           1,
           3,
           118,
           277,
           0,
           0,
           151,
           0,
           1,
           1,
           1,
           7
          ],
          [
           70,
           1,
           3,
           160,
           269,
           0,
           0,
           112,
           1,
           2.9000000953674316,
           2,
           1,
           7
          ],
          [
           66,
           1,
           4,
           120,
           302,
           0,
           2,
           151,
           0,
           0.4000000059604645,
           2,
           0,
           3
          ],
          [
           57,
           1,
           4,
           165,
           289,
           1,
           2,
           124,
           0,
           1,
           2,
           3,
           7
          ],
          [
           63,
           1,
           4,
           130,
           330,
           1,
           2,
           132,
           1,
           1.7999999523162842,
           1,
           3,
           7
          ],
          [
           61,
           0,
           4,
           145,
           307,
           0,
           2,
           146,
           1,
           1,
           2,
           0,
           7
          ],
          [
           63,
           0,
           4,
           150,
           407,
           0,
           2,
           154,
           0,
           4,
           2,
           3,
           7
          ],
          [
           61,
           1,
           4,
           120,
           260,
           0,
           0,
           140,
           1,
           3.5999999046325684,
           2,
           1,
           7
          ],
          [
           65,
           1,
           1,
           138,
           282,
           1,
           2,
           174,
           0,
           1.399999976158142,
           2,
           1,
           3
          ],
          [
           56,
           0,
           4,
           200,
           288,
           1,
           2,
           133,
           1,
           4,
           3,
           2,
           7
          ],
          [
           45,
           1,
           2,
           128,
           308,
           0,
           2,
           170,
           0,
           0,
           1,
           0,
           3
          ],
          [
           54,
           1,
           2,
           108,
           309,
           0,
           0,
           156,
           0,
           0,
           1,
           0,
           7
          ],
          [
           57,
           0,
           4,
           128,
           303,
           0,
           2,
           159,
           0,
           0,
           1,
           1,
           3
          ],
          [
           51,
           1,
           4,
           140,
           261,
           0,
           2,
           186,
           1,
           0,
           1,
           0,
           3
          ],
          [
           62,
           1,
           2,
           120,
           281,
           0,
           2,
           103,
           0,
           1.399999976158142,
           2,
           1,
           7
          ],
          [
           60,
           0,
           4,
           150,
           258,
           0,
           2,
           157,
           0,
           2.5999999046325684,
           2,
           2,
           7
          ],
          [
           59,
           1,
           1,
           170,
           288,
           0,
           2,
           159,
           0,
           0.20000000298023224,
           2,
           0,
           7
          ],
          [
           64,
           1,
           3,
           125,
           309,
           0,
           0,
           131,
           1,
           1.7999999523162842,
           2,
           0,
           7
          ],
          [
           71,
           0,
           3,
           110,
           265,
           1,
           2,
           130,
           0,
           0,
           1,
           1,
           3
          ],
          [
           53,
           0,
           4,
           130,
           264,
           0,
           2,
           143,
           0,
           0.4000000059604645,
           2,
           0,
           3
          ],
          [
           62,
           0,
           4,
           140,
           394,
           0,
           2,
           157,
           0,
           1.2000000476837158,
           2,
           0,
           3
          ],
          [
           58,
           1,
           4,
           150,
           270,
           0,
           2,
           111,
           1,
           0.800000011920929,
           1,
           0,
           7
          ],
          [
           64,
           0,
           3,
           140,
           313,
           0,
           0,
           133,
           0,
           0.20000000298023224,
           1,
           0,
           7
          ],
          [
           54,
           0,
           3,
           135,
           304,
           1,
           0,
           170,
           0,
           0,
           1,
           0,
           3
          ],
          [
           45,
           1,
           4,
           142,
           309,
           0,
           2,
           147,
           1,
           0,
           2,
           3,
           7
          ],
          [
           58,
           1,
           4,
           128,
           259,
           0,
           2,
           130,
           1,
           3,
           2,
           2,
           7
          ],
          [
           62,
           0,
           3,
           130,
           263,
           0,
           0,
           97,
           0,
           1.2000000476837158,
           2,
           1,
           7
          ],
          [
           51,
           0,
           4,
           130,
           305,
           0,
           0,
           142,
           1,
           1.2000000476837158,
           2,
           0,
           7
          ],
          [
           64,
           0,
           4,
           180,
           325,
           0,
           0,
           154,
           1,
           0,
           1,
           0,
           3
          ],
          [
           54,
           1,
           3,
           125,
           273,
           0,
           2,
           152,
           0,
           0.5,
           3,
           1,
           3
          ],
          [
           64,
           0,
           4,
           130,
           303,
           0,
           0,
           122,
           0,
           2,
           2,
           2,
           3
          ],
          [
           59,
           1,
           4,
           138,
           271,
           0,
           2,
           182,
           0,
           0,
           1,
           0,
           3
          ],
          [
           41,
           0,
           3,
           112,
           268,
           0,
           2,
           172,
           1,
           0,
           1,
           0,
           3
          ],
          [
           54,
           0,
           3,
           108,
           267,
           0,
           2,
           167,
           0,
           0,
           1,
           0,
           3
          ],
          [
           44,
           1,
           4,
           112,
           290,
           0,
           2,
           153,
           0,
           0,
           1,
           1,
           3
          ],
          [
           53,
           1,
           4,
           123,
           282,
           0,
           0,
           95,
           1,
           2,
           2,
           2,
           7
          ],
          [
           54,
           1,
           4,
           124,
           266,
           0,
           2,
           109,
           1,
           2.200000047683716,
           2,
           1,
           7
          ],
          [
           60,
           1,
           4,
           145,
           282,
           0,
           2,
           142,
           1,
           2.799999952316284,
           2,
           2,
           7
          ],
          [
           59,
           1,
           1,
           160,
           273,
           0,
           2,
           125,
           0,
           0,
           1,
           0,
           3
          ],
          [
           59,
           1,
           4,
           170,
           326,
           0,
           2,
           140,
           1,
           3.4000000953674316,
           3,
           0,
           7
          ],
          [
           57,
           1,
           4,
           152,
           274,
           0,
           0,
           88,
           1,
           1.2000000476837158,
           2,
           1,
           7
          ],
          [
           51,
           0,
           3,
           140,
           308,
           0,
           2,
           142,
           0,
           1.5,
           1,
           1,
           3
          ],
          [
           43,
           1,
           3,
           130,
           315,
           0,
           0,
           162,
           0,
           1.899999976158142,
           1,
           1,
           3
          ],
          [
           60,
           1,
           4,
           125,
           258,
           0,
           2,
           141,
           1,
           2.799999952316284,
           2,
           1,
           7
          ],
          [
           48,
           1,
           4,
           124,
           274,
           0,
           2,
           166,
           0,
           0.5,
           2,
           0,
           7
          ],
          [
           56,
           0,
           4,
           134,
           409,
           0,
           2,
           150,
           1,
           1.899999976158142,
           2,
           2,
           7
          ],
          [
           65,
           0,
           3,
           160,
           360,
           0,
           2,
           151,
           0,
           0.800000011920929,
           1,
           0,
           3
          ],
          [
           59,
           1,
           1,
           178,
           270,
           0,
           2,
           145,
           0,
           4.199999809265137,
           3,
           0,
           7
          ],
          [
           60,
           0,
           4,
           158,
           305,
           0,
           2,
           161,
           0,
           0,
           1,
           0,
           3
          ],
          [
           62,
           1,
           4,
           120,
           267,
           0,
           0,
           99,
           1,
           1.7999999523162842,
           2,
           2,
           7
          ],
          [
           54,
           1,
           2,
           192,
           283,
           0,
           2,
           195,
           0,
           0,
           1,
           1,
           7
          ],
          [
           65,
           0,
           3,
           155,
           269,
           0,
           0,
           148,
           0,
           0.800000011920929,
           1,
           0,
           3
          ],
          [
           51,
           1,
           4,
           140,
           298,
           0,
           0,
           122,
           1,
           4.199999809265137,
           2,
           3,
           7
          ],
          [
           62,
           0,
           4,
           138,
           294,
           1,
           0,
           106,
           0,
           1.899999976158142,
           2,
           3,
           3
          ],
          [
           67,
           1,
           4,
           100,
           299,
           0,
           2,
           125,
           1,
           0.8999999761581421,
           2,
           2,
           3
          ],
          [
           67,
           0,
           3,
           152,
           277,
           0,
           0,
           172,
           0,
           0,
           1,
           1,
           3
          ],
          [
           60,
           0,
           3,
           102,
           318,
           0,
           0,
           160,
           0,
           0,
           1,
           1,
           3
          ]
         ],
         "hovertemplate": "Cluster=%{x}<br>age=%{customdata[0]}<br>sex=%{customdata[1]}<br>cp=%{customdata[2]}<br>trestbps=%{customdata[3]}<br>chol=%{customdata[4]}<br>fbs=%{customdata[5]}<br>restecg=%{customdata[6]}<br>thalach=%{customdata[7]}<br>exang=%{customdata[8]}<br>oldpeak=%{customdata[9]}<br>slope=%{customdata[10]}<br>ca=%{customdata[11]}<br>thal=%{customdata[12]}<extra></extra>",
         "legendgroup": "Cluster 1",
         "marker": {
          "color": "#EF553B"
         },
         "name": "Cluster 1",
         "notched": true,
         "offsetgroup": "Cluster 1",
         "showlegend": false,
         "type": "box",
         "x": [
          "Cluster 1",
          "Cluster 1",
          "Cluster 1",
          "Cluster 1",
          "Cluster 1",
          "Cluster 1",
          "Cluster 1",
          "Cluster 1",
          "Cluster 1",
          "Cluster 1",
          "Cluster 1",
          "Cluster 1",
          "Cluster 1",
          "Cluster 1",
          "Cluster 1",
          "Cluster 1",
          "Cluster 1",
          "Cluster 1",
          "Cluster 1",
          "Cluster 1",
          "Cluster 1",
          "Cluster 1",
          "Cluster 1",
          "Cluster 1",
          "Cluster 1",
          "Cluster 1",
          "Cluster 1",
          "Cluster 1",
          "Cluster 1",
          "Cluster 1",
          "Cluster 1",
          "Cluster 1",
          "Cluster 1",
          "Cluster 1",
          "Cluster 1",
          "Cluster 1",
          "Cluster 1",
          "Cluster 1",
          "Cluster 1",
          "Cluster 1",
          "Cluster 1",
          "Cluster 1",
          "Cluster 1",
          "Cluster 1",
          "Cluster 1",
          "Cluster 1",
          "Cluster 1",
          "Cluster 1",
          "Cluster 1",
          "Cluster 1",
          "Cluster 1",
          "Cluster 1",
          "Cluster 1",
          "Cluster 1",
          "Cluster 1",
          "Cluster 1",
          "Cluster 1",
          "Cluster 1",
          "Cluster 1",
          "Cluster 1",
          "Cluster 1",
          "Cluster 1",
          "Cluster 1",
          "Cluster 1",
          "Cluster 1",
          "Cluster 1",
          "Cluster 1",
          "Cluster 1",
          "Cluster 1",
          "Cluster 1",
          "Cluster 1",
          "Cluster 1",
          "Cluster 1",
          "Cluster 1",
          "Cluster 1",
          "Cluster 1",
          "Cluster 1",
          "Cluster 1",
          "Cluster 1",
          "Cluster 1",
          "Cluster 1",
          "Cluster 1",
          "Cluster 1",
          "Cluster 1",
          "Cluster 1",
          "Cluster 1",
          "Cluster 1",
          "Cluster 1",
          "Cluster 1",
          "Cluster 1",
          "Cluster 1",
          "Cluster 1",
          "Cluster 1",
          "Cluster 1",
          "Cluster 1",
          "Cluster 1",
          "Cluster 1",
          "Cluster 1",
          "Cluster 1",
          "Cluster 1",
          "Cluster 1",
          "Cluster 1",
          "Cluster 1",
          "Cluster 1",
          "Cluster 1",
          "Cluster 1",
          "Cluster 1",
          "Cluster 1",
          "Cluster 1",
          "Cluster 1",
          "Cluster 1"
         ],
         "xaxis": "x2",
         "yaxis": "y2"
        }
       ],
       "layout": {
        "barmode": "relative",
        "height": 600,
        "legend": {
         "title": {
          "text": "Cluster"
         },
         "tracegroupgap": 0
        },
        "margin": {
         "t": 60
        },
        "template": {
         "data": {
          "bar": [
           {
            "error_x": {
             "color": "#2a3f5f"
            },
            "error_y": {
             "color": "#2a3f5f"
            },
            "marker": {
             "line": {
              "color": "#E5ECF6",
              "width": 0.5
             },
             "pattern": {
              "fillmode": "overlay",
              "size": 10,
              "solidity": 0.2
             }
            },
            "type": "bar"
           }
          ],
          "barpolar": [
           {
            "marker": {
             "line": {
              "color": "#E5ECF6",
              "width": 0.5
             },
             "pattern": {
              "fillmode": "overlay",
              "size": 10,
              "solidity": 0.2
             }
            },
            "type": "barpolar"
           }
          ],
          "carpet": [
           {
            "aaxis": {
             "endlinecolor": "#2a3f5f",
             "gridcolor": "white",
             "linecolor": "white",
             "minorgridcolor": "white",
             "startlinecolor": "#2a3f5f"
            },
            "baxis": {
             "endlinecolor": "#2a3f5f",
             "gridcolor": "white",
             "linecolor": "white",
             "minorgridcolor": "white",
             "startlinecolor": "#2a3f5f"
            },
            "type": "carpet"
           }
          ],
          "choropleth": [
           {
            "colorbar": {
             "outlinewidth": 0,
             "ticks": ""
            },
            "type": "choropleth"
           }
          ],
          "contour": [
           {
            "colorbar": {
             "outlinewidth": 0,
             "ticks": ""
            },
            "colorscale": [
             [
              0,
              "#0d0887"
             ],
             [
              0.1111111111111111,
              "#46039f"
             ],
             [
              0.2222222222222222,
              "#7201a8"
             ],
             [
              0.3333333333333333,
              "#9c179e"
             ],
             [
              0.4444444444444444,
              "#bd3786"
             ],
             [
              0.5555555555555556,
              "#d8576b"
             ],
             [
              0.6666666666666666,
              "#ed7953"
             ],
             [
              0.7777777777777778,
              "#fb9f3a"
             ],
             [
              0.8888888888888888,
              "#fdca26"
             ],
             [
              1,
              "#f0f921"
             ]
            ],
            "type": "contour"
           }
          ],
          "contourcarpet": [
           {
            "colorbar": {
             "outlinewidth": 0,
             "ticks": ""
            },
            "type": "contourcarpet"
           }
          ],
          "heatmap": [
           {
            "colorbar": {
             "outlinewidth": 0,
             "ticks": ""
            },
            "colorscale": [
             [
              0,
              "#0d0887"
             ],
             [
              0.1111111111111111,
              "#46039f"
             ],
             [
              0.2222222222222222,
              "#7201a8"
             ],
             [
              0.3333333333333333,
              "#9c179e"
             ],
             [
              0.4444444444444444,
              "#bd3786"
             ],
             [
              0.5555555555555556,
              "#d8576b"
             ],
             [
              0.6666666666666666,
              "#ed7953"
             ],
             [
              0.7777777777777778,
              "#fb9f3a"
             ],
             [
              0.8888888888888888,
              "#fdca26"
             ],
             [
              1,
              "#f0f921"
             ]
            ],
            "type": "heatmap"
           }
          ],
          "heatmapgl": [
           {
            "colorbar": {
             "outlinewidth": 0,
             "ticks": ""
            },
            "colorscale": [
             [
              0,
              "#0d0887"
             ],
             [
              0.1111111111111111,
              "#46039f"
             ],
             [
              0.2222222222222222,
              "#7201a8"
             ],
             [
              0.3333333333333333,
              "#9c179e"
             ],
             [
              0.4444444444444444,
              "#bd3786"
             ],
             [
              0.5555555555555556,
              "#d8576b"
             ],
             [
              0.6666666666666666,
              "#ed7953"
             ],
             [
              0.7777777777777778,
              "#fb9f3a"
             ],
             [
              0.8888888888888888,
              "#fdca26"
             ],
             [
              1,
              "#f0f921"
             ]
            ],
            "type": "heatmapgl"
           }
          ],
          "histogram": [
           {
            "marker": {
             "pattern": {
              "fillmode": "overlay",
              "size": 10,
              "solidity": 0.2
             }
            },
            "type": "histogram"
           }
          ],
          "histogram2d": [
           {
            "colorbar": {
             "outlinewidth": 0,
             "ticks": ""
            },
            "colorscale": [
             [
              0,
              "#0d0887"
             ],
             [
              0.1111111111111111,
              "#46039f"
             ],
             [
              0.2222222222222222,
              "#7201a8"
             ],
             [
              0.3333333333333333,
              "#9c179e"
             ],
             [
              0.4444444444444444,
              "#bd3786"
             ],
             [
              0.5555555555555556,
              "#d8576b"
             ],
             [
              0.6666666666666666,
              "#ed7953"
             ],
             [
              0.7777777777777778,
              "#fb9f3a"
             ],
             [
              0.8888888888888888,
              "#fdca26"
             ],
             [
              1,
              "#f0f921"
             ]
            ],
            "type": "histogram2d"
           }
          ],
          "histogram2dcontour": [
           {
            "colorbar": {
             "outlinewidth": 0,
             "ticks": ""
            },
            "colorscale": [
             [
              0,
              "#0d0887"
             ],
             [
              0.1111111111111111,
              "#46039f"
             ],
             [
              0.2222222222222222,
              "#7201a8"
             ],
             [
              0.3333333333333333,
              "#9c179e"
             ],
             [
              0.4444444444444444,
              "#bd3786"
             ],
             [
              0.5555555555555556,
              "#d8576b"
             ],
             [
              0.6666666666666666,
              "#ed7953"
             ],
             [
              0.7777777777777778,
              "#fb9f3a"
             ],
             [
              0.8888888888888888,
              "#fdca26"
             ],
             [
              1,
              "#f0f921"
             ]
            ],
            "type": "histogram2dcontour"
           }
          ],
          "mesh3d": [
           {
            "colorbar": {
             "outlinewidth": 0,
             "ticks": ""
            },
            "type": "mesh3d"
           }
          ],
          "parcoords": [
           {
            "line": {
             "colorbar": {
              "outlinewidth": 0,
              "ticks": ""
             }
            },
            "type": "parcoords"
           }
          ],
          "pie": [
           {
            "automargin": true,
            "type": "pie"
           }
          ],
          "scatter": [
           {
            "fillpattern": {
             "fillmode": "overlay",
             "size": 10,
             "solidity": 0.2
            },
            "type": "scatter"
           }
          ],
          "scatter3d": [
           {
            "line": {
             "colorbar": {
              "outlinewidth": 0,
              "ticks": ""
             }
            },
            "marker": {
             "colorbar": {
              "outlinewidth": 0,
              "ticks": ""
             }
            },
            "type": "scatter3d"
           }
          ],
          "scattercarpet": [
           {
            "marker": {
             "colorbar": {
              "outlinewidth": 0,
              "ticks": ""
             }
            },
            "type": "scattercarpet"
           }
          ],
          "scattergeo": [
           {
            "marker": {
             "colorbar": {
              "outlinewidth": 0,
              "ticks": ""
             }
            },
            "type": "scattergeo"
           }
          ],
          "scattergl": [
           {
            "marker": {
             "colorbar": {
              "outlinewidth": 0,
              "ticks": ""
             }
            },
            "type": "scattergl"
           }
          ],
          "scattermapbox": [
           {
            "marker": {
             "colorbar": {
              "outlinewidth": 0,
              "ticks": ""
             }
            },
            "type": "scattermapbox"
           }
          ],
          "scatterpolar": [
           {
            "marker": {
             "colorbar": {
              "outlinewidth": 0,
              "ticks": ""
             }
            },
            "type": "scatterpolar"
           }
          ],
          "scatterpolargl": [
           {
            "marker": {
             "colorbar": {
              "outlinewidth": 0,
              "ticks": ""
             }
            },
            "type": "scatterpolargl"
           }
          ],
          "scatterternary": [
           {
            "marker": {
             "colorbar": {
              "outlinewidth": 0,
              "ticks": ""
             }
            },
            "type": "scatterternary"
           }
          ],
          "surface": [
           {
            "colorbar": {
             "outlinewidth": 0,
             "ticks": ""
            },
            "colorscale": [
             [
              0,
              "#0d0887"
             ],
             [
              0.1111111111111111,
              "#46039f"
             ],
             [
              0.2222222222222222,
              "#7201a8"
             ],
             [
              0.3333333333333333,
              "#9c179e"
             ],
             [
              0.4444444444444444,
              "#bd3786"
             ],
             [
              0.5555555555555556,
              "#d8576b"
             ],
             [
              0.6666666666666666,
              "#ed7953"
             ],
             [
              0.7777777777777778,
              "#fb9f3a"
             ],
             [
              0.8888888888888888,
              "#fdca26"
             ],
             [
              1,
              "#f0f921"
             ]
            ],
            "type": "surface"
           }
          ],
          "table": [
           {
            "cells": {
             "fill": {
              "color": "#EBF0F8"
             },
             "line": {
              "color": "white"
             }
            },
            "header": {
             "fill": {
              "color": "#C8D4E3"
             },
             "line": {
              "color": "white"
             }
            },
            "type": "table"
           }
          ]
         },
         "layout": {
          "annotationdefaults": {
           "arrowcolor": "#2a3f5f",
           "arrowhead": 0,
           "arrowwidth": 1
          },
          "autotypenumbers": "strict",
          "coloraxis": {
           "colorbar": {
            "outlinewidth": 0,
            "ticks": ""
           }
          },
          "colorscale": {
           "diverging": [
            [
             0,
             "#8e0152"
            ],
            [
             0.1,
             "#c51b7d"
            ],
            [
             0.2,
             "#de77ae"
            ],
            [
             0.3,
             "#f1b6da"
            ],
            [
             0.4,
             "#fde0ef"
            ],
            [
             0.5,
             "#f7f7f7"
            ],
            [
             0.6,
             "#e6f5d0"
            ],
            [
             0.7,
             "#b8e186"
            ],
            [
             0.8,
             "#7fbc41"
            ],
            [
             0.9,
             "#4d9221"
            ],
            [
             1,
             "#276419"
            ]
           ],
           "sequential": [
            [
             0,
             "#0d0887"
            ],
            [
             0.1111111111111111,
             "#46039f"
            ],
            [
             0.2222222222222222,
             "#7201a8"
            ],
            [
             0.3333333333333333,
             "#9c179e"
            ],
            [
             0.4444444444444444,
             "#bd3786"
            ],
            [
             0.5555555555555556,
             "#d8576b"
            ],
            [
             0.6666666666666666,
             "#ed7953"
            ],
            [
             0.7777777777777778,
             "#fb9f3a"
            ],
            [
             0.8888888888888888,
             "#fdca26"
            ],
            [
             1,
             "#f0f921"
            ]
           ],
           "sequentialminus": [
            [
             0,
             "#0d0887"
            ],
            [
             0.1111111111111111,
             "#46039f"
            ],
            [
             0.2222222222222222,
             "#7201a8"
            ],
            [
             0.3333333333333333,
             "#9c179e"
            ],
            [
             0.4444444444444444,
             "#bd3786"
            ],
            [
             0.5555555555555556,
             "#d8576b"
            ],
            [
             0.6666666666666666,
             "#ed7953"
            ],
            [
             0.7777777777777778,
             "#fb9f3a"
            ],
            [
             0.8888888888888888,
             "#fdca26"
            ],
            [
             1,
             "#f0f921"
            ]
           ]
          },
          "colorway": [
           "#636efa",
           "#EF553B",
           "#00cc96",
           "#ab63fa",
           "#FFA15A",
           "#19d3f3",
           "#FF6692",
           "#B6E880",
           "#FF97FF",
           "#FECB52"
          ],
          "font": {
           "color": "#2a3f5f"
          },
          "geo": {
           "bgcolor": "white",
           "lakecolor": "white",
           "landcolor": "#E5ECF6",
           "showlakes": true,
           "showland": true,
           "subunitcolor": "white"
          },
          "hoverlabel": {
           "align": "left"
          },
          "hovermode": "closest",
          "mapbox": {
           "style": "light"
          },
          "paper_bgcolor": "white",
          "plot_bgcolor": "#E5ECF6",
          "polar": {
           "angularaxis": {
            "gridcolor": "white",
            "linecolor": "white",
            "ticks": ""
           },
           "bgcolor": "#E5ECF6",
           "radialaxis": {
            "gridcolor": "white",
            "linecolor": "white",
            "ticks": ""
           }
          },
          "scene": {
           "xaxis": {
            "backgroundcolor": "#E5ECF6",
            "gridcolor": "white",
            "gridwidth": 2,
            "linecolor": "white",
            "showbackground": true,
            "ticks": "",
            "zerolinecolor": "white"
           },
           "yaxis": {
            "backgroundcolor": "#E5ECF6",
            "gridcolor": "white",
            "gridwidth": 2,
            "linecolor": "white",
            "showbackground": true,
            "ticks": "",
            "zerolinecolor": "white"
           },
           "zaxis": {
            "backgroundcolor": "#E5ECF6",
            "gridcolor": "white",
            "gridwidth": 2,
            "linecolor": "white",
            "showbackground": true,
            "ticks": "",
            "zerolinecolor": "white"
           }
          },
          "shapedefaults": {
           "line": {
            "color": "#2a3f5f"
           }
          },
          "ternary": {
           "aaxis": {
            "gridcolor": "white",
            "linecolor": "white",
            "ticks": ""
           },
           "baxis": {
            "gridcolor": "white",
            "linecolor": "white",
            "ticks": ""
           },
           "bgcolor": "#E5ECF6",
           "caxis": {
            "gridcolor": "white",
            "linecolor": "white",
            "ticks": ""
           }
          },
          "title": {
           "x": 0.05
          },
          "xaxis": {
           "automargin": true,
           "gridcolor": "white",
           "linecolor": "white",
           "ticks": "",
           "title": {
            "standoff": 15
           },
           "zerolinecolor": "white",
           "zerolinewidth": 2
          },
          "yaxis": {
           "automargin": true,
           "gridcolor": "white",
           "linecolor": "white",
           "ticks": "",
           "title": {
            "standoff": 15
           },
           "zerolinecolor": "white",
           "zerolinewidth": 2
          }
         }
        },
        "xaxis": {
         "anchor": "y",
         "categoryarray": [
          "Cluster 0",
          "Cluster 1"
         ],
         "categoryorder": "array",
         "domain": [
          0,
          1
         ],
         "title": {
          "text": "Cluster"
         }
        },
        "xaxis2": {
         "anchor": "y2",
         "domain": [
          0,
          1
         ],
         "matches": "x",
         "showgrid": true,
         "showticklabels": false
        },
        "yaxis": {
         "anchor": "x",
         "domain": [
          0,
          0.7326
         ],
         "title": {
          "text": "count"
         }
        },
        "yaxis2": {
         "anchor": "x2",
         "domain": [
          0.7426,
          1
         ],
         "matches": "y2",
         "showgrid": false,
         "showline": false,
         "showticklabels": false,
         "ticks": ""
        }
       }
      }
     },
     "metadata": {},
     "output_type": "display_data"
    }
   ],
   "source": [
    "clust.plot_model(kmeans, plot=\"distribution\")"
   ]
  },
  {
   "cell_type": "code",
   "execution_count": null,
   "metadata": {},
   "outputs": [],
   "source": []
  }
 ],
 "metadata": {
  "kernelspec": {
   "display_name": "venv",
   "language": "python",
   "name": "python3"
  },
  "language_info": {
   "codemirror_mode": {
    "name": "ipython",
    "version": 3
   },
   "file_extension": ".py",
   "mimetype": "text/x-python",
   "name": "python",
   "nbconvert_exporter": "python",
   "pygments_lexer": "ipython3",
   "version": "3.10.11"
  }
 },
 "nbformat": 4,
 "nbformat_minor": 2
}
